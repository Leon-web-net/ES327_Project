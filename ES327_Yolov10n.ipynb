{
  "cells": [
    {
      "cell_type": "markdown",
      "metadata": {
        "id": "view-in-github",
        "colab_type": "text"
      },
      "source": [
        "<a href=\"https://colab.research.google.com/github/Leon-web-net/ES327_Project/blob/main/ES327_Yolov10n.ipynb\" target=\"_parent\"><img src=\"https://colab.research.google.com/assets/colab-badge.svg\" alt=\"Open In Colab\"/></a>"
      ]
    },
    {
      "cell_type": "code",
      "execution_count": null,
      "metadata": {
        "colab": {
          "base_uri": "https://localhost:8080/"
        },
        "id": "SOT43CRwYwbY",
        "outputId": "66c2568c-9be5-4b57-c919-52f6f0321b11"
      },
      "outputs": [
        {
          "output_type": "stream",
          "name": "stdout",
          "text": [
            "Ultralytics 8.3.139 🚀 Python-3.11.12 torch-2.6.0+cu124 CUDA:0 (Tesla T4, 15095MiB)\n",
            "Setup complete ✅ (2 CPUs, 12.7 GB RAM, 41.3/112.6 GB disk)\n"
          ]
        }
      ],
      "source": [
        "!pip install ultralytics\n",
        "import ultralytics\n",
        "ultralytics.checks()"
      ]
    },
    {
      "cell_type": "code",
      "execution_count": null,
      "metadata": {
        "colab": {
          "base_uri": "https://localhost:8080/"
        },
        "id": "4YiWWxV6PbI4",
        "outputId": "4fea098a-3865-4fdf-d19b-3738f6ec9f31"
      },
      "outputs": [
        {
          "output_type": "stream",
          "name": "stdout",
          "text": [
            "/content/drive/MyDrive\n"
          ]
        }
      ],
      "source": [
        "%cd /content/drive/MyDrive"
      ]
    },
    {
      "cell_type": "code",
      "execution_count": null,
      "metadata": {
        "id": "MGdZ7lIoZDzf"
      },
      "outputs": [],
      "source": [
        "import shutil\n",
        "\n",
        "shutil.rmtree('runs/detect/delete')"
      ]
    },
    {
      "cell_type": "code",
      "execution_count": null,
      "metadata": {
        "colab": {
          "base_uri": "https://localhost:8080/"
        },
        "id": "FxeyJv7ApMBY",
        "outputId": "a9b2afaf-edf3-44ac-b358-75d0df763109"
      },
      "outputs": [
        {
          "name": "stdout",
          "output_type": "stream",
          "text": [
            "YOLOv3 summary: 180 layers, 103,697,090 parameters, 0 gradients, 283.0 GFLOPs\n"
          ]
        },
        {
          "data": {
            "text/plain": [
              "(180, 103697090, 0, 283.00190719999995)"
            ]
          },
          "execution_count": 4,
          "metadata": {},
          "output_type": "execute_result"
        }
      ],
      "source": [
        "# Model info\n",
        "from ultralytics import YOLO\n",
        "\n",
        "model_info_path = \"./runs/detect/yolov3/weights/best.pt\"\n",
        "model = YOLO(model_info_path)\n",
        "model.info()"
      ]
    },
    {
      "cell_type": "markdown",
      "source": [
        "Example"
      ],
      "metadata": {
        "id": "w7KTi66MphMN"
      }
    },
    {
      "cell_type": "code",
      "source": [
        "from os.path import exists\n",
        "# Model validation\n",
        "from ultralytics import YOLO\n",
        "import torch\n",
        "import os\n",
        "\n",
        "model_path = \"./runs/detect/yolo10l/weights/best.pt\"\n",
        "model = YOLO(model_path)\n",
        "save_path = \"./runs/detect/\"\n",
        "\n",
        "# Base name for the image and annotation files\n",
        "base_img_name = \"0000\"  # Base name for the image files\n",
        "base_ann_name = \"0000\"  # Base name for the annotation files\n",
        "\n",
        "# Range of numbers to loop through (e.g., 0001 to 0010)\n",
        "start_num = 41\n",
        "end_num = 50  # Adjust this based on the number of images you want to process\n",
        "\n",
        "# Loop through the range of numbers\n",
        "for num in range(start_num, end_num + 1):\n",
        "    # Format the number to match the file naming convention (e.g., 0001, 0002, etc.)\n",
        "    num_str = f\"{num:04d}\"  # Ensures the number is 4 digits (e.g., 0001, 0002)\n",
        "\n",
        "    # Construct the image and annotation paths\n",
        "    img = base_img_name + num_str\n",
        "    ann_path = f\"./datasets/Nuim_dataset_Yv8_test/labels/val/{img}.txt\"\n",
        "    img_path = f\"./datasets/Nuim_dataset_Yv8_test/images/val/{img}.jpg\"\n",
        "\n",
        "    # Check if the image file exists\n",
        "    if not os.path.exists(img_path):\n",
        "        print(f\"Image not found: {img_path}\")\n",
        "        continue  # Skip to the next iteration if the image doesn't exist\n",
        "\n",
        "    # Run prediction on the image\n",
        "    print(f\"Processing image: {img_path}\")\n",
        "    model.predict(\n",
        "        img_path,\n",
        "        save=True,          # Save the results\n",
        "        imgsz=640,          # Image size for inference\n",
        "        verbose=False,      # Disable verbose output\n",
        "        conf=0.5,           # Confidence threshold\n",
        "        project=save_path,  # Directory to save results\n",
        "        name=\"\",            # Prevents creation of a new subfolder\n",
        "        line_width=3,        # Line width for bounding boxes\n",
        "        exist_ok =True\n",
        "    )\n",
        "\n",
        "print(\"Prediction loop completed.\")\n",
        "\n",
        "# 41 45 47 50"
      ],
      "metadata": {
        "colab": {
          "base_uri": "https://localhost:8080/"
        },
        "id": "Qws76DWhpgXt",
        "outputId": "2ce87edc-9f83-4629-926d-ec7ea2de0bea"
      },
      "execution_count": null,
      "outputs": [
        {
          "output_type": "stream",
          "name": "stdout",
          "text": [
            "Processing image: ./datasets/Nuim_dataset_Yv8_test/images/val/00000041.jpg\n",
            "Results saved to \u001b[1mruns/detect/predict\u001b[0m\n",
            "Processing image: ./datasets/Nuim_dataset_Yv8_test/images/val/00000042.jpg\n",
            "Results saved to \u001b[1mruns/detect/predict\u001b[0m\n",
            "Processing image: ./datasets/Nuim_dataset_Yv8_test/images/val/00000043.jpg\n",
            "Results saved to \u001b[1mruns/detect/predict\u001b[0m\n",
            "Processing image: ./datasets/Nuim_dataset_Yv8_test/images/val/00000044.jpg\n",
            "Results saved to \u001b[1mruns/detect/predict\u001b[0m\n",
            "Processing image: ./datasets/Nuim_dataset_Yv8_test/images/val/00000045.jpg\n",
            "Results saved to \u001b[1mruns/detect/predict\u001b[0m\n",
            "Processing image: ./datasets/Nuim_dataset_Yv8_test/images/val/00000046.jpg\n",
            "Results saved to \u001b[1mruns/detect/predict\u001b[0m\n",
            "Processing image: ./datasets/Nuim_dataset_Yv8_test/images/val/00000047.jpg\n",
            "Results saved to \u001b[1mruns/detect/predict\u001b[0m\n",
            "Processing image: ./datasets/Nuim_dataset_Yv8_test/images/val/00000048.jpg\n",
            "Results saved to \u001b[1mruns/detect/predict\u001b[0m\n",
            "Processing image: ./datasets/Nuim_dataset_Yv8_test/images/val/00000049.jpg\n",
            "Results saved to \u001b[1mruns/detect/predict\u001b[0m\n",
            "Processing image: ./datasets/Nuim_dataset_Yv8_test/images/val/00000050.jpg\n",
            "Results saved to \u001b[1mruns/detect/predict\u001b[0m\n",
            "Prediction loop completed.\n"
          ]
        }
      ]
    },
    {
      "cell_type": "code",
      "source": [
        "import os\n",
        "\n",
        "start =48\n",
        "end = 49\n",
        "for num in range(start, end + 1):\n",
        "      num_str = f\"{num:04d}\"\n",
        "      img_name = \"0000\"+num_str +\".jpg\"\n",
        "      img_path = './runs/detect/predict/' + img_name\n",
        "          # Check if the image file exists\n",
        "      if not os.path.exists(img_path):\n",
        "        print(f\"Image not found: {img_path}\")\n",
        "        continue  # Skip to the next iteration if the image doesn't exist\n",
        "\n",
        "      os.remove(img_path)\n",
        "      print(f\"image {img_path} deleted\")"
      ],
      "metadata": {
        "colab": {
          "base_uri": "https://localhost:8080/"
        },
        "id": "SurFXH-KzPsb",
        "outputId": "d0618ecc-303c-45d4-fcdb-8559382e2919"
      },
      "execution_count": null,
      "outputs": [
        {
          "output_type": "stream",
          "name": "stdout",
          "text": [
            "image ./runs/detect/predict/00000048.jpg deleted\n",
            "image ./runs/detect/predict/00000049.jpg deleted\n"
          ]
        }
      ]
    },
    {
      "cell_type": "code",
      "source": [
        "import cv2\n",
        "\n",
        "img_num = [41, 45, 47, 50]\n",
        "# Path to the image and annotation file\n",
        "img_path = \"./datasets/Nuim_dataset_Yv8_test/images/val/00000001.jpg\"\n",
        "ann_path = \"./datasets/Nuim_dataset_Yv8_test/labels/val/00000001.txt\"\n",
        "\n",
        "\n",
        "# Define class names and their corresponding colors\n",
        "class_names = {\n",
        "    0: \"pedestrian\",\n",
        "    1: \"car\",\n",
        "    2: \"bus\",\n",
        "    3: \"bicycle\",\n",
        "    4: \"truck\",\n",
        "    5: \"motorcycle\"\n",
        "}\n",
        "\n",
        "class_colors = {\n",
        "    0: (255, 0, 0),       # Blue for pedestrian\n",
        "    1: (255, 255, 0),     # Cyan for car\n",
        "    2: (255, 255, 255),   # White for bus\n",
        "    3: (0, 255, 0),       # Green for bicycle\n",
        "    4: (139,0,0),       # Dark blue for truck\n",
        "    5: (255, 192, 203)    # Pink for motorcycle\n",
        "}\n",
        "\n",
        "\n",
        "for num in img_num:\n",
        "    # Construct the 8-digit filename\n",
        "    img_name = f\"{num:08d}\"  # Ensures the number is 8 digits (e.g., 00000011, 00000012)\n",
        "\n",
        "    # Construct the image and annotation paths\n",
        "    img_path = f\"./datasets/Nuim_dataset_Yv8_test/images/val/{img_name}.jpg\"\n",
        "    ann_path = f\"./datasets/Nuim_dataset_Yv8_test/labels/val/{img_name}.txt\"\n",
        "\n",
        "\n",
        "    # Load the image\n",
        "    image = cv2.imread(img_path)\n",
        "\n",
        "    # Check if the image was loaded successfully\n",
        "    if image is None:\n",
        "        raise FileNotFoundError(f\"Image not found at {img_path}\")\n",
        "\n",
        "    # Load ground truth bounding boxes from the annotation file\n",
        "    with open(ann_path, 'r') as file:\n",
        "        for line in file:\n",
        "            # Parse the YOLO format: [class_id, x_center, y_center, width, height]\n",
        "            class_id, x_center, y_center, width, height = map(float, line.split())\n",
        "            class_id = int(class_id)  # Convert class_id to integer\n",
        "\n",
        "            # Convert YOLO format to (x1, y1, x2, y2) for OpenCV\n",
        "            img_height, img_width = image.shape[:2]\n",
        "            x1 = int((x_center - width / 2) * img_width)\n",
        "            y1 = int((y_center - height / 2) * img_height)\n",
        "            x2 = int((x_center + width / 2) * img_width)\n",
        "            y2 = int((y_center + height / 2) * img_height)\n",
        "\n",
        "            # Get the color for the current class\n",
        "            color = class_colors.get(class_id, (0, 0, 0))  # Default to black if class_id is not found\n",
        "\n",
        "            # Draw the bounding box on the image\n",
        "            cv2.rectangle(image, (x1, y1), (x2, y2), color, 3)\n",
        "\n",
        "            # Add the class label\n",
        "            label = f\"{class_names.get(class_id, 'unknown')}\"\n",
        "            cv2.putText(image, label, (x1, y1 - 10), cv2.FONT_HERSHEY_SIMPLEX, 0.9, color, 2)\n",
        "\n",
        "    # Save or display the image with ground truth bounding boxes\n",
        "    output_path = f\"./runs/detect/predict/gt_{img_name}.jpg\"\n",
        "    cv2.imwrite(output_path, image)\n",
        "    print(f\"Image with ground truth bounding boxes saved to {output_path}\")\n"
      ],
      "metadata": {
        "colab": {
          "base_uri": "https://localhost:8080/"
        },
        "id": "X2DhAOx7tV_O",
        "outputId": "985ec881-7f95-4526-a68f-06d2f3bcdc66"
      },
      "execution_count": null,
      "outputs": [
        {
          "output_type": "stream",
          "name": "stdout",
          "text": [
            "Image with ground truth bounding boxes saved to ./runs/detect/predict/gt_00000041.jpg\n",
            "Image with ground truth bounding boxes saved to ./runs/detect/predict/gt_00000045.jpg\n",
            "Image with ground truth bounding boxes saved to ./runs/detect/predict/gt_00000047.jpg\n",
            "Image with ground truth bounding boxes saved to ./runs/detect/predict/gt_00000050.jpg\n"
          ]
        }
      ]
    },
    {
      "cell_type": "markdown",
      "metadata": {
        "id": "eDXZCiYTICfs"
      },
      "source": [
        "# Evaluation on Test"
      ]
    },
    {
      "cell_type": "code",
      "execution_count": null,
      "metadata": {
        "colab": {
          "base_uri": "https://localhost:8080/"
        },
        "id": "GCQ--cSOqXc7",
        "outputId": "53d63ee3-5d3a-487b-9ce3-a25d23d6e173"
      },
      "outputs": [
        {
          "output_type": "stream",
          "name": "stdout",
          "text": [
            "Ultralytics 8.3.87 🚀 Python-3.11.11 torch-2.5.1+cu124 CUDA:0 (Tesla T4, 15095MiB)\n",
            "YOLOv10l summary (fused): 197 layers, 25,725,620 parameters, 0 gradients, 126.4 GFLOPs\n",
            "Downloading https://ultralytics.com/assets/Arial.ttf to '/root/.config/Ultralytics/Arial.ttf'...\n"
          ]
        },
        {
          "output_type": "stream",
          "name": "stderr",
          "text": [
            "100%|██████████| 755k/755k [00:00<00:00, 24.6MB/s]\n",
            "\u001b[34m\u001b[1mval: \u001b[0mScanning /content/drive/MyDrive/datasets/Nuim_dataset_Yv8_test/labels/val.cache... 431 images, 0 backgrounds, 0 corrupt: 100%|██████████| 431/431 [00:00<?, ?it/s]\n",
            "                 Class     Images  Instances      Box(P          R      mAP50  mAP50-95): 100%|██████████| 72/72 [00:14<00:00,  4.98it/s]\n"
          ]
        },
        {
          "output_type": "stream",
          "name": "stdout",
          "text": [
            "                   all        431       3408       0.85      0.545      0.711      0.526\n",
            "            pedestrian        245       1041      0.918      0.442      0.681       0.43\n",
            "                   car        337       1625      0.879       0.65      0.786      0.627\n",
            "                   bus        130        150      0.804      0.493      0.667      0.544\n",
            "               bicycle        119        167      0.813      0.599      0.748      0.538\n",
            "                 truck        181        255      0.775      0.431      0.584      0.445\n",
            "            motorcycle        124        170       0.91      0.653      0.801       0.57\n",
            "Speed: 0.3ms preprocess, 11.9ms inference, 0.0ms loss, 0.4ms postprocess per image\n",
            "Results saved to \u001b[1mruns/detect/delete\u001b[0m\n"
          ]
        }
      ],
      "source": [
        "# Model validation\n",
        "from ultralytics import YOLO\n",
        "import torch\n",
        "import os\n",
        "\n",
        "model_path = \"./runs/detect/yolo10l/weights/best.pt\"\n",
        "model = YOLO(model_path)\n",
        "\n",
        "yaml_path = \"./datasets/Nuim_dataset_Yv8_test/nuim_dataset.yaml\"\n",
        "save_path = \"delete\"\n",
        "validation_results = model.val(data=yaml_path, name = save_path,\n",
        "                               imgsz=640,conf=0.5, batch=6,\n",
        "                               verbose=True,half=True )"
      ]
    },
    {
      "cell_type": "code",
      "execution_count": null,
      "metadata": {
        "id": "54mMkNohru9B"
      },
      "outputs": [],
      "source": [
        "# Extract specific metrics\n",
        "print(f\"mAP@0.5: {validation_results.box.map50}\")\n",
        "print(f\"mAP@0.5-0.95: {validation_results.box.map}\")\n",
        "print(f\"Precision: {validation_results.box.p}\")\n",
        "print(f\"Recall: {validation_results.box.r}\")\n",
        "print(f\"F1-Score: {validation_results.box.f1}\")\n",
        "\n",
        "f1 = validation_results.box.f1\n",
        "f1_avg = sum(f1) / len(f1)\n",
        "print(f\"Average F1-Score: {f1_avg}\")\n",
        "\n",
        "# Speed metrics\n",
        "print(f\"Inference time (ms): {validation_results.speed['inference']}\")\n",
        "print(f\"Preprocessing time (ms): {validation_results.speed['preprocess']}\")\n",
        "print(f\"Postprocessing time (ms): {validation_results.speed['postprocess']}\")\n",
        "\n"
      ]
    },
    {
      "cell_type": "code",
      "execution_count": null,
      "metadata": {
        "colab": {
          "base_uri": "https://localhost:8080/"
        },
        "id": "KiXnV4YNy7j8",
        "outputId": "f38ed9f8-a490-4edc-b050-7207278ac719"
      },
      "outputs": [
        {
          "name": "stdout",
          "output_type": "stream",
          "text": [
            "Successfully extracted data from ./runs/detect/yolo10l/results.csv\n",
            "Successfully extracted data from ./runs/detect/yolo10m/results.csv\n",
            "Successfully extracted data from ./runs/detect/yolo10m_200/results.csv\n",
            "Successfully extracted data from ./runs/detect/yolo10n/results.csv\n",
            "Successfully extracted data from ./runs/detect/yolo10n_200/results.csv\n",
            "Combined data saved to ./combined_model_metrics.csv\n"
          ]
        }
      ],
      "source": [
        "import pandas as pd\n",
        "import os\n",
        "\n",
        "# Define root directory\n",
        "root = \"./runs/detect/\"\n",
        "\n",
        "# Define model structure with multiple folders per model\n",
        "model_structure = {\n",
        "    \"YOLOv10L\": [\"yolo10l/results.csv\"],\n",
        "    \"YOLOv10M\": [\"yolo10m/results.csv\", \"yolo10m_200/results.csv\"],\n",
        "    \"YOLOv10N\": [\"yolo10n/results.csv\", \"yolo10n_200/results.csv\"]\n",
        "}\n",
        "\n",
        "# Create a dictionary to store all the extracted data\n",
        "all_data = {}\n",
        "\n",
        "# Process each model's results.csv files\n",
        "for model_name, folder_paths in model_structure.items():\n",
        "    model_df = None\n",
        "\n",
        "    # Process each folder for the current model\n",
        "    for folder_path in folder_paths:\n",
        "        full_path = os.path.join(root, folder_path)\n",
        "\n",
        "        try:\n",
        "            # Check if file exists\n",
        "            if not os.path.exists(full_path):\n",
        "                print(f\"Warning: File {full_path} does not exist.\")\n",
        "                continue\n",
        "\n",
        "            # Read the CSV file\n",
        "            df = pd.read_csv(full_path)\n",
        "\n",
        "            # Extract the required columns\n",
        "            if 'epoch' in df.columns and 'metrics/mAP50(B)' in df.columns and 'metrics/mAP50-95(B)' in df.columns:\n",
        "                extracted_data = df[['epoch', 'metrics/mAP50(B)', 'metrics/mAP50-95(B)']]\n",
        "\n",
        "                # If this is the first file for this model or a new model\n",
        "                if model_df is None:\n",
        "                    model_df = extracted_data\n",
        "                else:\n",
        "                    # Concatenate the data and sort by epoch\n",
        "                    model_df = pd.concat([model_df, extracted_data])\n",
        "                    model_df = model_df.drop_duplicates(subset=['epoch']).sort_values('epoch')\n",
        "\n",
        "                print(f\"Successfully extracted data from {full_path}\")\n",
        "            else:\n",
        "                print(f\"Error: Required columns not found in {full_path}\")\n",
        "\n",
        "        except Exception as e:\n",
        "            print(f\"Error processing {full_path}: {e}\")\n",
        "\n",
        "    # Rename columns for the combined model data\n",
        "    if model_df is not None:\n",
        "        model_df = model_df.rename(columns={\n",
        "            'metrics/mAP50(B)': f'{model_name}_mAP50',\n",
        "            'metrics/mAP50-95(B)': f'{model_name}_mAP50-95'\n",
        "        })\n",
        "        all_data[model_name] = model_df\n",
        "\n",
        "# If we have data for any models, merge them on epoch\n",
        "if all_data:\n",
        "    # Start with the first model's data\n",
        "    first_model = list(all_data.keys())[0]\n",
        "    result_df = all_data[first_model]\n",
        "\n",
        "    # Merge with other models' data\n",
        "    for model_name in list(all_data.keys())[1:]:\n",
        "        cols_to_merge = ['epoch', f'{model_name}_mAP50', f'{model_name}_mAP50-95']\n",
        "        result_df = pd.merge(result_df, all_data[model_name][cols_to_merge],\n",
        "                             on='epoch', how='outer')\n",
        "\n",
        "    # Sort by epoch\n",
        "    result_df = result_df.sort_values('epoch')\n",
        "\n",
        "    # Save to a new CSV file\n",
        "    output_path = \"./combined_model_metrics.csv\"\n",
        "    result_df.to_csv(output_path, index=False)\n",
        "    print(f\"Combined data saved to {output_path}\")\n",
        "else:\n",
        "    print(\"No data was successfully extracted.\")"
      ]
    },
    {
      "cell_type": "markdown",
      "metadata": {
        "id": "_o6jrRztIHL7"
      },
      "source": [
        "# Train"
      ]
    },
    {
      "cell_type": "code",
      "execution_count": null,
      "metadata": {
        "colab": {
          "base_uri": "https://localhost:8080/"
        },
        "id": "hSdSlMFTY5ZM",
        "outputId": "da16c3a1-6c39-41d0-e485-07c5c0dc447f"
      },
      "outputs": [
        {
          "output_type": "stream",
          "name": "stdout",
          "text": [
            "Ultralytics 8.3.87 🚀 Python-3.11.11 torch-2.5.1+cu124 CUDA:0 (NVIDIA A100-SXM4-40GB, 40507MiB)\n",
            "\u001b[34m\u001b[1mengine/trainer: \u001b[0mtask=detect, mode=train, model=./runs/detect/yolo10l/weights/last.pt, data=./datasets/Nuim_dataset_Yv8/nuim_dataset.yaml, epochs=100, time=None, patience=100, batch=16, imgsz=640, save=True, save_period=-1, cache=False, device=None, workers=8, project=None, name=yolo10L_Wchange_V2, exist_ok=False, pretrained=True, optimizer=auto, verbose=True, seed=0, deterministic=True, single_cls=False, rect=False, cos_lr=False, close_mosaic=10, resume=False, amp=True, fraction=1.0, profile=False, freeze=None, multi_scale=False, overlap_mask=True, mask_ratio=4, dropout=0.0, val=True, split=val, save_json=False, save_hybrid=False, conf=None, iou=0.7, max_det=300, half=False, dnn=False, plots=True, source=None, vid_stride=1, stream_buffer=False, visualize=False, augment=False, agnostic_nms=False, classes=None, retina_masks=False, embed=None, show=False, save_frames=False, save_txt=False, save_conf=False, save_crop=False, show_labels=True, show_conf=True, show_boxes=True, line_width=None, format=torchscript, keras=False, optimize=False, int8=False, dynamic=False, simplify=True, opset=None, workspace=None, nms=False, lr0=0.001, lrf=0.01, momentum=0.937, weight_decay=0.0005, warmup_epochs=0.0, warmup_momentum=0.8, warmup_bias_lr=0.1, box=6.0, cls=1.0, dfl=2.5, pose=12.0, kobj=1.0, nbs=64, hsv_h=0.015, hsv_s=0.7, hsv_v=0.4, degrees=10.0, translate=0.1, scale=0.2, shear=0.0, perspective=0.0, flipud=0.0, fliplr=0.5, bgr=0.0, mosaic=1.0, mixup=0.1, copy_paste=0.0, copy_paste_mode=flip, auto_augment=randaugment, erasing=0.4, crop_fraction=1.0, cfg=None, tracker=botsort.yaml, save_dir=runs/detect/yolo10L_Wchange_V2\n",
            "Downloading https://ultralytics.com/assets/Arial.ttf to '/root/.config/Ultralytics/Arial.ttf'...\n"
          ]
        },
        {
          "output_type": "stream",
          "name": "stderr",
          "text": [
            "100%|██████████| 755k/755k [00:00<00:00, 14.4MB/s]\n"
          ]
        },
        {
          "output_type": "stream",
          "name": "stdout",
          "text": [
            "\n",
            "                   from  n    params  module                                       arguments                     \n",
            "  0                  -1  1      1856  ultralytics.nn.modules.conv.Conv             [3, 64, 3, 2]                 \n",
            "  1                  -1  1     73984  ultralytics.nn.modules.conv.Conv             [64, 128, 3, 2]               \n",
            "  2                  -1  3    279808  ultralytics.nn.modules.block.C2f             [128, 128, 3, True]           \n",
            "  3                  -1  1    295424  ultralytics.nn.modules.conv.Conv             [128, 256, 3, 2]              \n",
            "  4                  -1  6   2101248  ultralytics.nn.modules.block.C2f             [256, 256, 6, True]           \n",
            "  5                  -1  1    137728  ultralytics.nn.modules.block.SCDown          [256, 512, 3, 2]              \n",
            "  6                  -1  6   8396800  ultralytics.nn.modules.block.C2f             [512, 512, 6, True]           \n",
            "  7                  -1  1    268800  ultralytics.nn.modules.block.SCDown          [512, 512, 3, 2]              \n",
            "  8                  -1  3   1744384  ultralytics.nn.modules.block.C2fCIB          [512, 512, 3, True]           \n",
            "  9                  -1  1    656896  ultralytics.nn.modules.block.SPPF            [512, 512, 5]                 \n",
            " 10                  -1  1    990976  ultralytics.nn.modules.block.PSA             [512, 512]                    \n",
            " 11                  -1  1         0  torch.nn.modules.upsampling.Upsample         [None, 2, 'nearest']          \n",
            " 12             [-1, 6]  1         0  ultralytics.nn.modules.conv.Concat           [1]                           \n",
            " 13                  -1  3   2006528  ultralytics.nn.modules.block.C2fCIB          [1024, 512, 3, True]          \n",
            " 14                  -1  1         0  torch.nn.modules.upsampling.Upsample         [None, 2, 'nearest']          \n",
            " 15             [-1, 4]  1         0  ultralytics.nn.modules.conv.Concat           [1]                           \n",
            " 16                  -1  3   1247744  ultralytics.nn.modules.block.C2f             [768, 256, 3]                 \n",
            " 17                  -1  1    590336  ultralytics.nn.modules.conv.Conv             [256, 256, 3, 2]              \n",
            " 18            [-1, 13]  1         0  ultralytics.nn.modules.conv.Concat           [1]                           \n",
            " 19                  -1  3   1875456  ultralytics.nn.modules.block.C2fCIB          [768, 512, 3, True]           \n",
            " 20                  -1  1    268800  ultralytics.nn.modules.block.SCDown          [512, 512, 3, 2]              \n",
            " 21            [-1, 10]  1         0  ultralytics.nn.modules.conv.Concat           [1]                           \n",
            " 22                  -1  3   2006528  ultralytics.nn.modules.block.C2fCIB          [1024, 512, 3, True]          \n",
            " 23        [16, 19, 22]  1   2831284  ultralytics.nn.modules.head.v10Detect        [6, [256, 512, 512]]          \n",
            "YOLOv10l summary: 364 layers, 25,774,580 parameters, 25,774,564 gradients, 127.2 GFLOPs\n",
            "\n",
            "Transferred 1027/1027 items from pretrained weights\n",
            "\u001b[34m\u001b[1mTensorBoard: \u001b[0mStart with 'tensorboard --logdir runs/detect/yolo10L_Wchange_V2', view at http://localhost:6006/\n",
            "Freezing layer 'model.23.dfl.conv.weight'\n",
            "\u001b[34m\u001b[1mAMP: \u001b[0mrunning Automatic Mixed Precision (AMP) checks...\n",
            "\u001b[34m\u001b[1mAMP: \u001b[0mchecks passed ✅\n"
          ]
        },
        {
          "output_type": "stream",
          "name": "stderr",
          "text": [
            "\u001b[34m\u001b[1mtrain: \u001b[0mScanning /content/drive/MyDrive/datasets/Nuim_dataset_Yv8/labels/train.cache... 3433 images, 0 backgrounds, 0 corrupt: 100%|██████████| 3433/3433 [00:00<?, ?it/s]\n"
          ]
        },
        {
          "output_type": "stream",
          "name": "stdout",
          "text": [
            "\u001b[34m\u001b[1malbumentations: \u001b[0mBlur(p=0.01, blur_limit=(3, 7)), MedianBlur(p=0.01, blur_limit=(3, 7)), ToGray(p=0.01, num_output_channels=3, method='weighted_average'), CLAHE(p=0.01, clip_limit=(1.0, 4.0), tile_grid_size=(8, 8))\n"
          ]
        },
        {
          "output_type": "stream",
          "name": "stderr",
          "text": [
            "\u001b[34m\u001b[1mval: \u001b[0mScanning /content/drive/MyDrive/datasets/Nuim_dataset_Yv8/labels/val.cache... 858 images, 0 backgrounds, 0 corrupt: 100%|██████████| 858/858 [00:00<?, ?it/s]\n"
          ]
        },
        {
          "output_type": "stream",
          "name": "stdout",
          "text": [
            "Plotting labels to runs/detect/yolo10L_Wchange_V2/labels.jpg... \n",
            "\u001b[34m\u001b[1moptimizer:\u001b[0m 'optimizer=auto' found, ignoring 'lr0=0.001' and 'momentum=0.937' and determining best 'optimizer', 'lr0' and 'momentum' automatically... \n",
            "\u001b[34m\u001b[1moptimizer:\u001b[0m AdamW(lr=0.001, momentum=0.9) with parameter groups 167 weight(decay=0.0), 180 weight(decay=0.0005), 179 bias(decay=0.0)\n",
            "\u001b[34m\u001b[1mTensorBoard: \u001b[0mmodel graph visualization added ✅\n",
            "Image sizes 640 train, 640 val\n",
            "Using 8 dataloader workers\n",
            "Logging results to \u001b[1mruns/detect/yolo10L_Wchange_V2\u001b[0m\n",
            "Starting training for 100 epochs...\n",
            "\n",
            "      Epoch    GPU_mem   box_loss   cls_loss   dfl_loss  Instances       Size\n"
          ]
        },
        {
          "output_type": "stream",
          "name": "stderr",
          "text": [
            "      1/100      12.9G      2.258      4.768      3.801        121        640: 100%|██████████| 215/215 [00:49<00:00,  4.35it/s]\n",
            "                 Class     Images  Instances      Box(P          R      mAP50  mAP50-95): 100%|██████████| 27/27 [00:11<00:00,  2.33it/s]\n"
          ]
        },
        {
          "output_type": "stream",
          "name": "stdout",
          "text": [
            "                   all        858       7087      0.688      0.499      0.564      0.324\n",
            "\n",
            "      Epoch    GPU_mem   box_loss   cls_loss   dfl_loss  Instances       Size\n"
          ]
        },
        {
          "output_type": "stream",
          "name": "stderr",
          "text": [
            "      2/100      13.3G      2.228      4.267      3.758        103        640: 100%|██████████| 215/215 [00:48<00:00,  4.39it/s]\n",
            "                 Class     Images  Instances      Box(P          R      mAP50  mAP50-95): 100%|██████████| 27/27 [00:04<00:00,  5.92it/s]\n"
          ]
        },
        {
          "output_type": "stream",
          "name": "stdout",
          "text": [
            "                   all        858       7087       0.64      0.511      0.554      0.326\n",
            "\n",
            "      Epoch    GPU_mem   box_loss   cls_loss   dfl_loss  Instances       Size\n"
          ]
        },
        {
          "output_type": "stream",
          "name": "stderr",
          "text": [
            "      3/100      13.3G      2.167       4.09      3.686        164        640: 100%|██████████| 215/215 [00:48<00:00,  4.39it/s]\n",
            "                 Class     Images  Instances      Box(P          R      mAP50  mAP50-95): 100%|██████████| 27/27 [00:04<00:00,  5.68it/s]\n"
          ]
        },
        {
          "output_type": "stream",
          "name": "stdout",
          "text": [
            "                   all        858       7087      0.698      0.509       0.58      0.339\n",
            "\n",
            "      Epoch    GPU_mem   box_loss   cls_loss   dfl_loss  Instances       Size\n"
          ]
        },
        {
          "output_type": "stream",
          "name": "stderr",
          "text": [
            "      4/100      13.3G      2.148      3.958      3.647        142        640: 100%|██████████| 215/215 [00:49<00:00,  4.36it/s]\n",
            "                 Class     Images  Instances      Box(P          R      mAP50  mAP50-95): 100%|██████████| 27/27 [00:04<00:00,  5.87it/s]\n"
          ]
        },
        {
          "output_type": "stream",
          "name": "stdout",
          "text": [
            "                   all        858       7087      0.696      0.519      0.583      0.355\n",
            "\n",
            "      Epoch    GPU_mem   box_loss   cls_loss   dfl_loss  Instances       Size\n"
          ]
        },
        {
          "output_type": "stream",
          "name": "stderr",
          "text": [
            "      5/100      13.3G      2.124      3.862      3.605         62        640: 100%|██████████| 215/215 [00:49<00:00,  4.38it/s]\n",
            "                 Class     Images  Instances      Box(P          R      mAP50  mAP50-95): 100%|██████████| 27/27 [00:04<00:00,  5.88it/s]\n"
          ]
        },
        {
          "output_type": "stream",
          "name": "stdout",
          "text": [
            "                   all        858       7087      0.703       0.54      0.609      0.362\n",
            "\n",
            "      Epoch    GPU_mem   box_loss   cls_loss   dfl_loss  Instances       Size\n"
          ]
        },
        {
          "output_type": "stream",
          "name": "stderr",
          "text": [
            "      6/100      13.3G      2.104      3.782      3.603        118        640: 100%|██████████| 215/215 [00:48<00:00,  4.39it/s]\n",
            "                 Class     Images  Instances      Box(P          R      mAP50  mAP50-95): 100%|██████████| 27/27 [00:04<00:00,  5.57it/s]\n"
          ]
        },
        {
          "output_type": "stream",
          "name": "stdout",
          "text": [
            "                   all        858       7087      0.701      0.512      0.588      0.357\n",
            "\n",
            "      Epoch    GPU_mem   box_loss   cls_loss   dfl_loss  Instances       Size\n"
          ]
        },
        {
          "output_type": "stream",
          "name": "stderr",
          "text": [
            "      7/100      13.3G      2.115      3.814      3.606        116        640: 100%|██████████| 215/215 [00:49<00:00,  4.36it/s]\n",
            "                 Class     Images  Instances      Box(P          R      mAP50  mAP50-95): 100%|██████████| 27/27 [00:04<00:00,  5.85it/s]\n"
          ]
        },
        {
          "output_type": "stream",
          "name": "stdout",
          "text": [
            "                   all        858       7087      0.705      0.514       0.59      0.352\n",
            "\n",
            "      Epoch    GPU_mem   box_loss   cls_loss   dfl_loss  Instances       Size\n"
          ]
        },
        {
          "output_type": "stream",
          "name": "stderr",
          "text": [
            "      8/100      13.3G      2.076      3.646       3.57         73        640: 100%|██████████| 215/215 [00:49<00:00,  4.38it/s]\n",
            "                 Class     Images  Instances      Box(P          R      mAP50  mAP50-95): 100%|██████████| 27/27 [00:04<00:00,  5.57it/s]\n"
          ]
        },
        {
          "output_type": "stream",
          "name": "stdout",
          "text": [
            "                   all        858       7087      0.726      0.523      0.601      0.371\n",
            "\n",
            "      Epoch    GPU_mem   box_loss   cls_loss   dfl_loss  Instances       Size\n"
          ]
        },
        {
          "output_type": "stream",
          "name": "stderr",
          "text": [
            "      9/100      13.3G      2.056      3.564      3.545        118        640: 100%|██████████| 215/215 [00:48<00:00,  4.39it/s]\n",
            "                 Class     Images  Instances      Box(P          R      mAP50  mAP50-95): 100%|██████████| 27/27 [00:04<00:00,  5.65it/s]\n"
          ]
        },
        {
          "output_type": "stream",
          "name": "stdout",
          "text": [
            "                   all        858       7087      0.703       0.54      0.603      0.361\n",
            "\n",
            "      Epoch    GPU_mem   box_loss   cls_loss   dfl_loss  Instances       Size\n"
          ]
        },
        {
          "output_type": "stream",
          "name": "stderr",
          "text": [
            "     10/100      13.3G      2.033      3.539      3.532        120        640: 100%|██████████| 215/215 [00:49<00:00,  4.36it/s]\n",
            "                 Class     Images  Instances      Box(P          R      mAP50  mAP50-95): 100%|██████████| 27/27 [00:04<00:00,  5.78it/s]"
          ]
        },
        {
          "output_type": "stream",
          "name": "stdout",
          "text": [
            "                   all        858       7087      0.732      0.546      0.622      0.379\n"
          ]
        },
        {
          "output_type": "stream",
          "name": "stderr",
          "text": [
            "\n"
          ]
        },
        {
          "output_type": "stream",
          "name": "stdout",
          "text": [
            "\n",
            "      Epoch    GPU_mem   box_loss   cls_loss   dfl_loss  Instances       Size\n"
          ]
        },
        {
          "output_type": "stream",
          "name": "stderr",
          "text": [
            "     11/100      13.3G      2.029      3.491      3.509        110        640: 100%|██████████| 215/215 [00:49<00:00,  4.38it/s]\n",
            "                 Class     Images  Instances      Box(P          R      mAP50  mAP50-95): 100%|██████████| 27/27 [00:04<00:00,  5.63it/s]\n"
          ]
        },
        {
          "output_type": "stream",
          "name": "stdout",
          "text": [
            "                   all        858       7087      0.761       0.54      0.623      0.387\n",
            "\n",
            "      Epoch    GPU_mem   box_loss   cls_loss   dfl_loss  Instances       Size\n"
          ]
        },
        {
          "output_type": "stream",
          "name": "stderr",
          "text": [
            "     12/100      13.3G      2.015      3.397      3.484         87        640: 100%|██████████| 215/215 [00:49<00:00,  4.37it/s]\n",
            "                 Class     Images  Instances      Box(P          R      mAP50  mAP50-95): 100%|██████████| 27/27 [00:04<00:00,  5.69it/s]\n"
          ]
        },
        {
          "output_type": "stream",
          "name": "stdout",
          "text": [
            "                   all        858       7087      0.722      0.551      0.618      0.376\n",
            "\n",
            "      Epoch    GPU_mem   box_loss   cls_loss   dfl_loss  Instances       Size\n"
          ]
        },
        {
          "output_type": "stream",
          "name": "stderr",
          "text": [
            "     13/100      13.3G      1.994      3.368      3.497        187        640: 100%|██████████| 215/215 [00:48<00:00,  4.41it/s]\n",
            "                 Class     Images  Instances      Box(P          R      mAP50  mAP50-95): 100%|██████████| 27/27 [00:04<00:00,  5.48it/s]\n"
          ]
        },
        {
          "output_type": "stream",
          "name": "stdout",
          "text": [
            "                   all        858       7087      0.739      0.541      0.615      0.382\n",
            "\n",
            "      Epoch    GPU_mem   box_loss   cls_loss   dfl_loss  Instances       Size\n"
          ]
        },
        {
          "output_type": "stream",
          "name": "stderr",
          "text": [
            "     14/100      13.3G      1.987      3.351      3.472         88        640: 100%|██████████| 215/215 [00:48<00:00,  4.42it/s]\n",
            "                 Class     Images  Instances      Box(P          R      mAP50  mAP50-95): 100%|██████████| 27/27 [00:04<00:00,  5.70it/s]\n"
          ]
        },
        {
          "output_type": "stream",
          "name": "stdout",
          "text": [
            "                   all        858       7087      0.754      0.553      0.632      0.387\n",
            "\n",
            "      Epoch    GPU_mem   box_loss   cls_loss   dfl_loss  Instances       Size\n"
          ]
        },
        {
          "output_type": "stream",
          "name": "stderr",
          "text": [
            "     15/100      13.3G      1.982      3.351      3.457        114        640: 100%|██████████| 215/215 [00:49<00:00,  4.35it/s]\n",
            "                 Class     Images  Instances      Box(P          R      mAP50  mAP50-95): 100%|██████████| 27/27 [00:04<00:00,  5.88it/s]\n"
          ]
        },
        {
          "output_type": "stream",
          "name": "stdout",
          "text": [
            "                   all        858       7087      0.762      0.542      0.629       0.39\n",
            "\n",
            "      Epoch    GPU_mem   box_loss   cls_loss   dfl_loss  Instances       Size\n"
          ]
        },
        {
          "output_type": "stream",
          "name": "stderr",
          "text": [
            "     16/100      13.3G      1.966      3.263       3.44        119        640: 100%|██████████| 215/215 [00:49<00:00,  4.36it/s]\n",
            "                 Class     Images  Instances      Box(P          R      mAP50  mAP50-95): 100%|██████████| 27/27 [00:04<00:00,  5.58it/s]\n"
          ]
        },
        {
          "output_type": "stream",
          "name": "stdout",
          "text": [
            "                   all        858       7087      0.744      0.547      0.626      0.373\n",
            "\n",
            "      Epoch    GPU_mem   box_loss   cls_loss   dfl_loss  Instances       Size\n"
          ]
        },
        {
          "output_type": "stream",
          "name": "stderr",
          "text": [
            "     17/100      13.3G      1.963      3.265       3.43        118        640: 100%|██████████| 215/215 [00:49<00:00,  4.38it/s]\n",
            "                 Class     Images  Instances      Box(P          R      mAP50  mAP50-95): 100%|██████████| 27/27 [00:04<00:00,  5.72it/s]\n"
          ]
        },
        {
          "output_type": "stream",
          "name": "stdout",
          "text": [
            "                   all        858       7087      0.731      0.564      0.632      0.394\n",
            "\n",
            "      Epoch    GPU_mem   box_loss   cls_loss   dfl_loss  Instances       Size\n"
          ]
        },
        {
          "output_type": "stream",
          "name": "stderr",
          "text": [
            "     18/100      13.3G      1.941      3.179      3.417        160        640: 100%|██████████| 215/215 [00:49<00:00,  4.37it/s]\n",
            "                 Class     Images  Instances      Box(P          R      mAP50  mAP50-95): 100%|██████████| 27/27 [00:04<00:00,  5.62it/s]\n"
          ]
        },
        {
          "output_type": "stream",
          "name": "stdout",
          "text": [
            "                   all        858       7087      0.734       0.56      0.634      0.396\n",
            "\n",
            "      Epoch    GPU_mem   box_loss   cls_loss   dfl_loss  Instances       Size\n"
          ]
        },
        {
          "output_type": "stream",
          "name": "stderr",
          "text": [
            "     19/100      13.3G      1.939      3.202      3.433        143        640: 100%|██████████| 215/215 [00:49<00:00,  4.37it/s]\n",
            "                 Class     Images  Instances      Box(P          R      mAP50  mAP50-95): 100%|██████████| 27/27 [00:04<00:00,  5.61it/s]"
          ]
        },
        {
          "output_type": "stream",
          "name": "stdout",
          "text": [
            "                   all        858       7087      0.764      0.554      0.641        0.4\n"
          ]
        },
        {
          "output_type": "stream",
          "name": "stderr",
          "text": [
            "\n"
          ]
        },
        {
          "output_type": "stream",
          "name": "stdout",
          "text": [
            "\n",
            "      Epoch    GPU_mem   box_loss   cls_loss   dfl_loss  Instances       Size\n"
          ]
        },
        {
          "output_type": "stream",
          "name": "stderr",
          "text": [
            "     20/100      13.3G      1.911        3.1      3.385        106        640: 100%|██████████| 215/215 [00:49<00:00,  4.36it/s]\n",
            "                 Class     Images  Instances      Box(P          R      mAP50  mAP50-95): 100%|██████████| 27/27 [00:04<00:00,  5.80it/s]\n"
          ]
        },
        {
          "output_type": "stream",
          "name": "stdout",
          "text": [
            "                   all        858       7087      0.712      0.571      0.632      0.394\n",
            "\n",
            "      Epoch    GPU_mem   box_loss   cls_loss   dfl_loss  Instances       Size\n"
          ]
        },
        {
          "output_type": "stream",
          "name": "stderr",
          "text": [
            "     21/100      13.3G      1.903      3.073      3.394        129        640: 100%|██████████| 215/215 [00:48<00:00,  4.42it/s]\n",
            "                 Class     Images  Instances      Box(P          R      mAP50  mAP50-95): 100%|██████████| 27/27 [00:04<00:00,  5.58it/s]\n"
          ]
        },
        {
          "output_type": "stream",
          "name": "stdout",
          "text": [
            "                   all        858       7087       0.73      0.568       0.64        0.4\n",
            "\n",
            "      Epoch    GPU_mem   box_loss   cls_loss   dfl_loss  Instances       Size\n"
          ]
        },
        {
          "output_type": "stream",
          "name": "stderr",
          "text": [
            "     22/100      13.3G      1.893      3.048      3.384        127        640: 100%|██████████| 215/215 [00:49<00:00,  4.36it/s]\n",
            "                 Class     Images  Instances      Box(P          R      mAP50  mAP50-95): 100%|██████████| 27/27 [00:04<00:00,  5.81it/s]"
          ]
        },
        {
          "output_type": "stream",
          "name": "stdout",
          "text": [
            "                   all        858       7087      0.772      0.554      0.637      0.403\n"
          ]
        },
        {
          "output_type": "stream",
          "name": "stderr",
          "text": [
            "\n"
          ]
        },
        {
          "output_type": "stream",
          "name": "stdout",
          "text": [
            "\n",
            "      Epoch    GPU_mem   box_loss   cls_loss   dfl_loss  Instances       Size\n"
          ]
        },
        {
          "output_type": "stream",
          "name": "stderr",
          "text": [
            "     23/100      13.3G      1.876      2.967      3.352        145        640: 100%|██████████| 215/215 [00:49<00:00,  4.37it/s]\n",
            "                 Class     Images  Instances      Box(P          R      mAP50  mAP50-95): 100%|██████████| 27/27 [00:04<00:00,  5.67it/s]\n"
          ]
        },
        {
          "output_type": "stream",
          "name": "stdout",
          "text": [
            "                   all        858       7087      0.762      0.559      0.637      0.395\n",
            "\n",
            "      Epoch    GPU_mem   box_loss   cls_loss   dfl_loss  Instances       Size\n"
          ]
        },
        {
          "output_type": "stream",
          "name": "stderr",
          "text": [
            "     24/100      13.3G      1.876       3.01      3.378        104        640: 100%|██████████| 215/215 [00:49<00:00,  4.37it/s]\n",
            "                 Class     Images  Instances      Box(P          R      mAP50  mAP50-95): 100%|██████████| 27/27 [00:04<00:00,  5.76it/s]\n"
          ]
        },
        {
          "output_type": "stream",
          "name": "stdout",
          "text": [
            "                   all        858       7087      0.753      0.561      0.637      0.397\n",
            "\n",
            "      Epoch    GPU_mem   box_loss   cls_loss   dfl_loss  Instances       Size\n"
          ]
        },
        {
          "output_type": "stream",
          "name": "stderr",
          "text": [
            "     25/100      13.3G      1.844      2.897      3.338        123        640: 100%|██████████| 215/215 [00:48<00:00,  4.39it/s]\n",
            "                 Class     Images  Instances      Box(P          R      mAP50  mAP50-95): 100%|██████████| 27/27 [00:04<00:00,  5.85it/s]\n"
          ]
        },
        {
          "output_type": "stream",
          "name": "stdout",
          "text": [
            "                   all        858       7087      0.737      0.563      0.636        0.4\n",
            "\n",
            "      Epoch    GPU_mem   box_loss   cls_loss   dfl_loss  Instances       Size\n"
          ]
        },
        {
          "output_type": "stream",
          "name": "stderr",
          "text": [
            "     26/100      13.3G      1.832      2.919      3.335        151        640: 100%|██████████| 215/215 [00:49<00:00,  4.35it/s]\n",
            "                 Class     Images  Instances      Box(P          R      mAP50  mAP50-95): 100%|██████████| 27/27 [00:04<00:00,  5.75it/s]"
          ]
        },
        {
          "output_type": "stream",
          "name": "stdout",
          "text": [
            "                   all        858       7087      0.753      0.562      0.635      0.401\n"
          ]
        },
        {
          "output_type": "stream",
          "name": "stderr",
          "text": [
            "\n"
          ]
        },
        {
          "output_type": "stream",
          "name": "stdout",
          "text": [
            "\n",
            "      Epoch    GPU_mem   box_loss   cls_loss   dfl_loss  Instances       Size\n"
          ]
        },
        {
          "output_type": "stream",
          "name": "stderr",
          "text": [
            "     27/100      13.3G      1.841      2.939      3.344         64        640: 100%|██████████| 215/215 [00:49<00:00,  4.37it/s]\n",
            "                 Class     Images  Instances      Box(P          R      mAP50  mAP50-95): 100%|██████████| 27/27 [00:04<00:00,  5.80it/s]\n"
          ]
        },
        {
          "output_type": "stream",
          "name": "stdout",
          "text": [
            "                   all        858       7087      0.743      0.568      0.647      0.402\n",
            "\n",
            "      Epoch    GPU_mem   box_loss   cls_loss   dfl_loss  Instances       Size\n"
          ]
        },
        {
          "output_type": "stream",
          "name": "stderr",
          "text": [
            "     28/100      13.3G      1.823      2.892      3.324        179        640: 100%|██████████| 215/215 [00:49<00:00,  4.38it/s]\n",
            "                 Class     Images  Instances      Box(P          R      mAP50  mAP50-95): 100%|██████████| 27/27 [00:04<00:00,  5.58it/s]\n"
          ]
        },
        {
          "output_type": "stream",
          "name": "stdout",
          "text": [
            "                   all        858       7087      0.744       0.58      0.648      0.405\n",
            "\n",
            "      Epoch    GPU_mem   box_loss   cls_loss   dfl_loss  Instances       Size\n"
          ]
        },
        {
          "output_type": "stream",
          "name": "stderr",
          "text": [
            "     29/100      13.3G      1.832      2.875      3.318        129        640: 100%|██████████| 215/215 [00:49<00:00,  4.38it/s]\n",
            "                 Class     Images  Instances      Box(P          R      mAP50  mAP50-95): 100%|██████████| 27/27 [00:04<00:00,  5.77it/s]\n"
          ]
        },
        {
          "output_type": "stream",
          "name": "stdout",
          "text": [
            "                   all        858       7087      0.755      0.556      0.631      0.393\n",
            "\n",
            "      Epoch    GPU_mem   box_loss   cls_loss   dfl_loss  Instances       Size\n"
          ]
        },
        {
          "output_type": "stream",
          "name": "stderr",
          "text": [
            "     30/100      13.3G      1.826      2.815      3.293        165        640: 100%|██████████| 215/215 [00:49<00:00,  4.39it/s]\n",
            "                 Class     Images  Instances      Box(P          R      mAP50  mAP50-95): 100%|██████████| 27/27 [00:04<00:00,  5.66it/s]\n"
          ]
        },
        {
          "output_type": "stream",
          "name": "stdout",
          "text": [
            "                   all        858       7087      0.747      0.584       0.65      0.414\n",
            "\n",
            "      Epoch    GPU_mem   box_loss   cls_loss   dfl_loss  Instances       Size\n"
          ]
        },
        {
          "output_type": "stream",
          "name": "stderr",
          "text": [
            "     31/100      13.3G      1.798      2.794      3.298        121        640: 100%|██████████| 215/215 [00:49<00:00,  4.38it/s]\n",
            "                 Class     Images  Instances      Box(P          R      mAP50  mAP50-95): 100%|██████████| 27/27 [00:04<00:00,  5.62it/s]\n"
          ]
        },
        {
          "output_type": "stream",
          "name": "stdout",
          "text": [
            "                   all        858       7087      0.759      0.575      0.648      0.408\n",
            "\n",
            "      Epoch    GPU_mem   box_loss   cls_loss   dfl_loss  Instances       Size\n"
          ]
        },
        {
          "output_type": "stream",
          "name": "stderr",
          "text": [
            "     32/100      13.3G      1.797      2.783      3.294        112        640: 100%|██████████| 215/215 [00:49<00:00,  4.38it/s]\n",
            "                 Class     Images  Instances      Box(P          R      mAP50  mAP50-95): 100%|██████████| 27/27 [00:04<00:00,  5.83it/s]"
          ]
        },
        {
          "output_type": "stream",
          "name": "stdout",
          "text": [
            "                   all        858       7087      0.751      0.579      0.643       0.41\n"
          ]
        },
        {
          "output_type": "stream",
          "name": "stderr",
          "text": [
            "\n"
          ]
        },
        {
          "output_type": "stream",
          "name": "stdout",
          "text": [
            "\n",
            "      Epoch    GPU_mem   box_loss   cls_loss   dfl_loss  Instances       Size\n"
          ]
        },
        {
          "output_type": "stream",
          "name": "stderr",
          "text": [
            "     33/100      13.3G      1.788      2.736      3.285        155        640: 100%|██████████| 215/215 [00:48<00:00,  4.39it/s]\n",
            "                 Class     Images  Instances      Box(P          R      mAP50  mAP50-95): 100%|██████████| 27/27 [00:04<00:00,  5.65it/s]\n"
          ]
        },
        {
          "output_type": "stream",
          "name": "stdout",
          "text": [
            "                   all        858       7087      0.751      0.567      0.637      0.403\n",
            "\n",
            "      Epoch    GPU_mem   box_loss   cls_loss   dfl_loss  Instances       Size\n"
          ]
        },
        {
          "output_type": "stream",
          "name": "stderr",
          "text": [
            "     34/100      13.3G      1.772      2.743      3.283        149        640: 100%|██████████| 215/215 [00:48<00:00,  4.40it/s]\n",
            "                 Class     Images  Instances      Box(P          R      mAP50  mAP50-95): 100%|██████████| 27/27 [00:04<00:00,  5.72it/s]\n"
          ]
        },
        {
          "output_type": "stream",
          "name": "stdout",
          "text": [
            "                   all        858       7087      0.771      0.566      0.646      0.407\n",
            "\n",
            "      Epoch    GPU_mem   box_loss   cls_loss   dfl_loss  Instances       Size\n"
          ]
        },
        {
          "output_type": "stream",
          "name": "stderr",
          "text": [
            "     35/100      13.3G      1.773      2.713      3.283        114        640: 100%|██████████| 215/215 [00:49<00:00,  4.36it/s]\n",
            "                 Class     Images  Instances      Box(P          R      mAP50  mAP50-95): 100%|██████████| 27/27 [00:04<00:00,  5.66it/s]"
          ]
        },
        {
          "output_type": "stream",
          "name": "stdout",
          "text": [
            "                   all        858       7087      0.724       0.58      0.645      0.408\n"
          ]
        },
        {
          "output_type": "stream",
          "name": "stderr",
          "text": [
            "\n"
          ]
        },
        {
          "output_type": "stream",
          "name": "stdout",
          "text": [
            "\n",
            "      Epoch    GPU_mem   box_loss   cls_loss   dfl_loss  Instances       Size\n"
          ]
        },
        {
          "output_type": "stream",
          "name": "stderr",
          "text": [
            "     36/100      13.3G      1.751       2.67      3.256         86        640: 100%|██████████| 215/215 [00:48<00:00,  4.40it/s]\n",
            "                 Class     Images  Instances      Box(P          R      mAP50  mAP50-95): 100%|██████████| 27/27 [00:04<00:00,  5.98it/s]"
          ]
        },
        {
          "output_type": "stream",
          "name": "stdout",
          "text": [
            "                   all        858       7087      0.732      0.573      0.642      0.406\n"
          ]
        },
        {
          "output_type": "stream",
          "name": "stderr",
          "text": [
            "\n"
          ]
        },
        {
          "output_type": "stream",
          "name": "stdout",
          "text": [
            "\n",
            "      Epoch    GPU_mem   box_loss   cls_loss   dfl_loss  Instances       Size\n"
          ]
        },
        {
          "output_type": "stream",
          "name": "stderr",
          "text": [
            "     37/100      13.3G      1.749      2.636      3.244        190        640: 100%|██████████| 215/215 [00:48<00:00,  4.39it/s]\n",
            "                 Class     Images  Instances      Box(P          R      mAP50  mAP50-95): 100%|██████████| 27/27 [00:04<00:00,  5.81it/s]\n"
          ]
        },
        {
          "output_type": "stream",
          "name": "stdout",
          "text": [
            "                   all        858       7087      0.778      0.559      0.646      0.413\n",
            "\n",
            "      Epoch    GPU_mem   box_loss   cls_loss   dfl_loss  Instances       Size\n"
          ]
        },
        {
          "output_type": "stream",
          "name": "stderr",
          "text": [
            "     38/100      13.3G       1.76      2.689       3.27        152        640: 100%|██████████| 215/215 [00:48<00:00,  4.39it/s]\n",
            "                 Class     Images  Instances      Box(P          R      mAP50  mAP50-95): 100%|██████████| 27/27 [00:04<00:00,  5.68it/s]"
          ]
        },
        {
          "output_type": "stream",
          "name": "stdout",
          "text": [
            "                   all        858       7087      0.762      0.559      0.635      0.403\n"
          ]
        },
        {
          "output_type": "stream",
          "name": "stderr",
          "text": [
            "\n"
          ]
        },
        {
          "output_type": "stream",
          "name": "stdout",
          "text": [
            "\n",
            "      Epoch    GPU_mem   box_loss   cls_loss   dfl_loss  Instances       Size\n"
          ]
        },
        {
          "output_type": "stream",
          "name": "stderr",
          "text": [
            "     39/100      13.3G      1.748      2.659      3.248        138        640: 100%|██████████| 215/215 [00:49<00:00,  4.38it/s]\n",
            "                 Class     Images  Instances      Box(P          R      mAP50  mAP50-95): 100%|██████████| 27/27 [00:04<00:00,  5.80it/s]\n"
          ]
        },
        {
          "output_type": "stream",
          "name": "stdout",
          "text": [
            "                   all        858       7087      0.731      0.578      0.642      0.405\n",
            "\n",
            "      Epoch    GPU_mem   box_loss   cls_loss   dfl_loss  Instances       Size\n"
          ]
        },
        {
          "output_type": "stream",
          "name": "stderr",
          "text": [
            "     40/100      13.3G      1.748      2.672      3.259        102        640: 100%|██████████| 215/215 [00:49<00:00,  4.34it/s]\n",
            "                 Class     Images  Instances      Box(P          R      mAP50  mAP50-95): 100%|██████████| 27/27 [00:04<00:00,  5.58it/s]"
          ]
        },
        {
          "output_type": "stream",
          "name": "stdout",
          "text": [
            "                   all        858       7087       0.76       0.57      0.645      0.409\n"
          ]
        },
        {
          "output_type": "stream",
          "name": "stderr",
          "text": [
            "\n"
          ]
        },
        {
          "output_type": "stream",
          "name": "stdout",
          "text": [
            "\n",
            "      Epoch    GPU_mem   box_loss   cls_loss   dfl_loss  Instances       Size\n"
          ]
        },
        {
          "output_type": "stream",
          "name": "stderr",
          "text": [
            "     41/100      13.3G      1.726      2.606      3.224        101        640: 100%|██████████| 215/215 [00:48<00:00,  4.40it/s]\n",
            "                 Class     Images  Instances      Box(P          R      mAP50  mAP50-95): 100%|██████████| 27/27 [00:04<00:00,  5.78it/s]\n"
          ]
        },
        {
          "output_type": "stream",
          "name": "stdout",
          "text": [
            "                   all        858       7087      0.795      0.541       0.64      0.408\n",
            "\n",
            "      Epoch    GPU_mem   box_loss   cls_loss   dfl_loss  Instances       Size\n"
          ]
        },
        {
          "output_type": "stream",
          "name": "stderr",
          "text": [
            "     42/100      13.3G      1.717      2.577      3.232        115        640: 100%|██████████| 215/215 [00:49<00:00,  4.35it/s]\n",
            "                 Class     Images  Instances      Box(P          R      mAP50  mAP50-95): 100%|██████████| 27/27 [00:04<00:00,  5.69it/s]\n"
          ]
        },
        {
          "output_type": "stream",
          "name": "stdout",
          "text": [
            "                   all        858       7087      0.789      0.556      0.647      0.413\n",
            "\n",
            "      Epoch    GPU_mem   box_loss   cls_loss   dfl_loss  Instances       Size\n"
          ]
        },
        {
          "output_type": "stream",
          "name": "stderr",
          "text": [
            "     43/100      13.3G      1.701      2.541      3.216         92        640: 100%|██████████| 215/215 [00:48<00:00,  4.39it/s]\n",
            "                 Class     Images  Instances      Box(P          R      mAP50  mAP50-95): 100%|██████████| 27/27 [00:04<00:00,  5.88it/s]"
          ]
        },
        {
          "output_type": "stream",
          "name": "stdout",
          "text": [
            "                   all        858       7087      0.776      0.578      0.653      0.421\n"
          ]
        },
        {
          "output_type": "stream",
          "name": "stderr",
          "text": [
            "\n"
          ]
        },
        {
          "output_type": "stream",
          "name": "stdout",
          "text": [
            "\n",
            "      Epoch    GPU_mem   box_loss   cls_loss   dfl_loss  Instances       Size\n"
          ]
        },
        {
          "output_type": "stream",
          "name": "stderr",
          "text": [
            "     44/100      13.3G       1.71      2.547      3.209        154        640: 100%|██████████| 215/215 [00:49<00:00,  4.36it/s]\n",
            "                 Class     Images  Instances      Box(P          R      mAP50  mAP50-95): 100%|██████████| 27/27 [00:04<00:00,  5.45it/s]"
          ]
        },
        {
          "output_type": "stream",
          "name": "stdout",
          "text": [
            "                   all        858       7087       0.77      0.569      0.655      0.419\n"
          ]
        },
        {
          "output_type": "stream",
          "name": "stderr",
          "text": [
            "\n"
          ]
        },
        {
          "output_type": "stream",
          "name": "stdout",
          "text": [
            "\n",
            "      Epoch    GPU_mem   box_loss   cls_loss   dfl_loss  Instances       Size\n"
          ]
        },
        {
          "output_type": "stream",
          "name": "stderr",
          "text": [
            "     45/100      13.3G      1.686      2.522      3.216        160        640: 100%|██████████| 215/215 [00:48<00:00,  4.42it/s]\n",
            "                 Class     Images  Instances      Box(P          R      mAP50  mAP50-95): 100%|██████████| 27/27 [00:04<00:00,  5.76it/s]\n"
          ]
        },
        {
          "output_type": "stream",
          "name": "stdout",
          "text": [
            "                   all        858       7087      0.743      0.579      0.646      0.415\n",
            "\n",
            "      Epoch    GPU_mem   box_loss   cls_loss   dfl_loss  Instances       Size\n"
          ]
        },
        {
          "output_type": "stream",
          "name": "stderr",
          "text": [
            "     46/100      13.3G      1.684      2.485      3.198        178        640: 100%|██████████| 215/215 [00:49<00:00,  4.37it/s]\n",
            "                 Class     Images  Instances      Box(P          R      mAP50  mAP50-95): 100%|██████████| 27/27 [00:04<00:00,  5.87it/s]"
          ]
        },
        {
          "output_type": "stream",
          "name": "stdout",
          "text": [
            "                   all        858       7087      0.765      0.571      0.647      0.417\n"
          ]
        },
        {
          "output_type": "stream",
          "name": "stderr",
          "text": [
            "\n"
          ]
        },
        {
          "output_type": "stream",
          "name": "stdout",
          "text": [
            "\n",
            "      Epoch    GPU_mem   box_loss   cls_loss   dfl_loss  Instances       Size\n"
          ]
        },
        {
          "output_type": "stream",
          "name": "stderr",
          "text": [
            "     47/100      13.3G      1.654      2.437      3.182        103        640: 100%|██████████| 215/215 [00:49<00:00,  4.37it/s]\n",
            "                 Class     Images  Instances      Box(P          R      mAP50  mAP50-95): 100%|██████████| 27/27 [00:04<00:00,  5.58it/s]\n"
          ]
        },
        {
          "output_type": "stream",
          "name": "stdout",
          "text": [
            "                   all        858       7087       0.78       0.56      0.643      0.417\n",
            "\n",
            "      Epoch    GPU_mem   box_loss   cls_loss   dfl_loss  Instances       Size\n"
          ]
        },
        {
          "output_type": "stream",
          "name": "stderr",
          "text": [
            "     48/100      13.3G      1.675      2.466       3.19        160        640: 100%|██████████| 215/215 [00:48<00:00,  4.40it/s]\n",
            "                 Class     Images  Instances      Box(P          R      mAP50  mAP50-95): 100%|██████████| 27/27 [00:04<00:00,  5.75it/s]"
          ]
        },
        {
          "output_type": "stream",
          "name": "stdout",
          "text": [
            "                   all        858       7087      0.743      0.571      0.638      0.416\n"
          ]
        },
        {
          "output_type": "stream",
          "name": "stderr",
          "text": [
            "\n"
          ]
        },
        {
          "output_type": "stream",
          "name": "stdout",
          "text": [
            "\n",
            "      Epoch    GPU_mem   box_loss   cls_loss   dfl_loss  Instances       Size\n"
          ]
        },
        {
          "output_type": "stream",
          "name": "stderr",
          "text": [
            "     49/100      13.3G       1.65      2.439      3.185         82        640: 100%|██████████| 215/215 [00:49<00:00,  4.39it/s]\n",
            "                 Class     Images  Instances      Box(P          R      mAP50  mAP50-95): 100%|██████████| 27/27 [00:04<00:00,  5.72it/s]"
          ]
        },
        {
          "output_type": "stream",
          "name": "stdout",
          "text": [
            "                   all        858       7087      0.794      0.566      0.651      0.424\n"
          ]
        },
        {
          "output_type": "stream",
          "name": "stderr",
          "text": [
            "\n"
          ]
        },
        {
          "output_type": "stream",
          "name": "stdout",
          "text": [
            "\n",
            "      Epoch    GPU_mem   box_loss   cls_loss   dfl_loss  Instances       Size\n"
          ]
        },
        {
          "output_type": "stream",
          "name": "stderr",
          "text": [
            "     50/100      13.3G      1.632      2.393      3.174        169        640: 100%|██████████| 215/215 [00:49<00:00,  4.35it/s]\n",
            "                 Class     Images  Instances      Box(P          R      mAP50  mAP50-95): 100%|██████████| 27/27 [00:04<00:00,  5.79it/s]"
          ]
        },
        {
          "output_type": "stream",
          "name": "stdout",
          "text": [
            "                   all        858       7087      0.752      0.576       0.65       0.42\n"
          ]
        },
        {
          "output_type": "stream",
          "name": "stderr",
          "text": [
            "\n"
          ]
        },
        {
          "output_type": "stream",
          "name": "stdout",
          "text": [
            "\n",
            "      Epoch    GPU_mem   box_loss   cls_loss   dfl_loss  Instances       Size\n"
          ]
        },
        {
          "output_type": "stream",
          "name": "stderr",
          "text": [
            "     51/100      13.3G      1.629      2.376       3.16         83        640: 100%|██████████| 215/215 [00:49<00:00,  4.39it/s]\n",
            "                 Class     Images  Instances      Box(P          R      mAP50  mAP50-95): 100%|██████████| 27/27 [00:04<00:00,  5.91it/s]"
          ]
        },
        {
          "output_type": "stream",
          "name": "stdout",
          "text": [
            "                   all        858       7087      0.791       0.56      0.639      0.414\n"
          ]
        },
        {
          "output_type": "stream",
          "name": "stderr",
          "text": [
            "\n"
          ]
        },
        {
          "output_type": "stream",
          "name": "stdout",
          "text": [
            "\n",
            "      Epoch    GPU_mem   box_loss   cls_loss   dfl_loss  Instances       Size\n"
          ]
        },
        {
          "output_type": "stream",
          "name": "stderr",
          "text": [
            "     52/100      13.3G      1.665      2.461       3.18        129        640: 100%|██████████| 215/215 [00:48<00:00,  4.39it/s]\n",
            "                 Class     Images  Instances      Box(P          R      mAP50  mAP50-95): 100%|██████████| 27/27 [00:04<00:00,  5.53it/s]"
          ]
        },
        {
          "output_type": "stream",
          "name": "stdout",
          "text": [
            "                   all        858       7087      0.765      0.578      0.652      0.422\n"
          ]
        },
        {
          "output_type": "stream",
          "name": "stderr",
          "text": [
            "\n"
          ]
        },
        {
          "output_type": "stream",
          "name": "stdout",
          "text": [
            "\n",
            "      Epoch    GPU_mem   box_loss   cls_loss   dfl_loss  Instances       Size\n"
          ]
        },
        {
          "output_type": "stream",
          "name": "stderr",
          "text": [
            "     53/100      13.3G      1.642      2.408      3.164        178        640: 100%|██████████| 215/215 [00:49<00:00,  4.37it/s]\n",
            "                 Class     Images  Instances      Box(P          R      mAP50  mAP50-95): 100%|██████████| 27/27 [00:04<00:00,  5.80it/s]"
          ]
        },
        {
          "output_type": "stream",
          "name": "stdout",
          "text": [
            "                   all        858       7087      0.771      0.569      0.648      0.419\n"
          ]
        },
        {
          "output_type": "stream",
          "name": "stderr",
          "text": [
            "\n"
          ]
        },
        {
          "output_type": "stream",
          "name": "stdout",
          "text": [
            "\n",
            "      Epoch    GPU_mem   box_loss   cls_loss   dfl_loss  Instances       Size\n"
          ]
        },
        {
          "output_type": "stream",
          "name": "stderr",
          "text": [
            "     54/100      13.3G      1.616       2.35       3.15        147        640: 100%|██████████| 215/215 [00:48<00:00,  4.40it/s]\n",
            "                 Class     Images  Instances      Box(P          R      mAP50  mAP50-95): 100%|██████████| 27/27 [00:04<00:00,  5.56it/s]"
          ]
        },
        {
          "output_type": "stream",
          "name": "stdout",
          "text": [
            "                   all        858       7087      0.794      0.554       0.64      0.416\n"
          ]
        },
        {
          "output_type": "stream",
          "name": "stderr",
          "text": [
            "\n"
          ]
        },
        {
          "output_type": "stream",
          "name": "stdout",
          "text": [
            "\n",
            "      Epoch    GPU_mem   box_loss   cls_loss   dfl_loss  Instances       Size\n"
          ]
        },
        {
          "output_type": "stream",
          "name": "stderr",
          "text": [
            "     55/100      13.3G      1.629      2.387      3.156        178        640: 100%|██████████| 215/215 [00:49<00:00,  4.34it/s]\n",
            "                 Class     Images  Instances      Box(P          R      mAP50  mAP50-95): 100%|██████████| 27/27 [00:04<00:00,  5.79it/s]"
          ]
        },
        {
          "output_type": "stream",
          "name": "stdout",
          "text": [
            "                   all        858       7087      0.755      0.568      0.646      0.417\n"
          ]
        },
        {
          "output_type": "stream",
          "name": "stderr",
          "text": [
            "\n"
          ]
        },
        {
          "output_type": "stream",
          "name": "stdout",
          "text": [
            "\n",
            "      Epoch    GPU_mem   box_loss   cls_loss   dfl_loss  Instances       Size\n"
          ]
        },
        {
          "output_type": "stream",
          "name": "stderr",
          "text": [
            "     56/100      13.3G      1.618      2.375      3.153         93        640: 100%|██████████| 215/215 [00:49<00:00,  4.38it/s]\n",
            "                 Class     Images  Instances      Box(P          R      mAP50  mAP50-95): 100%|██████████| 27/27 [00:04<00:00,  5.69it/s]"
          ]
        },
        {
          "output_type": "stream",
          "name": "stdout",
          "text": [
            "                   all        858       7087      0.769      0.579      0.651      0.422\n"
          ]
        },
        {
          "output_type": "stream",
          "name": "stderr",
          "text": [
            "\n"
          ]
        },
        {
          "output_type": "stream",
          "name": "stdout",
          "text": [
            "\n",
            "      Epoch    GPU_mem   box_loss   cls_loss   dfl_loss  Instances       Size\n"
          ]
        },
        {
          "output_type": "stream",
          "name": "stderr",
          "text": [
            "     57/100      13.3G      1.605      2.317      3.142        122        640: 100%|██████████| 215/215 [00:48<00:00,  4.41it/s]\n",
            "                 Class     Images  Instances      Box(P          R      mAP50  mAP50-95): 100%|██████████| 27/27 [00:04<00:00,  5.74it/s]"
          ]
        },
        {
          "output_type": "stream",
          "name": "stdout",
          "text": [
            "                   all        858       7087      0.774      0.575      0.651       0.42\n"
          ]
        },
        {
          "output_type": "stream",
          "name": "stderr",
          "text": [
            "\n"
          ]
        },
        {
          "output_type": "stream",
          "name": "stdout",
          "text": [
            "\n",
            "      Epoch    GPU_mem   box_loss   cls_loss   dfl_loss  Instances       Size\n"
          ]
        },
        {
          "output_type": "stream",
          "name": "stderr",
          "text": [
            "     58/100      13.3G      1.614      2.346      3.141        105        640: 100%|██████████| 215/215 [00:49<00:00,  4.38it/s]\n",
            "                 Class     Images  Instances      Box(P          R      mAP50  mAP50-95): 100%|██████████| 27/27 [00:04<00:00,  5.72it/s]\n"
          ]
        },
        {
          "output_type": "stream",
          "name": "stdout",
          "text": [
            "                   all        858       7087      0.755      0.591      0.658      0.426\n",
            "\n",
            "      Epoch    GPU_mem   box_loss   cls_loss   dfl_loss  Instances       Size\n"
          ]
        },
        {
          "output_type": "stream",
          "name": "stderr",
          "text": [
            "     59/100      13.3G      1.596      2.318      3.139         92        640: 100%|██████████| 215/215 [00:49<00:00,  4.38it/s]\n",
            "                 Class     Images  Instances      Box(P          R      mAP50  mAP50-95): 100%|██████████| 27/27 [00:04<00:00,  5.65it/s]\n"
          ]
        },
        {
          "output_type": "stream",
          "name": "stdout",
          "text": [
            "                   all        858       7087      0.779      0.578      0.656      0.422\n",
            "\n",
            "      Epoch    GPU_mem   box_loss   cls_loss   dfl_loss  Instances       Size\n"
          ]
        },
        {
          "output_type": "stream",
          "name": "stderr",
          "text": [
            "     60/100      13.3G      1.595      2.319      3.136        120        640: 100%|██████████| 215/215 [00:49<00:00,  4.37it/s]\n",
            "                 Class     Images  Instances      Box(P          R      mAP50  mAP50-95): 100%|██████████| 27/27 [00:04<00:00,  5.85it/s]"
          ]
        },
        {
          "output_type": "stream",
          "name": "stdout",
          "text": [
            "                   all        858       7087      0.768      0.573      0.646      0.417\n"
          ]
        },
        {
          "output_type": "stream",
          "name": "stderr",
          "text": [
            "\n"
          ]
        },
        {
          "output_type": "stream",
          "name": "stdout",
          "text": [
            "\n",
            "      Epoch    GPU_mem   box_loss   cls_loss   dfl_loss  Instances       Size\n"
          ]
        },
        {
          "output_type": "stream",
          "name": "stderr",
          "text": [
            "     61/100      13.3G      1.584      2.268      3.116        131        640: 100%|██████████| 215/215 [00:49<00:00,  4.38it/s]\n",
            "                 Class     Images  Instances      Box(P          R      mAP50  mAP50-95): 100%|██████████| 27/27 [00:04<00:00,  5.48it/s]\n"
          ]
        },
        {
          "output_type": "stream",
          "name": "stdout",
          "text": [
            "                   all        858       7087      0.782      0.563      0.653      0.421\n",
            "\n",
            "      Epoch    GPU_mem   box_loss   cls_loss   dfl_loss  Instances       Size\n"
          ]
        },
        {
          "output_type": "stream",
          "name": "stderr",
          "text": [
            "     62/100      13.3G       1.57      2.251      3.109        125        640: 100%|██████████| 215/215 [00:49<00:00,  4.38it/s]\n",
            "                 Class     Images  Instances      Box(P          R      mAP50  mAP50-95): 100%|██████████| 27/27 [00:04<00:00,  5.75it/s]"
          ]
        },
        {
          "output_type": "stream",
          "name": "stdout",
          "text": [
            "                   all        858       7087      0.789      0.561      0.649      0.417\n"
          ]
        },
        {
          "output_type": "stream",
          "name": "stderr",
          "text": [
            "\n"
          ]
        },
        {
          "output_type": "stream",
          "name": "stdout",
          "text": [
            "\n",
            "      Epoch    GPU_mem   box_loss   cls_loss   dfl_loss  Instances       Size\n"
          ]
        },
        {
          "output_type": "stream",
          "name": "stderr",
          "text": [
            "     63/100      13.3G      1.576      2.304      3.135        134        640: 100%|██████████| 215/215 [00:49<00:00,  4.37it/s]\n",
            "                 Class     Images  Instances      Box(P          R      mAP50  mAP50-95): 100%|██████████| 27/27 [00:04<00:00,  5.76it/s]"
          ]
        },
        {
          "output_type": "stream",
          "name": "stdout",
          "text": [
            "                   all        858       7087      0.772       0.57      0.649      0.416\n"
          ]
        },
        {
          "output_type": "stream",
          "name": "stderr",
          "text": [
            "\n"
          ]
        },
        {
          "output_type": "stream",
          "name": "stdout",
          "text": [
            "\n",
            "      Epoch    GPU_mem   box_loss   cls_loss   dfl_loss  Instances       Size\n"
          ]
        },
        {
          "output_type": "stream",
          "name": "stderr",
          "text": [
            "     64/100      13.3G      1.548      2.206      3.095        161        640: 100%|██████████| 215/215 [00:49<00:00,  4.37it/s]\n",
            "                 Class     Images  Instances      Box(P          R      mAP50  mAP50-95): 100%|██████████| 27/27 [00:04<00:00,  5.66it/s]"
          ]
        },
        {
          "output_type": "stream",
          "name": "stdout",
          "text": [
            "                   all        858       7087      0.799      0.558      0.651      0.423\n"
          ]
        },
        {
          "output_type": "stream",
          "name": "stderr",
          "text": [
            "\n"
          ]
        },
        {
          "output_type": "stream",
          "name": "stdout",
          "text": [
            "\n",
            "      Epoch    GPU_mem   box_loss   cls_loss   dfl_loss  Instances       Size\n"
          ]
        },
        {
          "output_type": "stream",
          "name": "stderr",
          "text": [
            "     65/100      13.3G      1.556      2.224      3.108        136        640: 100%|██████████| 215/215 [00:48<00:00,  4.39it/s]\n",
            "                 Class     Images  Instances      Box(P          R      mAP50  mAP50-95): 100%|██████████| 27/27 [00:04<00:00,  5.45it/s]"
          ]
        },
        {
          "output_type": "stream",
          "name": "stdout",
          "text": [
            "                   all        858       7087      0.801      0.564      0.654      0.425\n"
          ]
        },
        {
          "output_type": "stream",
          "name": "stderr",
          "text": [
            "\n"
          ]
        },
        {
          "output_type": "stream",
          "name": "stdout",
          "text": [
            "\n",
            "      Epoch    GPU_mem   box_loss   cls_loss   dfl_loss  Instances       Size\n"
          ]
        },
        {
          "output_type": "stream",
          "name": "stderr",
          "text": [
            "     66/100      13.3G      1.555      2.218      3.098        101        640: 100%|██████████| 215/215 [00:49<00:00,  4.37it/s]\n",
            "                 Class     Images  Instances      Box(P          R      mAP50  mAP50-95): 100%|██████████| 27/27 [00:04<00:00,  5.62it/s]"
          ]
        },
        {
          "output_type": "stream",
          "name": "stdout",
          "text": [
            "                   all        858       7087      0.774      0.578      0.656      0.427\n"
          ]
        },
        {
          "output_type": "stream",
          "name": "stderr",
          "text": [
            "\n"
          ]
        },
        {
          "output_type": "stream",
          "name": "stdout",
          "text": [
            "\n",
            "      Epoch    GPU_mem   box_loss   cls_loss   dfl_loss  Instances       Size\n"
          ]
        },
        {
          "output_type": "stream",
          "name": "stderr",
          "text": [
            "     67/100      13.3G      1.532       2.18      3.102         99        640: 100%|██████████| 215/215 [00:49<00:00,  4.33it/s]\n",
            "                 Class     Images  Instances      Box(P          R      mAP50  mAP50-95): 100%|██████████| 27/27 [00:04<00:00,  5.89it/s]"
          ]
        },
        {
          "output_type": "stream",
          "name": "stdout",
          "text": [
            "                   all        858       7087      0.799      0.559      0.649      0.426\n"
          ]
        },
        {
          "output_type": "stream",
          "name": "stderr",
          "text": [
            "\n"
          ]
        },
        {
          "output_type": "stream",
          "name": "stdout",
          "text": [
            "\n",
            "      Epoch    GPU_mem   box_loss   cls_loss   dfl_loss  Instances       Size\n"
          ]
        },
        {
          "output_type": "stream",
          "name": "stderr",
          "text": [
            "     68/100      13.3G      1.534      2.174      3.091        120        640: 100%|██████████| 215/215 [00:48<00:00,  4.39it/s]\n",
            "                 Class     Images  Instances      Box(P          R      mAP50  mAP50-95): 100%|██████████| 27/27 [00:04<00:00,  5.65it/s]"
          ]
        },
        {
          "output_type": "stream",
          "name": "stdout",
          "text": [
            "                   all        858       7087      0.798      0.566      0.651      0.425\n"
          ]
        },
        {
          "output_type": "stream",
          "name": "stderr",
          "text": [
            "\n"
          ]
        },
        {
          "output_type": "stream",
          "name": "stdout",
          "text": [
            "\n",
            "      Epoch    GPU_mem   box_loss   cls_loss   dfl_loss  Instances       Size\n"
          ]
        },
        {
          "output_type": "stream",
          "name": "stderr",
          "text": [
            "     69/100      13.3G      1.522      2.179      3.093         97        640: 100%|██████████| 215/215 [00:48<00:00,  4.42it/s]\n",
            "                 Class     Images  Instances      Box(P          R      mAP50  mAP50-95): 100%|██████████| 27/27 [00:04<00:00,  5.69it/s]"
          ]
        },
        {
          "output_type": "stream",
          "name": "stdout",
          "text": [
            "                   all        858       7087       0.79      0.565      0.645      0.422\n"
          ]
        },
        {
          "output_type": "stream",
          "name": "stderr",
          "text": [
            "\n"
          ]
        },
        {
          "output_type": "stream",
          "name": "stdout",
          "text": [
            "\n",
            "      Epoch    GPU_mem   box_loss   cls_loss   dfl_loss  Instances       Size\n"
          ]
        },
        {
          "output_type": "stream",
          "name": "stderr",
          "text": [
            "     70/100      13.3G      1.509      2.128      3.082        146        640: 100%|██████████| 215/215 [00:48<00:00,  4.39it/s]\n",
            "                 Class     Images  Instances      Box(P          R      mAP50  mAP50-95): 100%|██████████| 27/27 [00:04<00:00,  5.98it/s]"
          ]
        },
        {
          "output_type": "stream",
          "name": "stdout",
          "text": [
            "                   all        858       7087      0.791      0.557      0.648      0.424\n"
          ]
        },
        {
          "output_type": "stream",
          "name": "stderr",
          "text": [
            "\n"
          ]
        },
        {
          "output_type": "stream",
          "name": "stdout",
          "text": [
            "\n",
            "      Epoch    GPU_mem   box_loss   cls_loss   dfl_loss  Instances       Size\n"
          ]
        },
        {
          "output_type": "stream",
          "name": "stderr",
          "text": [
            "     71/100      13.3G       1.51      2.156      3.086        159        640: 100%|██████████| 215/215 [00:49<00:00,  4.38it/s]\n",
            "                 Class     Images  Instances      Box(P          R      mAP50  mAP50-95): 100%|██████████| 27/27 [00:04<00:00,  5.65it/s]\n"
          ]
        },
        {
          "output_type": "stream",
          "name": "stdout",
          "text": [
            "                   all        858       7087      0.798      0.568      0.652      0.427\n",
            "\n",
            "      Epoch    GPU_mem   box_loss   cls_loss   dfl_loss  Instances       Size\n"
          ]
        },
        {
          "output_type": "stream",
          "name": "stderr",
          "text": [
            "     72/100      13.3G       1.49      2.114      3.063         90        640: 100%|██████████| 215/215 [00:49<00:00,  4.38it/s]\n",
            "                 Class     Images  Instances      Box(P          R      mAP50  mAP50-95): 100%|██████████| 27/27 [00:04<00:00,  5.71it/s]"
          ]
        },
        {
          "output_type": "stream",
          "name": "stdout",
          "text": [
            "                   all        858       7087      0.769      0.569      0.649      0.426\n"
          ]
        },
        {
          "output_type": "stream",
          "name": "stderr",
          "text": [
            "\n"
          ]
        },
        {
          "output_type": "stream",
          "name": "stdout",
          "text": [
            "\n",
            "      Epoch    GPU_mem   box_loss   cls_loss   dfl_loss  Instances       Size\n"
          ]
        },
        {
          "output_type": "stream",
          "name": "stderr",
          "text": [
            "     73/100      13.3G      1.512      2.148      3.074        128        640: 100%|██████████| 215/215 [00:48<00:00,  4.39it/s]\n",
            "                 Class     Images  Instances      Box(P          R      mAP50  mAP50-95): 100%|██████████| 27/27 [00:04<00:00,  5.78it/s]"
          ]
        },
        {
          "output_type": "stream",
          "name": "stdout",
          "text": [
            "                   all        858       7087      0.779      0.575      0.648      0.423\n"
          ]
        },
        {
          "output_type": "stream",
          "name": "stderr",
          "text": [
            "\n"
          ]
        },
        {
          "output_type": "stream",
          "name": "stdout",
          "text": [
            "\n",
            "      Epoch    GPU_mem   box_loss   cls_loss   dfl_loss  Instances       Size\n"
          ]
        },
        {
          "output_type": "stream",
          "name": "stderr",
          "text": [
            "     74/100      13.3G        1.5      2.122      3.066        144        640: 100%|██████████| 215/215 [00:49<00:00,  4.39it/s]\n",
            "                 Class     Images  Instances      Box(P          R      mAP50  mAP50-95): 100%|██████████| 27/27 [00:04<00:00,  5.76it/s]"
          ]
        },
        {
          "output_type": "stream",
          "name": "stdout",
          "text": [
            "                   all        858       7087       0.78      0.565       0.65      0.426\n"
          ]
        },
        {
          "output_type": "stream",
          "name": "stderr",
          "text": [
            "\n"
          ]
        },
        {
          "output_type": "stream",
          "name": "stdout",
          "text": [
            "\n",
            "      Epoch    GPU_mem   box_loss   cls_loss   dfl_loss  Instances       Size\n"
          ]
        },
        {
          "output_type": "stream",
          "name": "stderr",
          "text": [
            "     75/100      13.3G      1.498      2.122      3.071        160        640: 100%|██████████| 215/215 [00:49<00:00,  4.37it/s]\n",
            "                 Class     Images  Instances      Box(P          R      mAP50  mAP50-95): 100%|██████████| 27/27 [00:04<00:00,  5.90it/s]"
          ]
        },
        {
          "output_type": "stream",
          "name": "stdout",
          "text": [
            "                   all        858       7087      0.773       0.58      0.659      0.432\n"
          ]
        },
        {
          "output_type": "stream",
          "name": "stderr",
          "text": [
            "\n"
          ]
        },
        {
          "output_type": "stream",
          "name": "stdout",
          "text": [
            "\n",
            "      Epoch    GPU_mem   box_loss   cls_loss   dfl_loss  Instances       Size\n"
          ]
        },
        {
          "output_type": "stream",
          "name": "stderr",
          "text": [
            "     76/100      13.3G      1.479       2.08       3.06        162        640: 100%|██████████| 215/215 [00:49<00:00,  4.35it/s]\n",
            "                 Class     Images  Instances      Box(P          R      mAP50  mAP50-95): 100%|██████████| 27/27 [00:04<00:00,  5.66it/s]"
          ]
        },
        {
          "output_type": "stream",
          "name": "stdout",
          "text": [
            "                   all        858       7087      0.762      0.585      0.661      0.434\n"
          ]
        },
        {
          "output_type": "stream",
          "name": "stderr",
          "text": [
            "\n"
          ]
        },
        {
          "output_type": "stream",
          "name": "stdout",
          "text": [
            "\n",
            "      Epoch    GPU_mem   box_loss   cls_loss   dfl_loss  Instances       Size\n"
          ]
        },
        {
          "output_type": "stream",
          "name": "stderr",
          "text": [
            "     77/100      13.3G       1.46      2.038       3.05        103        640: 100%|██████████| 215/215 [00:49<00:00,  4.36it/s]\n",
            "                 Class     Images  Instances      Box(P          R      mAP50  mAP50-95): 100%|██████████| 27/27 [00:04<00:00,  5.76it/s]"
          ]
        },
        {
          "output_type": "stream",
          "name": "stdout",
          "text": [
            "                   all        858       7087      0.805      0.574      0.656      0.431\n"
          ]
        },
        {
          "output_type": "stream",
          "name": "stderr",
          "text": [
            "\n"
          ]
        },
        {
          "output_type": "stream",
          "name": "stdout",
          "text": [
            "\n",
            "      Epoch    GPU_mem   box_loss   cls_loss   dfl_loss  Instances       Size\n"
          ]
        },
        {
          "output_type": "stream",
          "name": "stderr",
          "text": [
            "     78/100      13.3G       1.49      2.117      3.059        112        640: 100%|██████████| 215/215 [00:49<00:00,  4.36it/s]\n",
            "                 Class     Images  Instances      Box(P          R      mAP50  mAP50-95): 100%|██████████| 27/27 [00:04<00:00,  5.72it/s]"
          ]
        },
        {
          "output_type": "stream",
          "name": "stdout",
          "text": [
            "                   all        858       7087      0.777      0.577      0.654      0.429\n"
          ]
        },
        {
          "output_type": "stream",
          "name": "stderr",
          "text": [
            "\n"
          ]
        },
        {
          "output_type": "stream",
          "name": "stdout",
          "text": [
            "\n",
            "      Epoch    GPU_mem   box_loss   cls_loss   dfl_loss  Instances       Size\n"
          ]
        },
        {
          "output_type": "stream",
          "name": "stderr",
          "text": [
            "     79/100      13.3G      1.466      2.068      3.055        122        640: 100%|██████████| 215/215 [00:49<00:00,  4.37it/s]\n",
            "                 Class     Images  Instances      Box(P          R      mAP50  mAP50-95): 100%|██████████| 27/27 [00:04<00:00,  5.74it/s]"
          ]
        },
        {
          "output_type": "stream",
          "name": "stdout",
          "text": [
            "                   all        858       7087      0.785      0.575      0.655      0.432\n"
          ]
        },
        {
          "output_type": "stream",
          "name": "stderr",
          "text": [
            "\n"
          ]
        },
        {
          "output_type": "stream",
          "name": "stdout",
          "text": [
            "\n",
            "      Epoch    GPU_mem   box_loss   cls_loss   dfl_loss  Instances       Size\n"
          ]
        },
        {
          "output_type": "stream",
          "name": "stderr",
          "text": [
            "     80/100      13.3G      1.472      2.071      3.052        115        640: 100%|██████████| 215/215 [00:49<00:00,  4.34it/s]\n",
            "                 Class     Images  Instances      Box(P          R      mAP50  mAP50-95): 100%|██████████| 27/27 [00:04<00:00,  5.82it/s]"
          ]
        },
        {
          "output_type": "stream",
          "name": "stdout",
          "text": [
            "                   all        858       7087      0.791      0.564      0.646      0.425\n"
          ]
        },
        {
          "output_type": "stream",
          "name": "stderr",
          "text": [
            "\n"
          ]
        },
        {
          "output_type": "stream",
          "name": "stdout",
          "text": [
            "\n",
            "      Epoch    GPU_mem   box_loss   cls_loss   dfl_loss  Instances       Size\n"
          ]
        },
        {
          "output_type": "stream",
          "name": "stderr",
          "text": [
            "     81/100      13.3G      1.463      2.082      3.053        176        640: 100%|██████████| 215/215 [00:49<00:00,  4.38it/s]\n",
            "                 Class     Images  Instances      Box(P          R      mAP50  mAP50-95): 100%|██████████| 27/27 [00:04<00:00,  5.59it/s]"
          ]
        },
        {
          "output_type": "stream",
          "name": "stdout",
          "text": [
            "                   all        858       7087      0.787      0.567       0.65      0.427\n"
          ]
        },
        {
          "output_type": "stream",
          "name": "stderr",
          "text": [
            "\n"
          ]
        },
        {
          "output_type": "stream",
          "name": "stdout",
          "text": [
            "\n",
            "      Epoch    GPU_mem   box_loss   cls_loss   dfl_loss  Instances       Size\n"
          ]
        },
        {
          "output_type": "stream",
          "name": "stderr",
          "text": [
            "     82/100      13.3G      1.448      2.025      3.039        104        640: 100%|██████████| 215/215 [00:49<00:00,  4.39it/s]\n",
            "                 Class     Images  Instances      Box(P          R      mAP50  mAP50-95): 100%|██████████| 27/27 [00:04<00:00,  5.76it/s]"
          ]
        },
        {
          "output_type": "stream",
          "name": "stdout",
          "text": [
            "                   all        858       7087      0.786      0.569       0.65      0.428\n"
          ]
        },
        {
          "output_type": "stream",
          "name": "stderr",
          "text": [
            "\n"
          ]
        },
        {
          "output_type": "stream",
          "name": "stdout",
          "text": [
            "\n",
            "      Epoch    GPU_mem   box_loss   cls_loss   dfl_loss  Instances       Size\n"
          ]
        },
        {
          "output_type": "stream",
          "name": "stderr",
          "text": [
            "     83/100      13.3G      1.426      1.967      3.019        104        640: 100%|██████████| 215/215 [00:49<00:00,  4.37it/s]\n",
            "                 Class     Images  Instances      Box(P          R      mAP50  mAP50-95): 100%|██████████| 27/27 [00:04<00:00,  5.92it/s]"
          ]
        },
        {
          "output_type": "stream",
          "name": "stdout",
          "text": [
            "                   all        858       7087      0.786      0.566      0.648      0.428\n"
          ]
        },
        {
          "output_type": "stream",
          "name": "stderr",
          "text": [
            "\n"
          ]
        },
        {
          "output_type": "stream",
          "name": "stdout",
          "text": [
            "\n",
            "      Epoch    GPU_mem   box_loss   cls_loss   dfl_loss  Instances       Size\n"
          ]
        },
        {
          "output_type": "stream",
          "name": "stderr",
          "text": [
            "     84/100      13.3G      1.421      1.986      3.022        107        640: 100%|██████████| 215/215 [00:48<00:00,  4.39it/s]\n",
            "                 Class     Images  Instances      Box(P          R      mAP50  mAP50-95): 100%|██████████| 27/27 [00:04<00:00,  5.68it/s]"
          ]
        },
        {
          "output_type": "stream",
          "name": "stdout",
          "text": [
            "                   all        858       7087      0.808      0.568      0.653      0.432\n"
          ]
        },
        {
          "output_type": "stream",
          "name": "stderr",
          "text": [
            "\n"
          ]
        },
        {
          "output_type": "stream",
          "name": "stdout",
          "text": [
            "\n",
            "      Epoch    GPU_mem   box_loss   cls_loss   dfl_loss  Instances       Size\n"
          ]
        },
        {
          "output_type": "stream",
          "name": "stderr",
          "text": [
            "     85/100      13.3G      1.421      1.987      3.022         89        640: 100%|██████████| 215/215 [00:49<00:00,  4.36it/s]\n",
            "                 Class     Images  Instances      Box(P          R      mAP50  mAP50-95): 100%|██████████| 27/27 [00:04<00:00,  5.76it/s]"
          ]
        },
        {
          "output_type": "stream",
          "name": "stdout",
          "text": [
            "                   all        858       7087      0.793      0.569      0.656      0.432\n"
          ]
        },
        {
          "output_type": "stream",
          "name": "stderr",
          "text": [
            "\n"
          ]
        },
        {
          "output_type": "stream",
          "name": "stdout",
          "text": [
            "\n",
            "      Epoch    GPU_mem   box_loss   cls_loss   dfl_loss  Instances       Size\n"
          ]
        },
        {
          "output_type": "stream",
          "name": "stderr",
          "text": [
            "     86/100      13.3G      1.413      1.957      3.009        153        640: 100%|██████████| 215/215 [00:49<00:00,  4.38it/s]\n",
            "                 Class     Images  Instances      Box(P          R      mAP50  mAP50-95): 100%|██████████| 27/27 [00:04<00:00,  5.73it/s]"
          ]
        },
        {
          "output_type": "stream",
          "name": "stdout",
          "text": [
            "                   all        858       7087      0.814      0.555       0.66      0.434\n"
          ]
        },
        {
          "output_type": "stream",
          "name": "stderr",
          "text": [
            "\n"
          ]
        },
        {
          "output_type": "stream",
          "name": "stdout",
          "text": [
            "\n",
            "      Epoch    GPU_mem   box_loss   cls_loss   dfl_loss  Instances       Size\n"
          ]
        },
        {
          "output_type": "stream",
          "name": "stderr",
          "text": [
            "     87/100      13.3G      1.419      1.998      3.016        135        640: 100%|██████████| 215/215 [00:49<00:00,  4.36it/s]\n",
            "                 Class     Images  Instances      Box(P          R      mAP50  mAP50-95): 100%|██████████| 27/27 [00:04<00:00,  6.01it/s]"
          ]
        },
        {
          "output_type": "stream",
          "name": "stdout",
          "text": [
            "                   all        858       7087      0.777      0.579      0.659      0.434\n"
          ]
        },
        {
          "output_type": "stream",
          "name": "stderr",
          "text": [
            "\n"
          ]
        },
        {
          "output_type": "stream",
          "name": "stdout",
          "text": [
            "\n",
            "      Epoch    GPU_mem   box_loss   cls_loss   dfl_loss  Instances       Size\n"
          ]
        },
        {
          "output_type": "stream",
          "name": "stderr",
          "text": [
            "     88/100      13.3G      1.415      1.977      3.029        104        640: 100%|██████████| 215/215 [00:49<00:00,  4.39it/s]\n",
            "                 Class     Images  Instances      Box(P          R      mAP50  mAP50-95): 100%|██████████| 27/27 [00:04<00:00,  5.89it/s]"
          ]
        },
        {
          "output_type": "stream",
          "name": "stdout",
          "text": [
            "                   all        858       7087      0.788      0.569      0.657      0.434\n"
          ]
        },
        {
          "output_type": "stream",
          "name": "stderr",
          "text": [
            "\n"
          ]
        },
        {
          "output_type": "stream",
          "name": "stdout",
          "text": [
            "\n",
            "      Epoch    GPU_mem   box_loss   cls_loss   dfl_loss  Instances       Size\n"
          ]
        },
        {
          "output_type": "stream",
          "name": "stderr",
          "text": [
            "     89/100      13.3G      1.401       1.96       3.02        177        640: 100%|██████████| 215/215 [00:49<00:00,  4.38it/s]\n",
            "                 Class     Images  Instances      Box(P          R      mAP50  mAP50-95): 100%|██████████| 27/27 [00:04<00:00,  5.64it/s]"
          ]
        },
        {
          "output_type": "stream",
          "name": "stdout",
          "text": [
            "                   all        858       7087      0.799      0.567      0.653      0.435\n"
          ]
        },
        {
          "output_type": "stream",
          "name": "stderr",
          "text": [
            "\n"
          ]
        },
        {
          "output_type": "stream",
          "name": "stdout",
          "text": [
            "\n",
            "      Epoch    GPU_mem   box_loss   cls_loss   dfl_loss  Instances       Size\n"
          ]
        },
        {
          "output_type": "stream",
          "name": "stderr",
          "text": [
            "     90/100      13.3G      1.407      1.961      3.018        135        640: 100%|██████████| 215/215 [00:49<00:00,  4.33it/s]\n",
            "                 Class     Images  Instances      Box(P          R      mAP50  mAP50-95): 100%|██████████| 27/27 [00:04<00:00,  5.78it/s]"
          ]
        },
        {
          "output_type": "stream",
          "name": "stdout",
          "text": [
            "                   all        858       7087      0.808      0.561      0.655      0.434\n"
          ]
        },
        {
          "output_type": "stream",
          "name": "stderr",
          "text": [
            "\n"
          ]
        },
        {
          "output_type": "stream",
          "name": "stdout",
          "text": [
            "Closing dataloader mosaic\n",
            "\u001b[34m\u001b[1malbumentations: \u001b[0mBlur(p=0.01, blur_limit=(3, 7)), MedianBlur(p=0.01, blur_limit=(3, 7)), ToGray(p=0.01, num_output_channels=3, method='weighted_average'), CLAHE(p=0.01, clip_limit=(1.0, 4.0), tile_grid_size=(8, 8))\n",
            "\n",
            "      Epoch    GPU_mem   box_loss   cls_loss   dfl_loss  Instances       Size\n"
          ]
        },
        {
          "output_type": "stream",
          "name": "stderr",
          "text": [
            "     91/100      13.3G      1.282      1.529      2.849         98        640: 100%|██████████| 215/215 [00:50<00:00,  4.27it/s]\n",
            "                 Class     Images  Instances      Box(P          R      mAP50  mAP50-95): 100%|██████████| 27/27 [00:04<00:00,  5.72it/s]"
          ]
        },
        {
          "output_type": "stream",
          "name": "stdout",
          "text": [
            "                   all        858       7087      0.803      0.558       0.65       0.43\n"
          ]
        },
        {
          "output_type": "stream",
          "name": "stderr",
          "text": [
            "\n"
          ]
        },
        {
          "output_type": "stream",
          "name": "stdout",
          "text": [
            "\n",
            "      Epoch    GPU_mem   box_loss   cls_loss   dfl_loss  Instances       Size\n"
          ]
        },
        {
          "output_type": "stream",
          "name": "stderr",
          "text": [
            "     92/100      13.3G       1.26      1.503      2.843         68        640: 100%|██████████| 215/215 [00:48<00:00,  4.39it/s]\n",
            "                 Class     Images  Instances      Box(P          R      mAP50  mAP50-95): 100%|██████████| 27/27 [00:04<00:00,  5.89it/s]"
          ]
        },
        {
          "output_type": "stream",
          "name": "stdout",
          "text": [
            "                   all        858       7087      0.808       0.56      0.655      0.434\n"
          ]
        },
        {
          "output_type": "stream",
          "name": "stderr",
          "text": [
            "\n"
          ]
        },
        {
          "output_type": "stream",
          "name": "stdout",
          "text": [
            "\n",
            "      Epoch    GPU_mem   box_loss   cls_loss   dfl_loss  Instances       Size\n"
          ]
        },
        {
          "output_type": "stream",
          "name": "stderr",
          "text": [
            "     93/100      13.3G      1.247      1.479      2.827         73        640: 100%|██████████| 215/215 [00:48<00:00,  4.44it/s]\n",
            "                 Class     Images  Instances      Box(P          R      mAP50  mAP50-95): 100%|██████████| 27/27 [00:04<00:00,  5.72it/s]"
          ]
        },
        {
          "output_type": "stream",
          "name": "stdout",
          "text": [
            "                   all        858       7087      0.787      0.565       0.65       0.43\n"
          ]
        },
        {
          "output_type": "stream",
          "name": "stderr",
          "text": [
            "\n"
          ]
        },
        {
          "output_type": "stream",
          "name": "stdout",
          "text": [
            "\n",
            "      Epoch    GPU_mem   box_loss   cls_loss   dfl_loss  Instances       Size\n"
          ]
        },
        {
          "output_type": "stream",
          "name": "stderr",
          "text": [
            "     94/100      13.3G      1.242      1.476      2.826         66        640: 100%|██████████| 215/215 [00:48<00:00,  4.45it/s]\n",
            "                 Class     Images  Instances      Box(P          R      mAP50  mAP50-95): 100%|██████████| 27/27 [00:04<00:00,  5.66it/s]"
          ]
        },
        {
          "output_type": "stream",
          "name": "stdout",
          "text": [
            "                   all        858       7087       0.78      0.567      0.648      0.431\n"
          ]
        },
        {
          "output_type": "stream",
          "name": "stderr",
          "text": [
            "\n"
          ]
        },
        {
          "output_type": "stream",
          "name": "stdout",
          "text": [
            "\n",
            "      Epoch    GPU_mem   box_loss   cls_loss   dfl_loss  Instances       Size\n"
          ]
        },
        {
          "output_type": "stream",
          "name": "stderr",
          "text": [
            "     95/100      13.3G      1.223      1.452      2.821        108        640: 100%|██████████| 215/215 [00:48<00:00,  4.43it/s]\n",
            "                 Class     Images  Instances      Box(P          R      mAP50  mAP50-95): 100%|██████████| 27/27 [00:04<00:00,  5.89it/s]"
          ]
        },
        {
          "output_type": "stream",
          "name": "stdout",
          "text": [
            "                   all        858       7087      0.787      0.567      0.648      0.431\n"
          ]
        },
        {
          "output_type": "stream",
          "name": "stderr",
          "text": [
            "\n"
          ]
        },
        {
          "output_type": "stream",
          "name": "stdout",
          "text": [
            "\n",
            "      Epoch    GPU_mem   box_loss   cls_loss   dfl_loss  Instances       Size\n"
          ]
        },
        {
          "output_type": "stream",
          "name": "stderr",
          "text": [
            "     96/100      13.3G      1.222      1.442      2.817         53        640: 100%|██████████| 215/215 [00:48<00:00,  4.43it/s]\n",
            "                 Class     Images  Instances      Box(P          R      mAP50  mAP50-95): 100%|██████████| 27/27 [00:04<00:00,  5.71it/s]"
          ]
        },
        {
          "output_type": "stream",
          "name": "stdout",
          "text": [
            "                   all        858       7087      0.807      0.554      0.648       0.43\n"
          ]
        },
        {
          "output_type": "stream",
          "name": "stderr",
          "text": [
            "\n"
          ]
        },
        {
          "output_type": "stream",
          "name": "stdout",
          "text": [
            "\n",
            "      Epoch    GPU_mem   box_loss   cls_loss   dfl_loss  Instances       Size\n"
          ]
        },
        {
          "output_type": "stream",
          "name": "stderr",
          "text": [
            "     97/100      13.3G      1.218      1.433      2.823         30        640: 100%|██████████| 215/215 [00:48<00:00,  4.41it/s]\n",
            "                 Class     Images  Instances      Box(P          R      mAP50  mAP50-95): 100%|██████████| 27/27 [00:04<00:00,  5.73it/s]"
          ]
        },
        {
          "output_type": "stream",
          "name": "stdout",
          "text": [
            "                   all        858       7087      0.799      0.563      0.651      0.431\n"
          ]
        },
        {
          "output_type": "stream",
          "name": "stderr",
          "text": [
            "\n"
          ]
        },
        {
          "output_type": "stream",
          "name": "stdout",
          "text": [
            "\n",
            "      Epoch    GPU_mem   box_loss   cls_loss   dfl_loss  Instances       Size\n"
          ]
        },
        {
          "output_type": "stream",
          "name": "stderr",
          "text": [
            "     98/100      13.3G      1.213      1.437      2.821        106        640: 100%|██████████| 215/215 [00:48<00:00,  4.43it/s]\n",
            "                 Class     Images  Instances      Box(P          R      mAP50  mAP50-95): 100%|██████████| 27/27 [00:04<00:00,  5.71it/s]"
          ]
        },
        {
          "output_type": "stream",
          "name": "stdout",
          "text": [
            "                   all        858       7087      0.806      0.555      0.648       0.43\n"
          ]
        },
        {
          "output_type": "stream",
          "name": "stderr",
          "text": [
            "\n"
          ]
        },
        {
          "output_type": "stream",
          "name": "stdout",
          "text": [
            "\n",
            "      Epoch    GPU_mem   box_loss   cls_loss   dfl_loss  Instances       Size\n"
          ]
        },
        {
          "output_type": "stream",
          "name": "stderr",
          "text": [
            "     99/100      13.3G      1.199      1.409      2.809         63        640: 100%|██████████| 215/215 [00:48<00:00,  4.44it/s]\n",
            "                 Class     Images  Instances      Box(P          R      mAP50  mAP50-95): 100%|██████████| 27/27 [00:04<00:00,  5.55it/s]"
          ]
        },
        {
          "output_type": "stream",
          "name": "stdout",
          "text": [
            "                   all        858       7087      0.792      0.561      0.649      0.431\n"
          ]
        },
        {
          "output_type": "stream",
          "name": "stderr",
          "text": [
            "\n"
          ]
        },
        {
          "output_type": "stream",
          "name": "stdout",
          "text": [
            "\n",
            "      Epoch    GPU_mem   box_loss   cls_loss   dfl_loss  Instances       Size\n"
          ]
        },
        {
          "output_type": "stream",
          "name": "stderr",
          "text": [
            "    100/100      13.3G      1.202      1.423      2.806         60        640: 100%|██████████| 215/215 [00:48<00:00,  4.43it/s]\n",
            "                 Class     Images  Instances      Box(P          R      mAP50  mAP50-95): 100%|██████████| 27/27 [00:04<00:00,  5.80it/s]"
          ]
        },
        {
          "output_type": "stream",
          "name": "stdout",
          "text": [
            "                   all        858       7087      0.799      0.561      0.651      0.431\n"
          ]
        },
        {
          "output_type": "stream",
          "name": "stderr",
          "text": [
            "\n"
          ]
        },
        {
          "output_type": "stream",
          "name": "stdout",
          "text": [
            "\n",
            "100 epochs completed in 1.547 hours.\n",
            "Optimizer stripped from runs/detect/yolo10L_Wchange_V2/weights/last.pt, 52.2MB\n",
            "Optimizer stripped from runs/detect/yolo10L_Wchange_V2/weights/best.pt, 52.2MB\n",
            "\n",
            "Validating runs/detect/yolo10L_Wchange_V2/weights/best.pt...\n",
            "Ultralytics 8.3.87 🚀 Python-3.11.11 torch-2.5.1+cu124 CUDA:0 (NVIDIA A100-SXM4-40GB, 40507MiB)\n",
            "YOLOv10l summary (fused): 197 layers, 25,725,620 parameters, 0 gradients, 126.4 GFLOPs\n"
          ]
        },
        {
          "output_type": "stream",
          "name": "stderr",
          "text": [
            "                 Class     Images  Instances      Box(P          R      mAP50  mAP50-95): 100%|██████████| 27/27 [00:06<00:00,  4.17it/s]\n"
          ]
        },
        {
          "output_type": "stream",
          "name": "stdout",
          "text": [
            "                   all        858       7087       0.79       0.57      0.657      0.434\n",
            "            pedestrian        507       2169      0.851      0.475      0.603      0.325\n",
            "                   car        666       3380      0.813      0.725      0.791      0.573\n",
            "                   bus        263        311      0.797       0.58      0.676      0.485\n",
            "               bicycle        223        332      0.735      0.554      0.623      0.397\n",
            "                 truck        338        554       0.74      0.417      0.518      0.346\n",
            "            motorcycle        253        341      0.802      0.666      0.731      0.481\n",
            "Speed: 0.1ms preprocess, 1.9ms inference, 0.0ms loss, 0.1ms postprocess per image\n",
            "Results saved to \u001b[1mruns/detect/yolo10L_Wchange_V2\u001b[0m\n"
          ]
        }
      ],
      "source": [
        "from ultralytics import YOLO\n",
        "\n",
        "model_path = \"./runs/detect/yolo10l/weights/last.pt\"\n",
        "# Load a COCO-pretrained YOLOv8n model\n",
        "model = YOLO(model_path)\n",
        "yaml_path = \"./datasets/Nuim_dataset_Yv8/nuim_dataset.yaml\"\n",
        "\n",
        "\n",
        "save_path = \"yolo10L_Wchange_V2\"\n",
        "# Train the model on the COCO8 example dataset for 100 epochs\n",
        "results = model.train(data=yaml_path, epochs=100, imgsz=640,batch=16, warmup_epochs= 0.0,\n",
        "                      box = 6.0,\n",
        "                      cls = 1.0,\n",
        "                      dfl = 2.5,\n",
        "                      # lr0=0.001,\n",
        "                      # patience = 10,\n",
        "                      name = save_path,\n",
        "                      # resume=True,\n",
        "                      # augment=True,\n",
        "                      hsv_h=0.015,               # Hue augmentation\n",
        "                      hsv_s=0.7,                 # Saturation augmentation\n",
        "                      hsv_v=0.4,                 # Brightness augmentation\n",
        "                      translate=0.1,             # Random translation\n",
        "                      scale=0.2,                 # Random scaling\n",
        "                      flipud=0.0,                # Random vertical flip\n",
        "                      fliplr=0.5,                # Random horizontal flip\n",
        "                      mosaic=1.0,\n",
        "                      mixup=0.1,                 # Mixup augmentation\n",
        "                      degrees=10.0,              # Random rotation\n",
        "                  )\n"
      ]
    },
    {
      "cell_type": "code",
      "execution_count": null,
      "metadata": {
        "id": "zvHQRInBRhq5"
      },
      "outputs": [],
      "source": [
        "from google.colab import drive\n",
        "drive.mount('/content/drive')"
      ]
    },
    {
      "cell_type": "markdown",
      "metadata": {
        "id": "aI3OK0XRWK3E"
      },
      "source": [
        "# Get image from dataset"
      ]
    },
    {
      "cell_type": "code",
      "execution_count": null,
      "metadata": {
        "colab": {
          "base_uri": "https://localhost:8080/"
        },
        "id": "h8X4aoPLWeIv",
        "outputId": "8cc9734e-f493-4518-95ee-d5acdc8d9691"
      },
      "outputs": [
        {
          "name": "stdout",
          "output_type": "stream",
          "text": [
            "/content/drive/MyDrive\n"
          ]
        }
      ],
      "source": [
        "%cd /content/drive/MyDrive"
      ]
    },
    {
      "cell_type": "code",
      "execution_count": null,
      "metadata": {
        "colab": {
          "base_uri": "https://localhost:8080/",
          "height": 408
        },
        "id": "3fNwpXH8WJdv",
        "outputId": "67cd6874-2859-4fc4-87f4-0f423ea858e1"
      },
      "outputs": [
        {
          "data": {
            "image/png": "[encoded data removed]",
            "text/plain": [
              "<Figure size 800x600 with 1 Axes>"
            ]
          },
          "metadata": {},
          "output_type": "display_data"
        }
      ],
      "source": [
        "import os\n",
        "import random\n",
        "import matplotlib.pyplot as plt\n",
        "import cv2\n",
        "\n",
        "# Path to the image directory\n",
        "path_2_images = \"./datasets/Nuim_dataset_Yv8/images/train\"\n",
        "\n",
        "# Get a random image filename\n",
        "random_image = random.choice(os.listdir(path_2_images))\n",
        "\n",
        "# Construct the full image path\n",
        "image_path = os.path.join(path_2_images, random_image)\n",
        "\n",
        "# Read and display the image\n",
        "image = cv2.imread(image_path)\n",
        "image = cv2.cvtColor(image, cv2.COLOR_BGR2RGB)  # Convert from BGR (OpenCV default) to RGB\n",
        "\n",
        "plt.figure(figsize=(8, 6))\n",
        "plt.imshow(image)\n",
        "plt.axis(\"off\")  # Hide axis\n",
        "plt.title(f\"Random Image: {random_image}\")\n",
        "plt.show()\n"
      ]
    },
    {
      "cell_type": "markdown",
      "source": [
        "Odds of ambulance in dataset (40 in original)"
      ],
      "metadata": {
        "id": "ErM5g83K8sOB"
      }
    },
    {
      "cell_type": "code",
      "source": [
        "import math\n",
        "from scipy.stats import hypergeom\n",
        "\n",
        "# Parameters\n",
        "N = 93000 - 431 # Total population\n",
        "K = 40     # Number of ambulances in population\n",
        "n = 4722 - 431  # Sample size (adjust as needed)\n",
        "\n",
        "# Compute probabilities for k = 1 to 40\n",
        "# Compute probabilities for k >= 1 to 40\n",
        "probabilities = {}\n",
        "for k in range(1, 41):\n",
        "    prob = hypergeom.sf(k-1, N, K, n)  # P(X >= k)\n",
        "    probabilities[k] = prob\n",
        "    print(f\"P(X >= {k}) = {prob:.6f}\")\n",
        "\n",
        "# Probability of at least one ambulance\n",
        "prob_at_least_one = probabilities[1]  # Same as P(X >= 1)\n",
        "print(f\"P(X >= 1) = {prob_at_least_one:.6f}\")"
      ],
      "metadata": {
        "colab": {
          "base_uri": "https://localhost:8080/"
        },
        "id": "-WFYlxaD8rnF",
        "outputId": "21e97115-b8a7-4023-b040-8f58177ca7a6"
      },
      "execution_count": null,
      "outputs": [
        {
          "output_type": "stream",
          "name": "stdout",
          "text": [
            "P(X >= 1) = 0.850274\n",
            "P(X >= 2) = 0.559030\n",
            "P(X >= 3) = 0.282919\n",
            "P(X >= 4) = 0.112926\n",
            "P(X >= 5) = 0.036516\n",
            "P(X >= 6) = 0.009789\n",
            "P(X >= 7) = 0.002216\n",
            "P(X >= 8) = 0.000430\n",
            "P(X >= 9) = 0.000072\n",
            "P(X >= 10) = 0.000011\n",
            "P(X >= 11) = 0.000001\n",
            "P(X >= 12) = 0.000000\n",
            "P(X >= 13) = 0.000000\n",
            "P(X >= 14) = 0.000000\n",
            "P(X >= 15) = 0.000000\n",
            "P(X >= 16) = 0.000000\n",
            "P(X >= 17) = 0.000000\n",
            "P(X >= 18) = 0.000000\n",
            "P(X >= 19) = 0.000000\n",
            "P(X >= 20) = 0.000000\n",
            "P(X >= 21) = 0.000000\n",
            "P(X >= 22) = 0.000000\n",
            "P(X >= 23) = 0.000000\n",
            "P(X >= 24) = 0.000000\n",
            "P(X >= 25) = 0.000000\n",
            "P(X >= 26) = 0.000000\n",
            "P(X >= 27) = 0.000000\n",
            "P(X >= 28) = 0.000000\n",
            "P(X >= 29) = 0.000000\n",
            "P(X >= 30) = 0.000000\n",
            "P(X >= 31) = 0.000000\n",
            "P(X >= 32) = 0.000000\n",
            "P(X >= 33) = 0.000000\n",
            "P(X >= 34) = 0.000000\n",
            "P(X >= 35) = 0.000000\n",
            "P(X >= 36) = 0.000000\n",
            "P(X >= 37) = 0.000000\n",
            "P(X >= 38) = 0.000000\n",
            "P(X >= 39) = 0.000000\n",
            "P(X >= 40) = 0.000000\n",
            "P(X >= 1) = 0.850274\n"
          ]
        }
      ]
    }
  ],
  "metadata": {
    "colab": {
      "provenance": [],
      "gpuType": "T4",
      "mount_file_id": "1SpEG9nIJIZdYXLXvNvdK__k6pY8ghJQF",
      "authorship_tag": "ABX9TyOHueRLCnygQUSNthW6iwLv",
      "include_colab_link": true
    },
    "kernelspec": {
      "display_name": "Python 3",
      "name": "python3"
    },
    "language_info": {
      "name": "python"
    },
    "accelerator": "GPU"
  },
  "nbformat": 4,
  "nbformat_minor": 0
}