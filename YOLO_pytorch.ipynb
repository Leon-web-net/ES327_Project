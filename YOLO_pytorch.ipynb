{
  "nbformat": 4,
  "nbformat_minor": 0,
  "metadata": {
    "colab": {
      "provenance": [],
      "collapsed_sections": [
        "KI3MLr9jrnR5",
        "_RrGH6SKrsIp",
        "6zzRxnoRr3pb"
      ],
      "mount_file_id": "1amduCKA67qgXRDKdr_c_z3NHVTRsWFT4",
      "authorship_tag": "ABX9TyNak9GzSToY1GbsLq7IbVG4",
      "include_colab_link": true
    },
    "kernelspec": {
      "name": "python3",
      "display_name": "Python 3"
    },
    "language_info": {
      "name": "python"
    }
  },
  "cells": [
    {
      "cell_type": "markdown",
      "metadata": {
        "id": "view-in-github",
        "colab_type": "text"
      },
      "source": [
        "<a href=\"https://colab.research.google.com/github/Leon-web-net/ES327_Project/blob/main/YOLO_pytorch.ipynb\" target=\"_parent\"><img src=\"https://colab.research.google.com/assets/colab-badge.svg\" alt=\"Open In Colab\"/></a>"
      ]
    },
    {
      "cell_type": "markdown",
      "source": [
        "# Change Directory/albumentations/Config_list"
      ],
      "metadata": {
        "id": "ufbyeKD7LZjr"
      }
    },
    {
      "cell_type": "code",
      "source": [
        "import os\n",
        "# Change to a new directory\n",
        "new_directory = '/content/drive/MyDrive/YOLOV3_Pytorch/'\n",
        "os.chdir(new_directory)\n",
        "\n",
        "# Confirm the changey\n",
        "print(\"New working directory:\", os.getcwd())"
      ],
      "metadata": {
        "colab": {
          "base_uri": "https://localhost:8080/"
        },
        "id": "pqzh8Ii3LXaj",
        "outputId": "d909d707-2107-465b-c12d-9e14dcc18519"
      },
      "execution_count": 2,
      "outputs": [
        {
          "output_type": "stream",
          "name": "stdout",
          "text": [
            "New working directory: /content/drive/MyDrive/YOLOV3_Pytorch\n"
          ]
        }
      ]
    },
    {
      "cell_type": "markdown",
      "source": [
        "# Pascal Voc to Yolo"
      ],
      "metadata": {
        "id": "KI3MLr9jrnR5"
      }
    },
    {
      "cell_type": "code",
      "source": [
        "# import os\n",
        "\n",
        "# HEIGHT = 900\n",
        "# WIDTH = 1600\n",
        "\n",
        "# dataset_path = \"/content/drive/MyDrive/datasets/Nuim_dataset\"\n",
        "# os.makedirs(dataset_path + \"/labels_yolo\", exist_ok=True)\n",
        "# label_path = dataset_path + \"/labels\"\n",
        "# yolo_label_path = dataset_path + \"/labels_yolo\"\n",
        "\n",
        "# label_list = os.listdir(label_path)\n",
        "# labels_num = len(label_list)\n",
        "# print(labels_num)\n",
        "# i = 0\n",
        "# for label_file in label_list:\n",
        "\n",
        "#     with open(os.path.join(label_path, label_file), \"r\") as file:\n",
        "#         lines = file.readlines()\n",
        "\n",
        "#     yolo_labels = []\n",
        "#     for line in lines:\n",
        "#         values = line.strip().split()\n",
        "#         class_id = int(values[0])\n",
        "#         x1, y1, x2, y2 = map(float, values[1:])\n",
        "\n",
        "#         # Convert from Pascal VOC to YOLO format\n",
        "#         x_center = (x1 + x2) / 2 / WIDTH\n",
        "#         y_center = (y1 + y2) / 2 / HEIGHT\n",
        "#         width = (x2 - x1) / WIDTH\n",
        "#         height = (y2 - y1) / HEIGHT\n",
        "\n",
        "#         # Format the YOLO label\n",
        "#         yolo_labels.append(f\"{class_id} {x_center:.6f} {y_center:.6f} {width:.6f} {height:.6f}\")\n",
        "\n",
        "#     # Save the YOLO labels to a new file in the labels_yolo directory\n",
        "#     with open(os.path.join(yolo_label_path, label_file), \"w\") as file:\n",
        "#         file.write(\"\\n\".join(yolo_labels))\n",
        "\n",
        "# print(f\"Converted {labels_num} label files to YOLO format.\")"
      ],
      "metadata": {
        "colab": {
          "base_uri": "https://localhost:8080/"
        },
        "id": "DzZJABffVD_d",
        "outputId": "b41b4f60-d2bc-4f13-e455-2c84e98d7d14"
      },
      "execution_count": null,
      "outputs": [
        {
          "output_type": "stream",
          "name": "stdout",
          "text": [
            "6000\n",
            "Converted 6000 label files to YOLO format.\n"
          ]
        }
      ]
    },
    {
      "cell_type": "markdown",
      "source": [
        "# Class Instances"
      ],
      "metadata": {
        "id": "_RrGH6SKrsIp"
      }
    },
    {
      "cell_type": "code",
      "source": [
        "import pandas as pd\n",
        "import os\n",
        "from concurrent.futures import ThreadPoolExecutor\n",
        "import tqdm\n",
        "\n",
        "# Define your class names\n",
        "class_names = [\n",
        "    \"pedestrian\",\n",
        "    \"movable_object\",\n",
        "    \"car\",\n",
        "    \"bus\",\n",
        "    \"bicycle\",\n",
        "    \"truck\",\n",
        "    \"motorcycle\",\n",
        "    \"construction\",\n",
        "]\n",
        "\n",
        "# Function to count class instances from a list of label files\n",
        "def process_label_file(label_path):\n",
        "    class_counts = {class_name: 0 for class_name in class_names}\n",
        "\n",
        "    try:\n",
        "        with open(label_path, \"r\") as file:\n",
        "            lines = file.readlines()\n",
        "            for line in lines:\n",
        "                class_idx = int(line.split()[0])\n",
        "                class_name = class_names[class_idx]\n",
        "                class_counts[class_name] += 1\n",
        "    except Exception as e:\n",
        "        print(f\"Error reading {label_path}: {e}\")\n",
        "\n",
        "    return class_counts\n",
        "\n",
        "# Function to aggregate counts from all label files\n",
        "def count_class_instances(csv_path, label_dir, num_threads=8):\n",
        "    df = pd.read_csv(csv_path)\n",
        "    label_paths = [os.path.join(label_dir, path) for path in df[\"label_path\"]]\n",
        "\n",
        "    # Initialize class counts\n",
        "    total_counts = {class_name: 0 for class_name in class_names}\n",
        "\n",
        "    # Use multithreading to process files in parallel\n",
        "    with ThreadPoolExecutor(max_workers=num_threads) as executor:\n",
        "        results = list(tqdm.tqdm(executor.map(process_label_file, label_paths), total=len(label_paths)))\n",
        "\n",
        "    # Aggregate the counts\n",
        "    for result in results:\n",
        "        for class_name, count in result.items():\n",
        "            total_counts[class_name] += count\n",
        "\n",
        "    return total_counts\n",
        "\n",
        "# Paths to your train.csv and test.csv\n",
        "dataset_path = \"/content/drive/MyDrive/datasets/Nuim_dataset\"\n",
        "train_csv_path = os.path.join(dataset_path, \"train.csv\")\n",
        "test_csv_path = os.path.join(dataset_path, \"test.csv\")\n",
        "label_dir = os.path.join(dataset_path, \"labels\")\n",
        "\n",
        "# Count class instances\n",
        "train_class_counts = count_class_instances(train_csv_path, label_dir)\n",
        "test_class_counts = count_class_instances(test_csv_path, label_dir)\n",
        "\n",
        "# Print the results\n",
        "print(\"\\nClass Instances in Train Dataset:\")\n",
        "for class_name, count in train_class_counts.items():\n",
        "    print(f\"{class_name}: {count}\")\n",
        "\n",
        "print(\"\\nClass Instances in Test Dataset:\")\n",
        "for class_name, count in test_class_counts.items():\n",
        "    print(f\"{class_name}: {count}\")\n"
      ],
      "metadata": {
        "colab": {
          "base_uri": "https://localhost:8080/"
        },
        "id": "YWkv9SGTIGMD",
        "outputId": "1ffaf6fb-3a79-48de-c1e9-5c1787a2e033"
      },
      "execution_count": null,
      "outputs": [
        {
          "output_type": "stream",
          "name": "stderr",
          "text": [
            "100%|██████████| 4800/4800 [01:32<00:00, 51.91it/s]\n",
            "100%|██████████| 1200/1200 [00:46<00:00, 25.59it/s]"
          ]
        },
        {
          "output_type": "stream",
          "name": "stdout",
          "text": [
            "\n",
            "Class Instances in Train Dataset:\n",
            "pedestrian: 11151\n",
            "movable_object: 11449\n",
            "car: 16276\n",
            "bus: 532\n",
            "bicycle: 1255\n",
            "truck: 2393\n",
            "motorcycle: 1033\n",
            "construction: 384\n",
            "\n",
            "Class Instances in Test Dataset:\n",
            "pedestrian: 2508\n",
            "movable_object: 2712\n",
            "car: 3920\n",
            "bus: 138\n",
            "bicycle: 292\n",
            "truck: 573\n",
            "motorcycle: 294\n",
            "construction: 92\n"
          ]
        },
        {
          "output_type": "stream",
          "name": "stderr",
          "text": [
            "\n"
          ]
        }
      ]
    },
    {
      "cell_type": "markdown",
      "source": [
        "# Anchor boxes K means cluster"
      ],
      "metadata": {
        "id": "6zzRxnoRr3pb"
      }
    },
    {
      "cell_type": "code",
      "source": [
        "import numpy as np\n",
        "import pandas as pd\n",
        "import os\n",
        "from sklearn.cluster import KMeans\n",
        "import tqdm\n",
        "\n",
        "# Define image size (same as used in your training)\n",
        "IMAGE_SIZE = 416\n"
      ],
      "metadata": {
        "id": "nRgZDnLNr17L"
      },
      "execution_count": null,
      "outputs": []
    },
    {
      "cell_type": "code",
      "source": [
        "def load_bbox_dimensions(label_dir):\n",
        "    bbox_dims = []\n",
        "\n",
        "    # Iterate through all label files\n",
        "    for label_file in tqdm.tqdm(os.listdir(label_dir)):\n",
        "        label_path = os.path.join(label_dir, label_file)\n",
        "        with open(label_path, \"r\") as f:\n",
        "            for line in f.readlines():\n",
        "                # YOLO format: class_idx, x_center, y_center, width, height\n",
        "                _, _, _, width, height = map(float, line.strip().split())\n",
        "                bbox_dims.append([width * IMAGE_SIZE, height * IMAGE_SIZE])  # Scale to image size\n",
        "\n",
        "    return np.array(bbox_dims)\n"
      ],
      "metadata": {
        "id": "4CXAZH8PsQ5-"
      },
      "execution_count": null,
      "outputs": []
    },
    {
      "cell_type": "code",
      "source": [
        "def run_kmeans(bbox_dims, n_clusters=9):\n",
        "    kmeans = KMeans(n_clusters=n_clusters, random_state=0, n_init=\"auto\")\n",
        "    kmeans.fit(bbox_dims)\n",
        "\n",
        "    # Get the resulting anchor boxes\n",
        "    anchors = kmeans.cluster_centers_\n",
        "    anchors = np.array(anchors, dtype=np.float32)\n",
        "\n",
        "    # Sort anchors by area (width * height) for consistency\n",
        "    anchors = anchors[np.argsort(anchors[:, 0] * anchors[:, 1])]\n",
        "\n",
        "    return anchors\n",
        "\n",
        "def normalize_anchors(anchors, image_size):\n",
        "    normalized_anchors = anchors / image_size\n",
        "    return normalized_anchors"
      ],
      "metadata": {
        "id": "Y9UoMLctsZj5"
      },
      "execution_count": null,
      "outputs": []
    },
    {
      "cell_type": "code",
      "source": [
        "# Set paths\n",
        "LABEL_DIR = \"/content/drive/MyDrive/datasets/Nuim_dataset/labels\"\n",
        "\n",
        "# Load bounding box dimensions\n",
        "bbox_dims = load_bbox_dimensions(LABEL_DIR)\n",
        "\n",
        "# Run K-means clustering to find anchor boxes\n",
        "optimized_anchors = run_kmeans(bbox_dims, n_clusters=9)\n",
        "\n",
        "# Normalize the anchor boxes\n",
        "normalized_anchors = normalize_anchors(optimized_anchors, IMAGE_SIZE)\n",
        "\n",
        "# Print the optimized anchor boxes\n",
        "print(\"Optimized Anchor Boxes (YOLO format):\")\n",
        "for anchor in normalized_anchors:\n",
        "    print(f\"[{anchor[0]:.4f}, {anchor[1]:.4f}]\")\n"
      ],
      "metadata": {
        "colab": {
          "base_uri": "https://localhost:8080/"
        },
        "id": "DrbtCjiZtk3V",
        "outputId": "777b423b-b6cd-4917-cd43-cce5f3028bfa"
      },
      "execution_count": null,
      "outputs": [
        {
          "output_type": "stream",
          "name": "stderr",
          "text": [
            "100%|██████████| 6000/6000 [01:17<00:00, 77.65it/s] \n"
          ]
        },
        {
          "output_type": "stream",
          "name": "stdout",
          "text": [
            "Optimized Anchor Boxes (YOLO format):\n",
            "[0.0208, 0.0396]\n",
            "[0.0340, 0.1151]\n",
            "[0.0763, 0.0706]\n",
            "[0.0773, 0.2487]\n",
            "[0.1514, 0.1406]\n",
            "[0.2713, 0.2756]\n",
            "[0.2171, 0.4931]\n",
            "[0.6019, 0.4547]\n",
            "[0.7280, 0.8929]\n"
          ]
        }
      ]
    },
    {
      "cell_type": "code",
      "source": [
        "normalized_anchors"
      ],
      "metadata": {
        "colab": {
          "base_uri": "https://localhost:8080/"
        },
        "id": "Qr4lVQIctvbC",
        "outputId": "47736db5-e972-4a7f-b882-ff04c1e8099f"
      },
      "execution_count": null,
      "outputs": [
        {
          "output_type": "execute_result",
          "data": {
            "text/plain": [
              "array([[0.02075368, 0.03960799],\n",
              "       [0.03395113, 0.1150809 ],\n",
              "       [0.07630085, 0.07060258],\n",
              "       [0.07728364, 0.2486714 ],\n",
              "       [0.15140891, 0.1405775 ],\n",
              "       [0.27132374, 0.2756058 ],\n",
              "       [0.21706615, 0.49310425],\n",
              "       [0.6019261 , 0.45473444],\n",
              "       [0.728     , 0.8928778 ]], dtype=float32)"
            ]
          },
          "metadata": {},
          "execution_count": 8
        }
      ]
    },
    {
      "cell_type": "markdown",
      "source": [
        "# Albumentation Edit"
      ],
      "metadata": {
        "id": "0tdxzPZoLPhC"
      }
    },
    {
      "cell_type": "code",
      "source": [
        "!pip install albumentations==2.0.0"
      ],
      "metadata": {
        "colab": {
          "base_uri": "https://localhost:8080/",
          "height": 672
        },
        "id": "tuD5iutwGIMV",
        "outputId": "155662b3-e00f-4b78-cdd8-fded1290159f"
      },
      "execution_count": 3,
      "outputs": [
        {
          "output_type": "stream",
          "name": "stdout",
          "text": [
            "Collecting albumentations==2.0.0\n",
            "  Downloading albumentations-2.0.0-py3-none-any.whl.metadata (38 kB)\n",
            "Requirement already satisfied: numpy>=1.24.4 in /usr/local/lib/python3.10/dist-packages (from albumentations==2.0.0) (1.26.4)\n",
            "Requirement already satisfied: scipy>=1.10.0 in /usr/local/lib/python3.10/dist-packages (from albumentations==2.0.0) (1.13.1)\n",
            "Requirement already satisfied: PyYAML in /usr/local/lib/python3.10/dist-packages (from albumentations==2.0.0) (6.0.2)\n",
            "Requirement already satisfied: pydantic>=2.9.2 in /usr/local/lib/python3.10/dist-packages (from albumentations==2.0.0) (2.10.4)\n",
            "Collecting albucore==0.0.23 (from albumentations==2.0.0)\n",
            "  Downloading albucore-0.0.23-py3-none-any.whl.metadata (5.3 kB)\n",
            "Requirement already satisfied: opencv-python-headless>=4.9.0.80 in /usr/local/lib/python3.10/dist-packages (from albumentations==2.0.0) (4.10.0.84)\n",
            "Requirement already satisfied: stringzilla>=3.10.4 in /usr/local/lib/python3.10/dist-packages (from albucore==0.0.23->albumentations==2.0.0) (3.11.3)\n",
            "Collecting simsimd>=5.9.2 (from albucore==0.0.23->albumentations==2.0.0)\n",
            "  Downloading simsimd-6.2.1-cp310-cp310-manylinux_2_28_x86_64.whl.metadata (66 kB)\n",
            "\u001b[2K     \u001b[90m━━━━━━━━━━━━━━━━━━━━━━━━━━━━━━━━━━━━━━━━\u001b[0m \u001b[32m66.0/66.0 kB\u001b[0m \u001b[31m4.2 MB/s\u001b[0m eta \u001b[36m0:00:00\u001b[0m\n",
            "\u001b[?25hRequirement already satisfied: annotated-types>=0.6.0 in /usr/local/lib/python3.10/dist-packages (from pydantic>=2.9.2->albumentations==2.0.0) (0.7.0)\n",
            "Requirement already satisfied: pydantic-core==2.27.2 in /usr/local/lib/python3.10/dist-packages (from pydantic>=2.9.2->albumentations==2.0.0) (2.27.2)\n",
            "Requirement already satisfied: typing-extensions>=4.12.2 in /usr/local/lib/python3.10/dist-packages (from pydantic>=2.9.2->albumentations==2.0.0) (4.12.2)\n",
            "Downloading albumentations-2.0.0-py3-none-any.whl (273 kB)\n",
            "\u001b[2K   \u001b[90m━━━━━━━━━━━━━━━━━━━━━━━━━━━━━━━━━━━━━━━━\u001b[0m \u001b[32m273.9/273.9 kB\u001b[0m \u001b[31m15.4 MB/s\u001b[0m eta \u001b[36m0:00:00\u001b[0m\n",
            "\u001b[?25hDownloading albucore-0.0.23-py3-none-any.whl (14 kB)\n",
            "Downloading simsimd-6.2.1-cp310-cp310-manylinux_2_28_x86_64.whl (632 kB)\n",
            "\u001b[2K   \u001b[90m━━━━━━━━━━━━━━━━━━━━━━━━━━━━━━━━━━━━━━━━\u001b[0m \u001b[32m632.7/632.7 kB\u001b[0m \u001b[31m20.6 MB/s\u001b[0m eta \u001b[36m0:00:00\u001b[0m\n",
            "\u001b[?25hInstalling collected packages: simsimd, albucore, albumentations\n",
            "  Attempting uninstall: albucore\n",
            "    Found existing installation: albucore 0.0.19\n",
            "    Uninstalling albucore-0.0.19:\n",
            "      Successfully uninstalled albucore-0.0.19\n",
            "  Attempting uninstall: albumentations\n",
            "    Found existing installation: albumentations 1.4.20\n",
            "    Uninstalling albumentations-1.4.20:\n",
            "      Successfully uninstalled albumentations-1.4.20\n",
            "Successfully installed albucore-0.0.23 albumentations-2.0.0 simsimd-6.2.1\n"
          ]
        },
        {
          "output_type": "display_data",
          "data": {
            "application/vnd.colab-display-data+json": {
              "pip_warning": {
                "packages": [
                  "albucore",
                  "albumentations"
                ]
              },
              "id": "90087af3edfa4c4a96a86e84dbc86c8f"
            }
          },
          "metadata": {}
        }
      ]
    },
    {
      "cell_type": "code",
      "source": [
        "import config\n",
        "\n",
        "config.DEVICE"
      ],
      "metadata": {
        "colab": {
          "base_uri": "https://localhost:8080/",
          "height": 90
        },
        "id": "tE0e_B2z1dJh",
        "outputId": "edd87a5e-5b74-493a-c86a-2de1e0947ed1"
      },
      "execution_count": 3,
      "outputs": [
        {
          "output_type": "stream",
          "name": "stderr",
          "text": [
            "/usr/local/lib/python3.10/dist-packages/albumentations/core/validation.py:45: UserWarning: ShiftScaleRotate is a special case of Affine transform. Please use Affine transform instead.\n",
            "  original_init(self, **validated_kwargs)\n"
          ]
        },
        {
          "output_type": "execute_result",
          "data": {
            "text/plain": [
              "'cpu'"
            ],
            "application/vnd.google.colaboratory.intrinsic+json": {
              "type": "string"
            }
          },
          "metadata": {},
          "execution_count": 3
        }
      ]
    },
    {
      "cell_type": "code",
      "source": [
        "import shutil\n",
        "\n",
        "\n",
        "# Replace the file from Google Drive\n",
        "src = \"/content/drive/MyDrive/YOLOV3_Pytorch/bbox_utils.py\"\n",
        "dst = \"/usr/local/lib/python3.10/dist-packages/albumentations/core/bbox_utils.py\"\n",
        "\n",
        "shutil.copy(src, dst)\n",
        "print(\"File replaced successfully!\")\n"
      ],
      "metadata": {
        "colab": {
          "base_uri": "https://localhost:8080/"
        },
        "id": "A9HfD8ePKtFX",
        "outputId": "f6f7de9b-af38-4685-8127-9b2ebd3b75d6"
      },
      "execution_count": null,
      "outputs": [
        {
          "output_type": "stream",
          "name": "stdout",
          "text": [
            "File replaced successfully!\n"
          ]
        }
      ]
    },
    {
      "cell_type": "code",
      "source": [
        "\"\"\"\n",
        "Information about architecture config:\n",
        "Tuple is structured by (filters, kernel_size, stride)\n",
        "Every conv is a same convolution.\n",
        "List is structured by \"B\" indicating a residual block followed by the number of repeats\n",
        "\"S\" is for scale prediction block and computing the yolo loss\n",
        "\"U\" is for upsampling the feature map and concatenating with a previous layer\n",
        "\"\"\"\n",
        "\n",
        "config_list = [\n",
        "    (32, 3, 1),\n",
        "    (64, 3, 2),\n",
        "    [\"B\", 1],\n",
        "    (128, 3, 2),\n",
        "    [\"B\", 2],\n",
        "    (256, 3, 2),\n",
        "    [\"B\", 8],\n",
        "    (512, 3, 2),\n",
        "    [\"B\", 8],\n",
        "    (1024, 3, 2),\n",
        "    [\"B\", 4],  # To this point is Darknet-53\n",
        "    (512, 1, 1),\n",
        "    (1024, 3, 1),\n",
        "    \"S\",\n",
        "    (256, 1, 1),\n",
        "    \"U\",\n",
        "    (256, 1, 1),\n",
        "    (512, 3, 1),\n",
        "    \"S\",\n",
        "    (128, 1, 1),\n",
        "    \"U\",\n",
        "    (128, 1, 1),\n",
        "    (256, 3, 1),\n",
        "    \"S\",\n",
        "]"
      ],
      "metadata": {
        "id": "ARKfAcC858pt"
      },
      "execution_count": 3,
      "outputs": []
    },
    {
      "cell_type": "markdown",
      "source": [
        "# Model"
      ],
      "metadata": {
        "id": "lo4-Y10PI89U"
      }
    },
    {
      "cell_type": "code",
      "execution_count": 4,
      "metadata": {
        "colab": {
          "base_uri": "https://localhost:8080/"
        },
        "id": "DsMBs8StNAzq",
        "outputId": "7861694f-c8b6-48c3-d4e5-ed51f27474ad"
      },
      "outputs": [
        {
          "output_type": "stream",
          "name": "stdout",
          "text": [
            "Success!\n"
          ]
        }
      ],
      "source": [
        "import torch\n",
        "import torch.nn as nn\n",
        "import config\n",
        "\n",
        "class CNNBlock(nn.Module):\n",
        "  def __init__(self, in_channels, out_channels, bn_act=True, **kwargs):\n",
        "    super().__init__()\n",
        "    self.conv = nn.Conv2d(in_channels, out_channels, bias=not bn_act, **kwargs)\n",
        "    self.bn = nn.BatchNorm2d(out_channels)\n",
        "    self.leaky = nn.LeakyReLU(0.1)\n",
        "    self.use_bn_act = bn_act\n",
        "\n",
        "\n",
        "  def forward(self, x):\n",
        "    if self.use_bn_act:\n",
        "      return self.leaky(self.bn(self.conv(x)))\n",
        "    else:\n",
        "      return self.conv(x)\n",
        "\n",
        "class ResidualBlock(nn.Module):\n",
        "  def __init__(self, channels, use_residual=True, num_repeats=1):\n",
        "    super().__init__()\n",
        "    self.layers = nn.ModuleList()\n",
        "    for repeat in range(num_repeats):\n",
        "      self.layers +=[\n",
        "          nn.Sequential(\n",
        "          CNNBlock(channels, channels//2, kernel_size=1),\n",
        "          CNNBlock(channels//2, channels, kernel_size=3, padding=1),\n",
        "          )\n",
        "      ]\n",
        "      self.use_residual = use_residual\n",
        "      self.num_repeats = num_repeats\n",
        "\n",
        "  def forward(self, x):\n",
        "    for layer in self.layers:\n",
        "      x = layer(x) + x if self.use_residual else layer(x)\n",
        "    return x\n",
        "\n",
        "class ScalePrediction(nn.Module):\n",
        "  def __init__(self, in_channels, num_classes):\n",
        "    super().__init__()\n",
        "    self.pred = nn.Sequential(\n",
        "        CNNBlock(in_channels, 2*in_channels, kernel_size=3, padding=1),\n",
        "        CNNBlock(2*in_channels, 3*(5+num_classes), bn_act=False, kernel_size=1),  # [po, x, y, w, h]\n",
        "    )\n",
        "\n",
        "    self.num_classes = num_classes\n",
        "\n",
        "  def forward(self,x):\n",
        "    return(\n",
        "        self.pred(x).reshape(\n",
        "            x.shape[0],3, self.num_classes+5, x.shape[2], x.shape[3]\n",
        "        ).permute(0,1,3,4,2)  # change order\n",
        "    )\n",
        "\n",
        "class YOLOv3(nn.Module):\n",
        "\n",
        "  def __init__(self, in_channels=3, num_classes=10):\n",
        "    super().__init__()\n",
        "    self.num_classes = num_classes\n",
        "    self.in_channels = in_channels\n",
        "    self.layers = self._create_conv_layers()\n",
        "\n",
        "  def forward(self,x):\n",
        "    outputs = []\n",
        "    route_connections = []\n",
        "\n",
        "    for layer in self.layers:\n",
        "      if isinstance(layer, ScalePrediction):\n",
        "        outputs.append(layer(x))\n",
        "        continue\n",
        "      x = layer(x)\n",
        "\n",
        "      if isinstance(layer, ResidualBlock) and layer.num_repeats == 8:\n",
        "        route_connections.append(x)\n",
        "\n",
        "      elif isinstance(layer, nn.Upsample):\n",
        "        x = torch.cat([x, route_connections[-1]], dim=1)\n",
        "        route_connections.pop()\n",
        "\n",
        "    return outputs\n",
        "\n",
        "  def _create_conv_layers(self):\n",
        "    layers = nn.ModuleList()\n",
        "    in_channels = self.in_channels\n",
        "\n",
        "    for module in config_list:\n",
        "      if isinstance(module, tuple):\n",
        "        out_channels, kernel_size, stride = module\n",
        "        layers.append(CNNBlock(\n",
        "            in_channels,\n",
        "            out_channels,\n",
        "            kernel_size = kernel_size,\n",
        "            stride = stride,\n",
        "            padding = 1 if kernel_size == 3 else 0,\n",
        "        ))\n",
        "        in_channels = out_channels\n",
        "\n",
        "      elif isinstance(module, list):\n",
        "        num_repeats = module[1]\n",
        "        layers.append(ResidualBlock(in_channels, num_repeats=num_repeats,))\n",
        "\n",
        "      elif isinstance(module, str):\n",
        "        if module == \"S\":\n",
        "          layers+=[\n",
        "              ResidualBlock(in_channels, use_residual=False, num_repeats=1),\n",
        "              CNNBlock(in_channels, in_channels//2, kernel_size=1),\n",
        "              ScalePrediction(in_channels//2, num_classes=self.num_classes),\n",
        "          ]\n",
        "\n",
        "          in_channels = in_channels // 2\n",
        "\n",
        "        elif module == \"U\":\n",
        "          layers.append(nn.Upsample(scale_factor=2),)\n",
        "          in_channels = in_channels * 3\n",
        "\n",
        "    return layers\n",
        "\n",
        "\n",
        "if __name__ == \"__main__\":\n",
        "  num_classes = config.NUM_CLASSES\n",
        "  IMAGE_SIZE = 416\n",
        "  model = YOLOv3(num_classes=num_classes)\n",
        "  x = torch.randn((2,3,IMAGE_SIZE,IMAGE_SIZE))\n",
        "  out = model(x)\n",
        "  assert model(x)[0].shape == (2,3,IMAGE_SIZE//32, IMAGE_SIZE//32, num_classes+5)\n",
        "  assert model(x)[1].shape == (2,3,IMAGE_SIZE//16, IMAGE_SIZE//16, num_classes+5)\n",
        "  assert model(x)[2].shape == (2,3,IMAGE_SIZE//8, IMAGE_SIZE//8, num_classes+5)\n",
        "  print(\"Success!\")\n"
      ]
    },
    {
      "cell_type": "markdown",
      "source": [
        "## Imports"
      ],
      "metadata": {
        "id": "ZMRf1t2mNiVN"
      }
    },
    {
      "cell_type": "code",
      "source": [
        "import numpy as np\n",
        "import os\n",
        "import pandas as pd\n",
        "import torch\n",
        "\n",
        "from PIL import Image, ImageFile\n",
        "from torch.utils.data import Dataset, DataLoader\n",
        "from tqdm import tqdm\n",
        "from utils import iou_width_height, intersection_over_union, non_max_suppression\n"
      ],
      "metadata": {
        "id": "I7hfRviO3WGn"
      },
      "execution_count": 5,
      "outputs": []
    },
    {
      "cell_type": "markdown",
      "source": [
        "# Dataset Loader"
      ],
      "metadata": {
        "id": "x8WmcPvENofE"
      }
    },
    {
      "cell_type": "code",
      "source": [
        "ImageFile.LOAD_TRUNCATED_IMAGES = True"
      ],
      "metadata": {
        "cellView": "code",
        "id": "E54v_0wmNneV"
      },
      "execution_count": 6,
      "outputs": []
    },
    {
      "cell_type": "markdown",
      "source": [
        "# Loss Function"
      ],
      "metadata": {
        "id": "q5mlEtsRJieA"
      }
    },
    {
      "cell_type": "code",
      "source": [
        "import torch\n",
        "import torch.nn as nn\n",
        "\n",
        "from utils import intersection_over_union\n",
        "\n",
        "class YoloLoss(nn.Module):\n",
        "  def __init__(self):\n",
        "    super().__init__()\n",
        "    self.mse = nn.MSELoss()\n",
        "    self.bce = nn.BCEWithLogitsLoss()\n",
        "    self.entropy = nn.CrossEntropyLoss()\n",
        "    self.sigmoid = nn.Sigmoid()\n",
        "\n",
        "    # Constants\n",
        "    self.lambda_class = 1\n",
        "    self.lambda_noobj = 10\n",
        "    self.lambda_obj = 1\n",
        "    self.lambda_box = 10\n",
        "\n",
        "\n",
        "  def forward(self, predictions, target, anchors):\n",
        "    obj = target[...,0] == 1\n",
        "    noobj = target[...,0] == 0\n",
        "\n",
        "    # No object loss\n",
        "    no_object_loss = self.bce(\n",
        "        (predictions[...,0:1][noobj]), (target[...,0:1][noobj]),\n",
        "    )\n",
        "\n",
        "    # Object Loss\n",
        "    anchors = anchors.reshape(1,3,1,1,2)\n",
        "    box_preds = torch.cat([self.sigmoid(predictions[...,1:3]), torch.exp(predictions[...,3:5])*anchors], dim=-1)\n",
        "    ious = intersection_over_union(box_preds[obj], target[...,1:5][obj]).detach()\n",
        "    object_loss = self.bce((predictions[...,0:1][obj]),(ious*target[...,0:1][obj]))\n",
        "\n",
        "    # Box Coordinate Loss\n",
        "    predictions[...,1:3] = self.sigmoid(predictions[...,1:3]) # x,y to be [0,1]\n",
        "    target[...,3:5] = torch.log(\n",
        "        (1e-16 + target[...,3:5] / anchors) # avoid torch log of 0 (changed from -16 -> -16)\n",
        "    )\n",
        "    box_loss = self.mse(predictions[..., 1:5][obj], target[..., 1:5][obj])\n",
        "\n",
        "    # Class Loss\n",
        "    class_loss = self.entropy(\n",
        "        (predictions[..., 5:][obj]), (target[..., 5][obj].long()),\n",
        "    ) # check class label\n",
        "\n",
        "    return (\n",
        "        self.lambda_box*box_loss\n",
        "        +self.lambda_obj*object_loss\n",
        "        +self.lambda_noobj*no_object_loss\n",
        "        +self.lambda_class*class_loss\n",
        "    )\n"
      ],
      "metadata": {
        "id": "j2BQ0peDdP12"
      },
      "execution_count": 7,
      "outputs": []
    },
    {
      "cell_type": "markdown",
      "source": [
        "# Train"
      ],
      "metadata": {
        "id": "uyBOfg-CA7Md"
      }
    },
    {
      "cell_type": "code",
      "source": [
        "import config\n",
        "import torch\n",
        "import torch.optim as optim\n",
        "import tqdm\n",
        "\n",
        "from utils import (\n",
        "    mean_average_precision,\n",
        "    cells_to_bboxes,\n",
        "    get_evaluation_bboxes,\n",
        "    save_checkpoint,\n",
        "    load_checkpoint,\n",
        "    check_class_accuracy,\n",
        "    get_loaders,\n",
        "    plot_couple_examples,\n",
        ")\n",
        "\n",
        "torch.backends.cudnn.benchmark = True"
      ],
      "metadata": {
        "id": "0KKOEaf5CZ-B"
      },
      "execution_count": 8,
      "outputs": []
    },
    {
      "cell_type": "code",
      "source": [
        "import importlib, Test_module, utils,dataset,config\n",
        "importlib.reload(Test_module)\n",
        "importlib.reload(utils)\n",
        "from Test_module import test_fn\n",
        "importlib.reload(config)\n",
        "test_fn()"
      ],
      "metadata": {
        "colab": {
          "base_uri": "https://localhost:8080/"
        },
        "id": "OQQkPNPGnr6d",
        "outputId": "dc0a5966-4df8-45f8-e9b1-e517c9fc2f9a"
      },
      "execution_count": 9,
      "outputs": [
        {
          "output_type": "stream",
          "name": "stdout",
          "text": [
            "Hi config working? batch size\n"
          ]
        }
      ]
    },
    {
      "cell_type": "code",
      "source": [
        "import pandas as pd\n",
        "\n",
        "\n",
        "def train_fn(train_loader,model,optimizer,loss_fn,scaler, scaled_anchors):\n",
        "  loop = tqdm.tqdm(train_loader, leave=True)\n",
        "  losses = []\n",
        "  # print(f\"\\n\\n\\nB4 FOR LOOP\\n\\n\\n\")\n",
        "  for batch_idx, (x,y) in enumerate(loop):\n",
        "\n",
        "    x = x.to(config.DEVICE)\n",
        "    y0,y1,y2 = (\n",
        "        y[0].to(config.DEVICE),\n",
        "        y[1].to(config.DEVICE),\n",
        "        y[2].to(config.DEVICE),\n",
        "    )\n",
        "\n",
        "    # print(F\"\\n\\n\\nPAST FOR LOOP\\n\\n\\n\")\n",
        "\n",
        "    with torch.cuda.amp.autocast(): # float 16 pytorch\n",
        "      out = model(x)\n",
        "      loss = (\n",
        "          loss_fn(out[0], y0, scaled_anchors[0])\n",
        "          + loss_fn(out[1], y1, scaled_anchors[1])\n",
        "          + loss_fn(out[2], y2, scaled_anchors[2])\n",
        "      )\n",
        "\n",
        "    losses.append(loss.item())\n",
        "    optimizer.zero_grad()\n",
        "    scaler.scale(loss).backward()\n",
        "    scaler.step(optimizer)\n",
        "    scaler.update()\n",
        "\n",
        "    # update progress bar\n",
        "    mean_loss = sum(losses)/len(losses)\n",
        "    loop.set_postfix(loss=mean_loss)\n",
        "\n",
        "def main():\n",
        "  model = YOLOv3(num_classes=config.NUM_CLASSES).to(config.DEVICE)\n",
        "  optimizer = optim.Adam(\n",
        "      model.parameters(), lr=config.LEARNING_RATE, weight_decay=config.WEIGHT_DECAY\n",
        "  )\n",
        "\n",
        "  loss_fn = YoloLoss()\n",
        "  scaler = torch.amp.GradScaler()\n",
        "\n",
        "  train_loader, test_loader = get_loaders(\n",
        "      train_csv_path=config.DATASET + \"/train.csv\",\n",
        "      test_csv_path=config.DATASET + \"/test.csv\",)\n",
        "\n",
        "\n",
        "  if config.LOAD_MODEL:\n",
        "    load_checkpoint(\n",
        "        config.CHECKPOINT_LOAD_FILE, model, optimizer, config.LEARNING_RATE\n",
        "  )\n",
        "  scaled_anchors = (\n",
        "        torch.tensor(config.ANCHORS)\n",
        "        * torch.tensor(config.S).unsqueeze(1).unsqueeze(1).repeat(1,3,2)\n",
        "    ).to(config.DEVICE)\n",
        "\n",
        "  for epoch in range(config.NUM_EPOCHS):\n",
        "    print(f\"epoch NO. {epoch}\")\n",
        "    train_fn(train_loader, model, optimizer, loss_fn, scaler, scaled_anchors)\n",
        "\n",
        "    # if config.SAVE_MODEL:\n",
        "    #   save_checkpoint(model, optimizer, filename=f\"checkpoint.pth.tar\")\n",
        "\n",
        "    # print(f\"Currently epoch {epoch}\")\n",
        "    # print(\"On Train Eval loader:\")\n",
        "    # print(\"On Train loader:\")\n",
        "\n",
        "\n",
        "    if (epoch+1) % 5 == 0 and epoch> 0:\n",
        "    # if epoch>-1:\n",
        "      # print(f\"Epoch: {epoch}, checking class accuracy\")\n",
        "      last_train_epoch = 49\n",
        "      check_class_accuracy(model, test_loader,epoch+last_train_epoch, threshold=config.CONF_THRESHOLD)\n",
        "      # print(\"Finished Checking class accuracy\")\n",
        "      pred_boxes, true_boxes = get_evaluation_bboxes(\n",
        "          test_loader,\n",
        "          model,\n",
        "          iou_threshold=config.NMS_IOU_THRESH,\n",
        "          anchors=config.ANCHORS,\n",
        "          threshold=config.CONF_THRESHOLD,\n",
        "      )\n",
        "      mapval = mean_average_precision(\n",
        "          pred_boxes,\n",
        "          true_boxes,\n",
        "          iou_threshold=config.MAP_IOU_THRESH,\n",
        "          box_format=\"midpoint\",\n",
        "          num_classes=config.NUM_CLASSES,\n",
        "      )\n",
        "      # Path to your existing evaluation results CSV\n",
        "      eval_results_path = f\"{config.EVAL_PATH}/Eval_results.csv\"\n",
        "\n",
        "      # Load the existing CSV\n",
        "      existing_df = pd.read_csv(eval_results_path)\n",
        "\n",
        "      # Add a new column for mAP with the current mapval\n",
        "      existing_df.loc[existing_df.index[-1], 'mAP'] = f\"{mapval.item():.6f}\"\n",
        "\n",
        "      # Save the updated CSV back to the same file\n",
        "      existing_df.to_csv(eval_results_path, index=False)\n",
        "\n",
        "\n",
        "      print(f\"MAP: {mapval.item()}\")\n",
        "      model.train()\n",
        "\n",
        "    if config.SAVE_MODEL:\n",
        "      save_checkpoint(model, optimizer, filename=f\"checkpoint.pth.tar\")\n",
        "\n",
        "if __name__ == \"__main__\":\n",
        "  print(f\"Config conf threshold : {config.CONF_THRESHOLD}\")\n",
        "\n",
        "  main()\n",
        "\n",
        "\n",
        "print(\"Trianing Complete\")"
      ],
      "metadata": {
        "colab": {
          "base_uri": "https://localhost:8080/"
        },
        "id": "uRy2gdUxK2EZ",
        "outputId": "efaa7b72-0fd0-47f1-913d-2427fb5ac95b"
      },
      "execution_count": 11,
      "outputs": [
        {
          "metadata": {
            "tags": null
          },
          "name": "stdout",
          "output_type": "stream",
          "text": [
            "Config conf threshold : 0.5\n",
            "=> Loading checkpoint\n"
          ]
        },
        {
          "metadata": {
            "tags": null
          },
          "name": "stderr",
          "output_type": "stream",
          "text": [
            "/content/drive/MyDrive/YOLOV3_Pytorch/utils.py:533: FutureWarning: You are using `torch.load` with `weights_only=False` (the current default value), which uses the default pickle module implicitly. It is possible to construct malicious pickle data which will execute arbitrary code during unpickling (See https://github.com/pytorch/pytorch/blob/main/SECURITY.md#untrusted-models for more details). In a future release, the default value for `weights_only` will be flipped to `True`. This limits the functions that could be executed during unpickling. Arbitrary objects will no longer be allowed to be loaded via this mode unless they are explicitly allowlisted by the user via `torch.serialization.add_safe_globals`. We recommend you start setting `weights_only=True` for any use case where you don't have full control of the loaded file. Please open an issue on GitHub for any issues related to this experimental feature.\n",
            "  checkpoint = torch.load(checkpoint_file, map_location=config.DEVICE)\n"
          ]
        },
        {
          "metadata": {
            "tags": null
          },
          "name": "stdout",
          "output_type": "stream",
          "text": [
            "epoch NO. 0\n"
          ]
        },
        {
          "metadata": {
            "tags": null
          },
          "name": "stderr",
          "output_type": "stream",
          "text": [
            "  0%|          | 0/300 [00:00<?, ?it/s]<ipython-input-11-edea0badae10>:19: FutureWarning: `torch.cuda.amp.autocast(args...)` is deprecated. Please use `torch.amp.autocast('cuda', args...)` instead.\n",
            "  with torch.cuda.amp.autocast(): # float 16 pytorch\n",
            "100%|██████████| 300/300 [25:42<00:00,  5.14s/it, loss=6.68]\n"
          ]
        },
        {
          "metadata": {
            "tags": null
          },
          "name": "stdout",
          "output_type": "stream",
          "text": [
            "=> Saving checkpoint\n",
            "epoch NO. 1\n"
          ]
        },
        {
          "metadata": {
            "tags": null
          },
          "name": "stderr",
          "output_type": "stream",
          "text": [
            "100%|██████████| 300/300 [03:14<00:00,  1.54it/s, loss=6.66]\n"
          ]
        },
        {
          "metadata": {
            "tags": null
          },
          "name": "stdout",
          "output_type": "stream",
          "text": [
            "=> Saving checkpoint\n",
            "epoch NO. 2\n"
          ]
        },
        {
          "metadata": {
            "tags": null
          },
          "name": "stderr",
          "output_type": "stream",
          "text": [
            "100%|██████████| 300/300 [03:14<00:00,  1.54it/s, loss=6.66]\n"
          ]
        },
        {
          "metadata": {
            "tags": null
          },
          "name": "stdout",
          "output_type": "stream",
          "text": [
            "=> Saving checkpoint\n",
            "epoch NO. 3\n"
          ]
        },
        {
          "metadata": {
            "tags": null
          },
          "name": "stderr",
          "output_type": "stream",
          "text": [
            "100%|██████████| 300/300 [03:15<00:00,  1.54it/s, loss=6.6]\n"
          ]
        },
        {
          "metadata": {
            "tags": null
          },
          "name": "stdout",
          "output_type": "stream",
          "text": [
            "=> Saving checkpoint\n",
            "epoch NO. 4\n"
          ]
        },
        {
          "metadata": {
            "tags": null
          },
          "name": "stderr",
          "output_type": "stream",
          "text": [
            "100%|██████████| 300/300 [04:47<00:00,  1.05it/s, loss=6.63]\n",
            "100%|██████████| 75/75 [03:14<00:00,  2.60s/it]\n"
          ]
        },
        {
          "metadata": {
            "tags": null
          },
          "name": "stdout",
          "output_type": "stream",
          "text": [
            "   Epoch Precision  Recall F1 Score Class Accuracy No Object Accuracy  \\\n",
            "0     53    79.10%  79.94%   78.74%      79.937378          99.716461   \n",
            "\n",
            "  Object Accuracy  \n",
            "0       32.551617  \n"
          ]
        },
        {
          "metadata": {
            "tags": null
          },
          "name": "stderr",
          "output_type": "stream",
          "text": [
            "100%|██████████| 75/75 [01:13<00:00,  1.03it/s]\n",
            "<ipython-input-11-edea0badae10>:99: FutureWarning: Setting an item of incompatible dtype is deprecated and will raise an error in a future version of pandas. Value '0.215785' has dtype incompatible with float64, please explicitly cast to a compatible dtype first.\n",
            "  existing_df.loc[existing_df.index[-1], 'mAP'] = f\"{mapval.item():.6f}\"\n"
          ]
        },
        {
          "metadata": {
            "tags": null
          },
          "name": "stdout",
          "output_type": "stream",
          "text": [
            "MAP: 0.21578483283519745\n",
            "=> Saving checkpoint\n",
            "epoch NO. 5\n"
          ]
        },
        {
          "metadata": {
            "tags": null
          },
          "name": "stderr",
          "output_type": "stream",
          "text": [
            "  0%|          | 0/300 [00:00<?, ?it/s]<ipython-input-11-edea0badae10>:19: FutureWarning: `torch.cuda.amp.autocast(args...)` is deprecated. Please use `torch.amp.autocast('cuda', args...)` instead.\n",
            "  with torch.cuda.amp.autocast(): # float 16 pytorch\n",
            "100%|██████████| 300/300 [03:16<00:00,  1.52it/s, loss=6.54]\n"
          ]
        },
        {
          "metadata": {
            "tags": null
          },
          "name": "stdout",
          "output_type": "stream",
          "text": [
            "=> Saving checkpoint\n",
            "epoch NO. 6\n"
          ]
        },
        {
          "metadata": {
            "tags": null
          },
          "name": "stderr",
          "output_type": "stream",
          "text": [
            "100%|██████████| 300/300 [03:17<00:00,  1.52it/s, loss=6.51]\n"
          ]
        },
        {
          "metadata": {
            "tags": null
          },
          "name": "stdout",
          "output_type": "stream",
          "text": [
            "=> Saving checkpoint\n",
            "epoch NO. 7\n"
          ]
        },
        {
          "metadata": {
            "tags": null
          },
          "name": "stderr",
          "output_type": "stream",
          "text": [
            "100%|██████████| 300/300 [03:16<00:00,  1.52it/s, loss=6.43]\n"
          ]
        },
        {
          "metadata": {
            "tags": null
          },
          "name": "stdout",
          "output_type": "stream",
          "text": [
            "=> Saving checkpoint\n",
            "epoch NO. 8\n"
          ]
        },
        {
          "metadata": {
            "tags": null
          },
          "name": "stderr",
          "output_type": "stream",
          "text": [
            "100%|██████████| 300/300 [03:17<00:00,  1.52it/s, loss=6.38]\n"
          ]
        },
        {
          "metadata": {
            "tags": null
          },
          "name": "stdout",
          "output_type": "stream",
          "text": [
            "=> Saving checkpoint\n",
            "epoch NO. 9\n"
          ]
        },
        {
          "metadata": {
            "tags": null
          },
          "name": "stderr",
          "output_type": "stream",
          "text": [
            "100%|██████████| 300/300 [03:17<00:00,  1.52it/s, loss=6.35]\n",
            "100%|██████████| 75/75 [00:37<00:00,  1.97it/s]\n"
          ]
        },
        {
          "metadata": {
            "tags": null
          },
          "name": "stdout",
          "output_type": "stream",
          "text": [
            "   Epoch Precision  Recall F1 Score Class Accuracy No Object Accuracy  \\\n",
            "0     58    79.45%  80.56%   79.29%      80.560356          99.763397   \n",
            "\n",
            "  Object Accuracy  \n",
            "0       32.695129  \n"
          ]
        },
        {
          "metadata": {
            "tags": null
          },
          "name": "stderr",
          "output_type": "stream",
          "text": [
            "100%|██████████| 75/75 [01:14<00:00,  1.00it/s]\n",
            "<ipython-input-11-edea0badae10>:99: FutureWarning: Setting an item of incompatible dtype is deprecated and will raise an error in a future version of pandas. Value '0.234778' has dtype incompatible with float64, please explicitly cast to a compatible dtype first.\n",
            "  existing_df.loc[existing_df.index[-1], 'mAP'] = f\"{mapval.item():.6f}\"\n"
          ]
        },
        {
          "metadata": {
            "tags": null
          },
          "name": "stdout",
          "output_type": "stream",
          "text": [
            "MAP: 0.23477844893932343\n",
            "=> Saving checkpoint\n",
            "epoch NO. 10\n"
          ]
        },
        {
          "metadata": {
            "tags": null
          },
          "name": "stderr",
          "output_type": "stream",
          "text": [
            "  0%|          | 0/300 [00:00<?, ?it/s]<ipython-input-11-edea0badae10>:19: FutureWarning: `torch.cuda.amp.autocast(args...)` is deprecated. Please use `torch.amp.autocast('cuda', args...)` instead.\n",
            "  with torch.cuda.amp.autocast(): # float 16 pytorch\n",
            "100%|██████████| 300/300 [03:14<00:00,  1.54it/s, loss=6.32]\n"
          ]
        },
        {
          "metadata": {
            "tags": null
          },
          "name": "stdout",
          "output_type": "stream",
          "text": [
            "=> Saving checkpoint\n",
            "epoch NO. 11\n"
          ]
        },
        {
          "metadata": {
            "tags": null
          },
          "name": "stderr",
          "output_type": "stream",
          "text": [
            "100%|██████████| 300/300 [03:14<00:00,  1.55it/s, loss=6.32]\n"
          ]
        },
        {
          "metadata": {
            "tags": null
          },
          "name": "stdout",
          "output_type": "stream",
          "text": [
            "=> Saving checkpoint\n",
            "epoch NO. 12\n"
          ]
        },
        {
          "metadata": {
            "tags": null
          },
          "name": "stderr",
          "output_type": "stream",
          "text": [
            "100%|██████████| 300/300 [03:14<00:00,  1.55it/s, loss=6.31]\n"
          ]
        },
        {
          "metadata": {
            "tags": null
          },
          "name": "stdout",
          "output_type": "stream",
          "text": [
            "=> Saving checkpoint\n",
            "epoch NO. 13\n"
          ]
        },
        {
          "metadata": {
            "tags": null
          },
          "name": "stderr",
          "output_type": "stream",
          "text": [
            "100%|██████████| 300/300 [03:15<00:00,  1.54it/s, loss=6.25]\n"
          ]
        },
        {
          "metadata": {
            "tags": null
          },
          "name": "stdout",
          "output_type": "stream",
          "text": [
            "=> Saving checkpoint\n",
            "epoch NO. 14\n"
          ]
        },
        {
          "metadata": {
            "tags": null
          },
          "name": "stderr",
          "output_type": "stream",
          "text": [
            "100%|██████████| 300/300 [03:14<00:00,  1.54it/s, loss=6.14]\n",
            "100%|██████████| 75/75 [00:37<00:00,  1.98it/s]\n"
          ]
        },
        {
          "metadata": {
            "tags": null
          },
          "name": "stdout",
          "output_type": "stream",
          "text": [
            "   Epoch Precision  Recall F1 Score Class Accuracy No Object Accuracy  \\\n",
            "0     63    79.79%  80.26%   79.36%      80.260284          99.687691   \n",
            "\n",
            "  Object Accuracy  \n",
            "0       35.624123  \n"
          ]
        },
        {
          "metadata": {
            "tags": null
          },
          "name": "stderr",
          "output_type": "stream",
          "text": [
            "100%|██████████| 75/75 [01:16<00:00,  1.02s/it]\n",
            "<ipython-input-11-edea0badae10>:99: FutureWarning: Setting an item of incompatible dtype is deprecated and will raise an error in a future version of pandas. Value '0.239801' has dtype incompatible with float64, please explicitly cast to a compatible dtype first.\n",
            "  existing_df.loc[existing_df.index[-1], 'mAP'] = f\"{mapval.item():.6f}\"\n"
          ]
        },
        {
          "metadata": {
            "tags": null
          },
          "name": "stdout",
          "output_type": "stream",
          "text": [
            "MAP: 0.23980124294757843\n",
            "=> Saving checkpoint\n",
            "epoch NO. 15\n"
          ]
        },
        {
          "metadata": {
            "tags": null
          },
          "name": "stderr",
          "output_type": "stream",
          "text": [
            "  0%|          | 0/300 [00:00<?, ?it/s]<ipython-input-11-edea0badae10>:19: FutureWarning: `torch.cuda.amp.autocast(args...)` is deprecated. Please use `torch.amp.autocast('cuda', args...)` instead.\n",
            "  with torch.cuda.amp.autocast(): # float 16 pytorch\n",
            "100%|██████████| 300/300 [03:14<00:00,  1.54it/s, loss=6.17]\n"
          ]
        },
        {
          "metadata": {
            "tags": null
          },
          "name": "stdout",
          "output_type": "stream",
          "text": [
            "=> Saving checkpoint\n",
            "epoch NO. 16\n"
          ]
        },
        {
          "metadata": {
            "tags": null
          },
          "name": "stderr",
          "output_type": "stream",
          "text": [
            "100%|██████████| 300/300 [03:14<00:00,  1.54it/s, loss=6.2]\n"
          ]
        },
        {
          "metadata": {
            "tags": null
          },
          "name": "stdout",
          "output_type": "stream",
          "text": [
            "=> Saving checkpoint\n",
            "epoch NO. 17\n"
          ]
        },
        {
          "metadata": {
            "tags": null
          },
          "name": "stderr",
          "output_type": "stream",
          "text": [
            "100%|██████████| 300/300 [03:08<00:00,  1.59it/s, loss=6.13]\n"
          ]
        },
        {
          "metadata": {
            "tags": null
          },
          "name": "stdout",
          "output_type": "stream",
          "text": [
            "=> Saving checkpoint\n",
            "epoch NO. 18\n"
          ]
        },
        {
          "output_type": "stream",
          "name": "stderr",
          "text": [
            "100%|██████████| 300/300 [03:12<00:00,  1.56it/s, loss=6.17]\n"
          ]
        },
        {
          "output_type": "stream",
          "name": "stdout",
          "text": [
            "=> Saving checkpoint\n",
            "epoch NO. 19\n"
          ]
        },
        {
          "output_type": "stream",
          "name": "stderr",
          "text": [
            "100%|██████████| 300/300 [03:12<00:00,  1.56it/s, loss=6.09]\n",
            "100%|██████████| 75/75 [00:39<00:00,  1.92it/s]\n"
          ]
        },
        {
          "output_type": "stream",
          "name": "stdout",
          "text": [
            "   Epoch Precision  Recall F1 Score Class Accuracy No Object Accuracy  \\\n",
            "0     68    80.22%  80.77%   79.92%      80.765846          99.709152   \n",
            "\n",
            "  Object Accuracy  \n",
            "0       35.682835  \n"
          ]
        },
        {
          "output_type": "stream",
          "name": "stderr",
          "text": [
            "100%|██████████| 75/75 [01:17<00:00,  1.03s/it]\n",
            "<ipython-input-11-edea0badae10>:99: FutureWarning: Setting an item of incompatible dtype is deprecated and will raise an error in a future version of pandas. Value '0.256261' has dtype incompatible with float64, please explicitly cast to a compatible dtype first.\n",
            "  existing_df.loc[existing_df.index[-1], 'mAP'] = f\"{mapval.item():.6f}\"\n"
          ]
        },
        {
          "output_type": "stream",
          "name": "stdout",
          "text": [
            "MAP: 0.25626108050346375\n",
            "=> Saving checkpoint\n",
            "epoch NO. 20\n"
          ]
        },
        {
          "output_type": "stream",
          "name": "stderr",
          "text": [
            "\r  0%|          | 0/300 [00:00<?, ?it/s]<ipython-input-11-edea0badae10>:19: FutureWarning: `torch.cuda.amp.autocast(args...)` is deprecated. Please use `torch.amp.autocast('cuda', args...)` instead.\n",
            "  with torch.cuda.amp.autocast(): # float 16 pytorch\n",
            "100%|██████████| 300/300 [03:14<00:00,  1.55it/s, loss=5.99]\n"
          ]
        },
        {
          "output_type": "stream",
          "name": "stdout",
          "text": [
            "=> Saving checkpoint\n",
            "epoch NO. 21\n"
          ]
        },
        {
          "output_type": "stream",
          "name": "stderr",
          "text": [
            "100%|██████████| 300/300 [03:14<00:00,  1.54it/s, loss=6.04]\n"
          ]
        },
        {
          "output_type": "stream",
          "name": "stdout",
          "text": [
            "=> Saving checkpoint\n",
            "epoch NO. 22\n"
          ]
        },
        {
          "output_type": "stream",
          "name": "stderr",
          "text": [
            "100%|██████████| 300/300 [03:13<00:00,  1.55it/s, loss=5.98]\n"
          ]
        },
        {
          "output_type": "stream",
          "name": "stdout",
          "text": [
            "=> Saving checkpoint\n",
            "epoch NO. 23\n"
          ]
        },
        {
          "output_type": "stream",
          "name": "stderr",
          "text": [
            "100%|██████████| 300/300 [03:14<00:00,  1.54it/s, loss=5.91]\n"
          ]
        },
        {
          "output_type": "stream",
          "name": "stdout",
          "text": [
            "=> Saving checkpoint\n",
            "epoch NO. 24\n"
          ]
        },
        {
          "output_type": "stream",
          "name": "stderr",
          "text": [
            "100%|██████████| 300/300 [03:15<00:00,  1.54it/s, loss=6.01]\n",
            "100%|██████████| 75/75 [00:39<00:00,  1.89it/s]\n"
          ]
        },
        {
          "output_type": "stream",
          "name": "stdout",
          "text": [
            "   Epoch Precision  Recall F1 Score Class Accuracy No Object Accuracy  \\\n",
            "0     73    80.43%  80.80%   79.92%      80.795197          99.651794   \n",
            "\n",
            "  Object Accuracy  \n",
            "0       35.803516  \n"
          ]
        },
        {
          "output_type": "stream",
          "name": "stderr",
          "text": [
            "100%|██████████| 75/75 [01:17<00:00,  1.03s/it]\n",
            "<ipython-input-11-edea0badae10>:99: FutureWarning: Setting an item of incompatible dtype is deprecated and will raise an error in a future version of pandas. Value '0.253290' has dtype incompatible with float64, please explicitly cast to a compatible dtype first.\n",
            "  existing_df.loc[existing_df.index[-1], 'mAP'] = f\"{mapval.item():.6f}\"\n"
          ]
        },
        {
          "output_type": "stream",
          "name": "stdout",
          "text": [
            "MAP: 0.2532902956008911\n",
            "=> Saving checkpoint\n",
            "epoch NO. 25\n"
          ]
        },
        {
          "output_type": "stream",
          "name": "stderr",
          "text": [
            "\r  0%|          | 0/300 [00:00<?, ?it/s]<ipython-input-11-edea0badae10>:19: FutureWarning: `torch.cuda.amp.autocast(args...)` is deprecated. Please use `torch.amp.autocast('cuda', args...)` instead.\n",
            "  with torch.cuda.amp.autocast(): # float 16 pytorch\n",
            "100%|██████████| 300/300 [03:12<00:00,  1.56it/s, loss=5.99]\n"
          ]
        },
        {
          "output_type": "stream",
          "name": "stdout",
          "text": [
            "=> Saving checkpoint\n",
            "epoch NO. 26\n"
          ]
        },
        {
          "output_type": "stream",
          "name": "stderr",
          "text": [
            "100%|██████████| 300/300 [03:16<00:00,  1.53it/s, loss=5.96]\n"
          ]
        },
        {
          "output_type": "stream",
          "name": "stdout",
          "text": [
            "=> Saving checkpoint\n",
            "epoch NO. 27\n"
          ]
        },
        {
          "output_type": "stream",
          "name": "stderr",
          "text": [
            "100%|██████████| 300/300 [03:17<00:00,  1.52it/s, loss=5.92]\n"
          ]
        },
        {
          "output_type": "stream",
          "name": "stdout",
          "text": [
            "=> Saving checkpoint\n",
            "epoch NO. 28\n"
          ]
        },
        {
          "output_type": "stream",
          "name": "stderr",
          "text": [
            "100%|██████████| 300/300 [03:24<00:00,  1.47it/s, loss=5.88]\n"
          ]
        },
        {
          "output_type": "stream",
          "name": "stdout",
          "text": [
            "=> Saving checkpoint\n",
            "epoch NO. 29\n"
          ]
        },
        {
          "output_type": "stream",
          "name": "stderr",
          "text": [
            "100%|██████████| 300/300 [03:35<00:00,  1.39it/s, loss=5.83]\n",
            "100%|██████████| 75/75 [00:39<00:00,  1.91it/s]\n"
          ]
        },
        {
          "output_type": "stream",
          "name": "stdout",
          "text": [
            "   Epoch Precision  Recall F1 Score Class Accuracy No Object Accuracy  \\\n",
            "0     78    80.75%  81.31%   80.39%      81.310547          99.691650   \n",
            "\n",
            "  Object Accuracy  \n",
            "0       37.356079  \n"
          ]
        },
        {
          "output_type": "stream",
          "name": "stderr",
          "text": [
            "100%|██████████| 75/75 [01:18<00:00,  1.05s/it]\n",
            "<ipython-input-11-edea0badae10>:99: FutureWarning: Setting an item of incompatible dtype is deprecated and will raise an error in a future version of pandas. Value '0.260159' has dtype incompatible with float64, please explicitly cast to a compatible dtype first.\n",
            "  existing_df.loc[existing_df.index[-1], 'mAP'] = f\"{mapval.item():.6f}\"\n"
          ]
        },
        {
          "output_type": "stream",
          "name": "stdout",
          "text": [
            "MAP: 0.26015913486480713\n",
            "=> Saving checkpoint\n",
            "epoch NO. 30\n"
          ]
        },
        {
          "output_type": "stream",
          "name": "stderr",
          "text": [
            "\r  0%|          | 0/300 [00:00<?, ?it/s]<ipython-input-11-edea0badae10>:19: FutureWarning: `torch.cuda.amp.autocast(args...)` is deprecated. Please use `torch.amp.autocast('cuda', args...)` instead.\n",
            "  with torch.cuda.amp.autocast(): # float 16 pytorch\n",
            "100%|██████████| 300/300 [03:17<00:00,  1.52it/s, loss=5.75]\n"
          ]
        },
        {
          "output_type": "stream",
          "name": "stdout",
          "text": [
            "=> Saving checkpoint\n",
            "epoch NO. 31\n"
          ]
        },
        {
          "output_type": "stream",
          "name": "stderr",
          "text": [
            "100%|██████████| 300/300 [03:16<00:00,  1.52it/s, loss=5.82]\n"
          ]
        },
        {
          "output_type": "stream",
          "name": "stdout",
          "text": [
            "=> Saving checkpoint\n",
            "epoch NO. 32\n"
          ]
        },
        {
          "output_type": "stream",
          "name": "stderr",
          "text": [
            "100%|██████████| 300/300 [03:18<00:00,  1.51it/s, loss=5.83]\n"
          ]
        },
        {
          "output_type": "stream",
          "name": "stdout",
          "text": [
            "=> Saving checkpoint\n",
            "epoch NO. 33\n"
          ]
        },
        {
          "output_type": "stream",
          "name": "stderr",
          "text": [
            "100%|██████████| 300/300 [03:14<00:00,  1.54it/s, loss=5.7]\n"
          ]
        },
        {
          "output_type": "stream",
          "name": "stdout",
          "text": [
            "=> Saving checkpoint\n",
            "epoch NO. 34\n"
          ]
        },
        {
          "output_type": "stream",
          "name": "stderr",
          "text": [
            "100%|██████████| 300/300 [03:15<00:00,  1.53it/s, loss=5.73]\n",
            "100%|██████████| 75/75 [00:40<00:00,  1.85it/s]\n"
          ]
        },
        {
          "output_type": "stream",
          "name": "stdout",
          "text": [
            "   Epoch Precision  Recall F1 Score Class Accuracy No Object Accuracy  \\\n",
            "0     83    80.46%  81.19%   80.52%      81.193123          99.663994   \n",
            "\n",
            "  Object Accuracy  \n",
            "0       37.290844  \n"
          ]
        },
        {
          "output_type": "stream",
          "name": "stderr",
          "text": [
            "100%|██████████| 75/75 [01:19<00:00,  1.06s/it]\n",
            "<ipython-input-11-edea0badae10>:99: FutureWarning: Setting an item of incompatible dtype is deprecated and will raise an error in a future version of pandas. Value '0.269101' has dtype incompatible with float64, please explicitly cast to a compatible dtype first.\n",
            "  existing_df.loc[existing_df.index[-1], 'mAP'] = f\"{mapval.item():.6f}\"\n"
          ]
        },
        {
          "output_type": "stream",
          "name": "stdout",
          "text": [
            "MAP: 0.2691008448600769\n",
            "=> Saving checkpoint\n",
            "epoch NO. 35\n"
          ]
        },
        {
          "output_type": "stream",
          "name": "stderr",
          "text": [
            "\r  0%|          | 0/300 [00:00<?, ?it/s]<ipython-input-11-edea0badae10>:19: FutureWarning: `torch.cuda.amp.autocast(args...)` is deprecated. Please use `torch.amp.autocast('cuda', args...)` instead.\n",
            "  with torch.cuda.amp.autocast(): # float 16 pytorch\n",
            "100%|██████████| 300/300 [03:19<00:00,  1.51it/s, loss=5.69]\n"
          ]
        },
        {
          "output_type": "stream",
          "name": "stdout",
          "text": [
            "=> Saving checkpoint\n",
            "epoch NO. 36\n"
          ]
        },
        {
          "output_type": "stream",
          "name": "stderr",
          "text": [
            "100%|██████████| 300/300 [03:13<00:00,  1.55it/s, loss=5.67]\n"
          ]
        },
        {
          "output_type": "stream",
          "name": "stdout",
          "text": [
            "=> Saving checkpoint\n",
            "epoch NO. 37\n"
          ]
        },
        {
          "output_type": "stream",
          "name": "stderr",
          "text": [
            "100%|██████████| 300/300 [03:16<00:00,  1.53it/s, loss=5.65]\n"
          ]
        },
        {
          "output_type": "stream",
          "name": "stdout",
          "text": [
            "=> Saving checkpoint\n",
            "epoch NO. 38\n"
          ]
        },
        {
          "output_type": "stream",
          "name": "stderr",
          "text": [
            "100%|██████████| 300/300 [03:14<00:00,  1.54it/s, loss=5.61]\n"
          ]
        },
        {
          "output_type": "stream",
          "name": "stdout",
          "text": [
            "=> Saving checkpoint\n",
            "epoch NO. 39\n"
          ]
        },
        {
          "output_type": "stream",
          "name": "stderr",
          "text": [
            "100%|██████████| 300/300 [03:14<00:00,  1.54it/s, loss=5.59]\n",
            "100%|██████████| 75/75 [00:38<00:00,  1.97it/s]\n"
          ]
        },
        {
          "output_type": "stream",
          "name": "stdout",
          "text": [
            "   Epoch Precision  Recall F1 Score Class Accuracy No Object Accuracy  \\\n",
            "0     88    80.87%  81.22%   80.18%      81.219223          99.662994   \n",
            "\n",
            "  Object Accuracy  \n",
            "0       38.452003  \n"
          ]
        },
        {
          "output_type": "stream",
          "name": "stderr",
          "text": [
            "100%|██████████| 75/75 [01:18<00:00,  1.05s/it]\n",
            "<ipython-input-11-edea0badae10>:99: FutureWarning: Setting an item of incompatible dtype is deprecated and will raise an error in a future version of pandas. Value '0.266580' has dtype incompatible with float64, please explicitly cast to a compatible dtype first.\n",
            "  existing_df.loc[existing_df.index[-1], 'mAP'] = f\"{mapval.item():.6f}\"\n"
          ]
        },
        {
          "output_type": "stream",
          "name": "stdout",
          "text": [
            "MAP: 0.2665797173976898\n",
            "=> Saving checkpoint\n",
            "epoch NO. 40\n"
          ]
        },
        {
          "output_type": "stream",
          "name": "stderr",
          "text": [
            "\r  0%|          | 0/300 [00:00<?, ?it/s]<ipython-input-11-edea0badae10>:19: FutureWarning: `torch.cuda.amp.autocast(args...)` is deprecated. Please use `torch.amp.autocast('cuda', args...)` instead.\n",
            "  with torch.cuda.amp.autocast(): # float 16 pytorch\n",
            "100%|██████████| 300/300 [03:17<00:00,  1.52it/s, loss=5.61]\n"
          ]
        },
        {
          "output_type": "stream",
          "name": "stdout",
          "text": [
            "=> Saving checkpoint\n",
            "epoch NO. 41\n"
          ]
        },
        {
          "output_type": "stream",
          "name": "stderr",
          "text": [
            "100%|██████████| 300/300 [03:16<00:00,  1.53it/s, loss=5.65]\n"
          ]
        },
        {
          "output_type": "stream",
          "name": "stdout",
          "text": [
            "=> Saving checkpoint\n",
            "epoch NO. 42\n"
          ]
        },
        {
          "output_type": "stream",
          "name": "stderr",
          "text": [
            "100%|██████████| 300/300 [03:13<00:00,  1.55it/s, loss=5.57]\n"
          ]
        },
        {
          "output_type": "stream",
          "name": "stdout",
          "text": [
            "=> Saving checkpoint\n",
            "epoch NO. 43\n"
          ]
        },
        {
          "output_type": "stream",
          "name": "stderr",
          "text": [
            "100%|██████████| 300/300 [03:15<00:00,  1.54it/s, loss=5.54]\n"
          ]
        },
        {
          "output_type": "stream",
          "name": "stdout",
          "text": [
            "=> Saving checkpoint\n",
            "epoch NO. 44\n"
          ]
        },
        {
          "output_type": "stream",
          "name": "stderr",
          "text": [
            "100%|██████████| 300/300 [03:16<00:00,  1.53it/s, loss=5.55]\n",
            "100%|██████████| 75/75 [00:40<00:00,  1.87it/s]\n"
          ]
        },
        {
          "output_type": "stream",
          "name": "stdout",
          "text": [
            "   Epoch Precision  Recall F1 Score Class Accuracy No Object Accuracy  \\\n",
            "0     93    81.25%  81.83%   81.01%      81.829155          99.703476   \n",
            "\n",
            "  Object Accuracy  \n",
            "0       36.693958  \n"
          ]
        },
        {
          "output_type": "stream",
          "name": "stderr",
          "text": [
            "100%|██████████| 75/75 [01:19<00:00,  1.06s/it]\n",
            "<ipython-input-11-edea0badae10>:99: FutureWarning: Setting an item of incompatible dtype is deprecated and will raise an error in a future version of pandas. Value '0.281165' has dtype incompatible with float64, please explicitly cast to a compatible dtype first.\n",
            "  existing_df.loc[existing_df.index[-1], 'mAP'] = f\"{mapval.item():.6f}\"\n"
          ]
        },
        {
          "output_type": "stream",
          "name": "stdout",
          "text": [
            "MAP: 0.28116539120674133\n",
            "=> Saving checkpoint\n",
            "epoch NO. 45\n"
          ]
        },
        {
          "output_type": "stream",
          "name": "stderr",
          "text": [
            "\r  0%|          | 0/300 [00:00<?, ?it/s]<ipython-input-11-edea0badae10>:19: FutureWarning: `torch.cuda.amp.autocast(args...)` is deprecated. Please use `torch.amp.autocast('cuda', args...)` instead.\n",
            "  with torch.cuda.amp.autocast(): # float 16 pytorch\n",
            "100%|██████████| 300/300 [03:16<00:00,  1.53it/s, loss=5.44]\n"
          ]
        },
        {
          "output_type": "stream",
          "name": "stdout",
          "text": [
            "=> Saving checkpoint\n",
            "epoch NO. 46\n"
          ]
        },
        {
          "output_type": "stream",
          "name": "stderr",
          "text": [
            "100%|██████████| 300/300 [03:18<00:00,  1.51it/s, loss=5.45]\n"
          ]
        },
        {
          "output_type": "stream",
          "name": "stdout",
          "text": [
            "=> Saving checkpoint\n",
            "epoch NO. 47\n"
          ]
        },
        {
          "output_type": "stream",
          "name": "stderr",
          "text": [
            "100%|██████████| 300/300 [03:17<00:00,  1.52it/s, loss=5.55]\n"
          ]
        },
        {
          "output_type": "stream",
          "name": "stdout",
          "text": [
            "=> Saving checkpoint\n",
            "epoch NO. 48\n"
          ]
        },
        {
          "output_type": "stream",
          "name": "stderr",
          "text": [
            "100%|██████████| 300/300 [03:18<00:00,  1.51it/s, loss=5.46]\n"
          ]
        },
        {
          "output_type": "stream",
          "name": "stdout",
          "text": [
            "=> Saving checkpoint\n",
            "epoch NO. 49\n"
          ]
        },
        {
          "output_type": "stream",
          "name": "stderr",
          "text": [
            "100%|██████████| 300/300 [03:18<00:00,  1.51it/s, loss=5.5]\n",
            "100%|██████████| 75/75 [00:41<00:00,  1.83it/s]\n"
          ]
        },
        {
          "output_type": "stream",
          "name": "stdout",
          "text": [
            "   Epoch Precision  Recall F1 Score Class Accuracy No Object Accuracy  \\\n",
            "0     98    81.14%  81.67%   81.01%      81.669327          99.694077   \n",
            "\n",
            "  Object Accuracy  \n",
            "0       39.104343  \n"
          ]
        },
        {
          "output_type": "stream",
          "name": "stderr",
          "text": [
            "100%|██████████| 75/75 [01:20<00:00,  1.07s/it]\n",
            "<ipython-input-11-edea0badae10>:99: FutureWarning: Setting an item of incompatible dtype is deprecated and will raise an error in a future version of pandas. Value '0.259092' has dtype incompatible with float64, please explicitly cast to a compatible dtype first.\n",
            "  existing_df.loc[existing_df.index[-1], 'mAP'] = f\"{mapval.item():.6f}\"\n"
          ]
        },
        {
          "output_type": "stream",
          "name": "stdout",
          "text": [
            "MAP: 0.25909167528152466\n",
            "=> Saving checkpoint\n",
            "Trianing Complete\n"
          ]
        }
      ]
    },
    {
      "cell_type": "code",
      "source": [
        "importlib.reload(dataset)\n",
        "importlib.reload(config)"
      ],
      "metadata": {
        "colab": {
          "base_uri": "https://localhost:8080/"
        },
        "id": "a59pNCrn82ih",
        "outputId": "47ad5908-de0f-40c7-f3d1-6aee77f0bb73"
      },
      "execution_count": null,
      "outputs": [
        {
          "output_type": "execute_result",
          "data": {
            "text/plain": [
              "<module 'config' from '/content/drive/MyDrive/YOLOV3_Pytorch/config.py'>"
            ]
          },
          "metadata": {},
          "execution_count": 11
        }
      ]
    },
    {
      "cell_type": "markdown",
      "source": [
        "# Test"
      ],
      "metadata": {
        "id": "RXBvtCWyLJCV"
      }
    },
    {
      "cell_type": "code",
      "source": [
        "csv_file = \"/content/drive/MyDrive/datasets/YOLOV3_nuim/train.csv\"\n",
        "annotations = pd.read_csv(csv_file)\n",
        "dataset_dir = '/content/drive/MyDrive/datasets/YOLOV3_nuim'\n",
        "img_dir =  dataset_dir + '/images/'\n",
        "label_dir = dataset_dir + \"/labels/\"\n",
        "\n",
        "index = 14\n",
        "img_path = os.path.join(img_dir, annotations.iloc[index, 0])\n",
        "label_path = os.path.join(label_dir, annotations.iloc[index, 1])\n",
        "\n",
        "bboxes = np.roll(np.loadtxt(fname=label_path, delimiter=\" \", ndmin=2), 4, axis=1).tolist()\n",
        "\n",
        "img_path"
      ],
      "metadata": {
        "id": "xmq4O7_EURYY",
        "colab": {
          "base_uri": "https://localhost:8080/",
          "height": 36
        },
        "outputId": "01659bd5-fec9-49b2-875a-bf079182d2bd"
      },
      "execution_count": null,
      "outputs": [
        {
          "output_type": "execute_result",
          "data": {
            "text/plain": [
              "'/content/drive/MyDrive/datasets/YOLOV3_nuim/images/00000031.jpg'"
            ],
            "application/vnd.google.colaboratory.intrinsic+json": {
              "type": "string"
            }
          },
          "metadata": {},
          "execution_count": 10
        }
      ]
    },
    {
      "cell_type": "code",
      "source": [
        "# [x y w h class]\n",
        "bboxes = np.roll(np.loadtxt(fname=label_path, delimiter=\" \", ndmin=2), 4, axis=1).tolist()\n",
        "img_path = os.path.join(img_dir, annotations.iloc[index, 0])\n",
        "image = np.array(Image.open(img_path).convert(\"RGB\"))\n",
        "image.shape\n",
        "targets = [torch.zeros((3, S, S, 6)) for S in config.S]\n",
        "anchors = config.ANCHORS\n",
        "anchors = torch.tensor(anchors[0] + anchors[1] + anchors[2])\n",
        "boxes = []\n",
        "box = bboxes[0]\n",
        "\n",
        "iou_anchors = iou_width_height(torch.tensor(box[2:4]), anchors)\n",
        "anchor_indices = iou_anchors.argsort(descending=True, dim=0)\n",
        "x, y, width, height, class_label = box\n",
        "has_anchor = [False,False, False]\n",
        "\n",
        "num_anchors = anchors.shape[0]\n",
        "num_anchors_per_scale = num_anchors // 3\n",
        "S = config.S\n",
        "\n",
        "x,y,width,height"
      ],
      "metadata": {
        "id": "mrDU5Qpedi0h",
        "colab": {
          "base_uri": "https://localhost:8080/"
        },
        "outputId": "cae6c375-79fa-439a-94b2-842d12b64bc5"
      },
      "execution_count": null,
      "outputs": [
        {
          "output_type": "execute_result",
          "data": {
            "text/plain": [
              "(0.73344, 0.57056, 0.15687, 0.20333)"
            ]
          },
          "metadata": {},
          "execution_count": 12
        }
      ]
    },
    {
      "cell_type": "code",
      "source": [
        "import importlib\n",
        "from albumentations.core import bbox_utils\n",
        "\n",
        "# Force reload of the module\n",
        "importlib.reload(bbox_utils)"
      ],
      "metadata": {
        "colab": {
          "base_uri": "https://localhost:8080/"
        },
        "id": "rN4r4-9qPwPK",
        "outputId": "993c7938-aa32-4c7c-830c-641c4fb9b87d"
      },
      "execution_count": null,
      "outputs": [
        {
          "output_type": "execute_result",
          "data": {
            "text/plain": [
              "<module 'albumentations.core.bbox_utils' from '/usr/local/lib/python3.10/dist-packages/albumentations/core/bbox_utils.py'>"
            ]
          },
          "metadata": {},
          "execution_count": 17
        }
      ]
    },
    {
      "cell_type": "code",
      "source": [
        "import albumentations as A\n",
        "from albumentations.pytorch import ToTensorV2\n",
        "\n",
        " # Example bbox: [x_center, y_center, width, height]\n",
        "image = np.array(Image.open(img_path).convert(\"RGB\"))\n",
        "bboxes = np.roll(np.loadtxt(fname=label_path, delimiter=\" \", ndmin=2), 4, axis=1).tolist()\n",
        "\n",
        "# Transformation pipeline\n",
        "transform = A.Compose(\n",
        "    [\n",
        "        A.Resize(height=416, width=416),\n",
        "        A.Normalize(mean=[0, 0, 0], std=[1, 1, 1], max_pixel_value=255),\n",
        "        ToTensorV2(),\n",
        "    ],\n",
        "    bbox_params=A.BboxParams(format=\"yolo\", min_visibility=0.4, label_fields=[]),\n",
        "\n",
        ")\n",
        "\n",
        "# Apply transformations\n",
        "transformed = transform(image=image, bboxes=bboxes)\n",
        "bboxes_0 = transformed[\"bboxes\"]\n",
        "# Convert list of tuples to NumPy array for efficient processing\n",
        "bboxes_clip = np.array(bboxes_0)\n",
        "# Clip x_center, y_center, width, height to [np.finfo(np.float32).tiny, 1.0]\n",
        "bboxes_clip[:, :4] = np.clip(bboxes_clip[:, :4], np.finfo(np.float16).tiny, 1.0)\n",
        "\n",
        "print(\"Original BBoxes:\", bboxes)\n",
        "print(\"Transformed BBoxes:\", transformed[\"bboxes\"])\n",
        "print(\"Clipped: \", bboxes_clip)"
      ],
      "metadata": {
        "colab": {
          "base_uri": "https://localhost:8080/"
        },
        "id": "xYzMxe5TwcrF",
        "outputId": "879a8e89-04f4-424f-813a-79f93145d34a"
      },
      "execution_count": null,
      "outputs": [
        {
          "output_type": "stream",
          "name": "stdout",
          "text": [
            "Original BBoxes: [[0.73344, 0.57056, 0.15687, 0.20333, 4.0], [0.48219, 0.46056, 0.01188, 0.01667, 4.0], [0.24969, 0.49111, 0.08188, 0.04889, 4.0], [0.44188, 0.47778, 0.0275, 0.04444, 4.0], [0.555, 0.47667, 0.02, 0.03111, 4.0], [0.45469, 0.47, 0.01438, 0.02222, 4.0], [0.02937, 0.70389, 0.05875, 0.29, 4.0], [0.84562, 0.49833, 0.14125, 0.09222, 9.0], [0.91969, 0.61167, 0.16062, 0.37222, 4.0], [0.44844, 0.45667, 0.01562, 0.02, 4.0], [0.53406, 0.45667, 0.09813, 0.05556, 9.0], [0.52625, 0.47167, 0.02125, 0.03222, 4.0]]\n",
            "Transformed BBoxes: [[0.7334399819374084, 0.5705599784851074, 0.1568700075149536, 0.20333001017570496, 4.0], [0.48219001293182373, 0.46055999398231506, 0.011879980564117432, 0.01666998863220215, 4.0], [0.2496899962425232, 0.49111002683639526, 0.08187998831272125, 0.04889002442359924, 4.0], [0.4418799877166748, 0.4777800142765045, 0.0274999737739563, 0.04443997144699097, 4.0], [0.5550000071525574, 0.4766699969768524, 0.019999980926513672, 0.031109988689422607, 4.0], [0.45469000935554504, 0.4699999988079071, 0.01437997817993164, 0.02222001552581787, 4.0], [0.029372500255703926, 0.7038900256156921, 0.05874500051140785, 0.28999996185302734, 4.0], [0.8456199765205383, 0.4983299970626831, 0.14125001430511475, 0.09221997857093811, 9.0], [0.9196900129318237, 0.6116700172424316, 0.16061997413635254, 0.3722200393676758, 4.0], [0.44843998551368713, 0.45666998624801636, 0.015619993209838867, 0.019999980926513672, 4.0], [0.534060001373291, 0.45666998624801636, 0.0981299877166748, 0.05555999279022217, 9.0], [0.5262500047683716, 0.471670001745224, 0.021250009536743164, 0.03222000598907471, 4.0]]\n",
            "Clipped:  [[0.73343998 0.57055998 0.15687001 0.20333001 4.        ]\n",
            " [0.48219001 0.46055999 0.01187998 0.01666999 4.        ]\n",
            " [0.24969    0.49111003 0.08187999 0.04889002 4.        ]\n",
            " [0.44187999 0.47778001 0.02749997 0.04443997 4.        ]\n",
            " [0.55500001 0.47667    0.01999998 0.03110999 4.        ]\n",
            " [0.45469001 0.47       0.01437998 0.02222002 4.        ]\n",
            " [0.0293725  0.70389003 0.058745   0.28999996 4.        ]\n",
            " [0.84561998 0.49833    0.14125001 0.09221998 9.        ]\n",
            " [0.91969001 0.61167002 0.16061997 0.37222004 4.        ]\n",
            " [0.44843999 0.45666999 0.01561999 0.01999998 4.        ]\n",
            " [0.53406    0.45666999 0.09812999 0.05555999 9.        ]\n",
            " [0.52625    0.47167    0.02125001 0.03222001 4.        ]]\n"
          ]
        }
      ]
    },
    {
      "cell_type": "code",
      "source": [
        "import os\n",
        "import numpy as np\n",
        "import torch\n",
        "\n",
        "\n",
        "num_anchors_per_scale = 3  # Adjust based on your model\n",
        "anchors = torch.tensor([[1.0, 2.0], [2.0, 3.0], [3.0, 4.0]])  # Example anchor dimensions\n",
        "\n",
        "\n",
        "def validate_box_coordinates(label_dir, annotations):\n",
        "    for index in range(len(annotations)):\n",
        "            # Load bounding boxes for the current index\n",
        "            label_path = os.path.join(label_dir, annotations.iloc[index, 1])\n",
        "            bboxes = np.roll(np.loadtxt(fname=label_path, delimiter=\" \", ndmin=2), 4, axis=1).tolist()\n",
        "            img_path = os.path.join(img_dir, annotations.iloc[index, 0])\n",
        "            image = np.array(Image.open(img_path).convert(\"RGB\"))\n",
        "            for box in bboxes:\n",
        "                x, y, width, height, class_id = box[:5]\n",
        "                iou_anchors = iou_width_height(torch.tensor(box[2:4]), anchors)\n",
        "                anchor_indices = iou_anchors.argsort(descending=True, dim=0)\n",
        "                has_anchor = [False, False, False]\n",
        "\n",
        "                for anchor_idx in anchor_indices:\n",
        "                    # Calculate scale and anchor indices\n",
        "                    scale_idx = anchor_idx // num_anchors_per_scale\n",
        "                    anchor_on_scale = anchor_idx % num_anchors_per_scale\n",
        "                    S_0 = S[scale_idx]\n",
        "                    i, j = int(S_0 * y), int(S_0 * x)\n",
        "                    anchor_taken = targets[scale_idx][anchor_on_scale, i, j, 0]\n",
        "                    if not anchor_taken and not has_anchor[scale_idx]:\n",
        "                        targets[scale_idx][anchor_on_scale, i, j, 0] = 1\n",
        "                        x_cell, y_cell = S_0 * x - j, S_0 * y - i\n",
        "                        width_cell, height_cell = width * S_0, height * S_0\n",
        "\n",
        "                        # Create box coordinates tensor\n",
        "                        box_coordinates = torch.tensor([x_cell, y_cell, width_cell, height_cell])\n",
        "\n",
        "                        targets[scale_idx][anchor_on_scale, i, j, 1:5] = box_coordinates\n",
        "                        targets[scale_idx][anchor_on_scale, i, j, 5] = int(class_label)\n",
        "                        has_anchor[scale_idx] = True\n",
        "                        print(targets[scale_idx][anchor_on_scale, i, j, 1:5])\n",
        "                    elif not anchor_taken and iou_anchors[anchor_idx] > 0.5:\n",
        "                        targets[scale_idx][anchor_on_scale, i, j, 0] = -1  # ignore prediction\n",
        "\n",
        "\n",
        "    return image, tuple(targets)\n",
        "\n",
        "# Run the validation\n",
        "hello = validate_box_coordinates(label_dir, annotations)\n"
      ],
      "metadata": {
        "id": "f5RL8SQDrIQ3"
      },
      "execution_count": null,
      "outputs": []
    },
    {
      "cell_type": "markdown",
      "source": [
        "# Try load checkpoint + Visualise"
      ],
      "metadata": {
        "id": "eJ2tHyELMEuM"
      }
    },
    {
      "cell_type": "code",
      "source": [
        "import torch\n",
        "from utils import load_checkpoint\n",
        "from config import DEVICE, IMAGE_SIZE\n",
        " # Replace with your model's class\n",
        "\n",
        "# Initialize the model\n",
        "model = YOLOv3(num_classes=8).to(DEVICE)  # Adjust num_classes based on your config\n",
        "\n",
        "# Load the checkpoint\n",
        "checkpoint_path = \"/content/drive/MyDrive/YOLOV3_Pytorch/checkpoint_P2_100.pth.tar\"\n",
        "\n",
        "checkpoint = torch.load(checkpoint_path, map_location=torch.device(DEVICE))\n",
        "model.load_state_dict(checkpoint['state_dict'])\n",
        "\n",
        "# Set the model to evaluation mode\n",
        "model.eval()\n",
        "# load_checkpoint(checkpoint_path, model, optimizer=None, lr=0)  # optimizer is optional\n",
        "# model.eval()"
      ],
      "metadata": {
        "colab": {
          "base_uri": "https://localhost:8080/"
        },
        "id": "_KweZPnZMJNF",
        "outputId": "6a1f0c40-0f3f-47f3-bb39-f4ea258a2fe2"
      },
      "execution_count": 12,
      "outputs": [
        {
          "output_type": "stream",
          "name": "stderr",
          "text": [
            "<ipython-input-12-bb3e79c2e6e8>:12: FutureWarning: You are using `torch.load` with `weights_only=False` (the current default value), which uses the default pickle module implicitly. It is possible to construct malicious pickle data which will execute arbitrary code during unpickling (See https://github.com/pytorch/pytorch/blob/main/SECURITY.md#untrusted-models for more details). In a future release, the default value for `weights_only` will be flipped to `True`. This limits the functions that could be executed during unpickling. Arbitrary objects will no longer be allowed to be loaded via this mode unless they are explicitly allowlisted by the user via `torch.serialization.add_safe_globals`. We recommend you start setting `weights_only=True` for any use case where you don't have full control of the loaded file. Please open an issue on GitHub for any issues related to this experimental feature.\n",
            "  checkpoint = torch.load(checkpoint_path, map_location=torch.device(DEVICE))\n"
          ]
        },
        {
          "output_type": "execute_result",
          "data": {
            "text/plain": [
              "YOLOv3(\n",
              "  (layers): ModuleList(\n",
              "    (0): CNNBlock(\n",
              "      (conv): Conv2d(3, 32, kernel_size=(3, 3), stride=(1, 1), padding=(1, 1), bias=False)\n",
              "      (bn): BatchNorm2d(32, eps=1e-05, momentum=0.1, affine=True, track_running_stats=True)\n",
              "      (leaky): LeakyReLU(negative_slope=0.1)\n",
              "    )\n",
              "    (1): CNNBlock(\n",
              "      (conv): Conv2d(32, 64, kernel_size=(3, 3), stride=(2, 2), padding=(1, 1), bias=False)\n",
              "      (bn): BatchNorm2d(64, eps=1e-05, momentum=0.1, affine=True, track_running_stats=True)\n",
              "      (leaky): LeakyReLU(negative_slope=0.1)\n",
              "    )\n",
              "    (2): ResidualBlock(\n",
              "      (layers): ModuleList(\n",
              "        (0): Sequential(\n",
              "          (0): CNNBlock(\n",
              "            (conv): Conv2d(64, 32, kernel_size=(1, 1), stride=(1, 1), bias=False)\n",
              "            (bn): BatchNorm2d(32, eps=1e-05, momentum=0.1, affine=True, track_running_stats=True)\n",
              "            (leaky): LeakyReLU(negative_slope=0.1)\n",
              "          )\n",
              "          (1): CNNBlock(\n",
              "            (conv): Conv2d(32, 64, kernel_size=(3, 3), stride=(1, 1), padding=(1, 1), bias=False)\n",
              "            (bn): BatchNorm2d(64, eps=1e-05, momentum=0.1, affine=True, track_running_stats=True)\n",
              "            (leaky): LeakyReLU(negative_slope=0.1)\n",
              "          )\n",
              "        )\n",
              "      )\n",
              "    )\n",
              "    (3): CNNBlock(\n",
              "      (conv): Conv2d(64, 128, kernel_size=(3, 3), stride=(2, 2), padding=(1, 1), bias=False)\n",
              "      (bn): BatchNorm2d(128, eps=1e-05, momentum=0.1, affine=True, track_running_stats=True)\n",
              "      (leaky): LeakyReLU(negative_slope=0.1)\n",
              "    )\n",
              "    (4): ResidualBlock(\n",
              "      (layers): ModuleList(\n",
              "        (0-1): 2 x Sequential(\n",
              "          (0): CNNBlock(\n",
              "            (conv): Conv2d(128, 64, kernel_size=(1, 1), stride=(1, 1), bias=False)\n",
              "            (bn): BatchNorm2d(64, eps=1e-05, momentum=0.1, affine=True, track_running_stats=True)\n",
              "            (leaky): LeakyReLU(negative_slope=0.1)\n",
              "          )\n",
              "          (1): CNNBlock(\n",
              "            (conv): Conv2d(64, 128, kernel_size=(3, 3), stride=(1, 1), padding=(1, 1), bias=False)\n",
              "            (bn): BatchNorm2d(128, eps=1e-05, momentum=0.1, affine=True, track_running_stats=True)\n",
              "            (leaky): LeakyReLU(negative_slope=0.1)\n",
              "          )\n",
              "        )\n",
              "      )\n",
              "    )\n",
              "    (5): CNNBlock(\n",
              "      (conv): Conv2d(128, 256, kernel_size=(3, 3), stride=(2, 2), padding=(1, 1), bias=False)\n",
              "      (bn): BatchNorm2d(256, eps=1e-05, momentum=0.1, affine=True, track_running_stats=True)\n",
              "      (leaky): LeakyReLU(negative_slope=0.1)\n",
              "    )\n",
              "    (6): ResidualBlock(\n",
              "      (layers): ModuleList(\n",
              "        (0-7): 8 x Sequential(\n",
              "          (0): CNNBlock(\n",
              "            (conv): Conv2d(256, 128, kernel_size=(1, 1), stride=(1, 1), bias=False)\n",
              "            (bn): BatchNorm2d(128, eps=1e-05, momentum=0.1, affine=True, track_running_stats=True)\n",
              "            (leaky): LeakyReLU(negative_slope=0.1)\n",
              "          )\n",
              "          (1): CNNBlock(\n",
              "            (conv): Conv2d(128, 256, kernel_size=(3, 3), stride=(1, 1), padding=(1, 1), bias=False)\n",
              "            (bn): BatchNorm2d(256, eps=1e-05, momentum=0.1, affine=True, track_running_stats=True)\n",
              "            (leaky): LeakyReLU(negative_slope=0.1)\n",
              "          )\n",
              "        )\n",
              "      )\n",
              "    )\n",
              "    (7): CNNBlock(\n",
              "      (conv): Conv2d(256, 512, kernel_size=(3, 3), stride=(2, 2), padding=(1, 1), bias=False)\n",
              "      (bn): BatchNorm2d(512, eps=1e-05, momentum=0.1, affine=True, track_running_stats=True)\n",
              "      (leaky): LeakyReLU(negative_slope=0.1)\n",
              "    )\n",
              "    (8): ResidualBlock(\n",
              "      (layers): ModuleList(\n",
              "        (0-7): 8 x Sequential(\n",
              "          (0): CNNBlock(\n",
              "            (conv): Conv2d(512, 256, kernel_size=(1, 1), stride=(1, 1), bias=False)\n",
              "            (bn): BatchNorm2d(256, eps=1e-05, momentum=0.1, affine=True, track_running_stats=True)\n",
              "            (leaky): LeakyReLU(negative_slope=0.1)\n",
              "          )\n",
              "          (1): CNNBlock(\n",
              "            (conv): Conv2d(256, 512, kernel_size=(3, 3), stride=(1, 1), padding=(1, 1), bias=False)\n",
              "            (bn): BatchNorm2d(512, eps=1e-05, momentum=0.1, affine=True, track_running_stats=True)\n",
              "            (leaky): LeakyReLU(negative_slope=0.1)\n",
              "          )\n",
              "        )\n",
              "      )\n",
              "    )\n",
              "    (9): CNNBlock(\n",
              "      (conv): Conv2d(512, 1024, kernel_size=(3, 3), stride=(2, 2), padding=(1, 1), bias=False)\n",
              "      (bn): BatchNorm2d(1024, eps=1e-05, momentum=0.1, affine=True, track_running_stats=True)\n",
              "      (leaky): LeakyReLU(negative_slope=0.1)\n",
              "    )\n",
              "    (10): ResidualBlock(\n",
              "      (layers): ModuleList(\n",
              "        (0-3): 4 x Sequential(\n",
              "          (0): CNNBlock(\n",
              "            (conv): Conv2d(1024, 512, kernel_size=(1, 1), stride=(1, 1), bias=False)\n",
              "            (bn): BatchNorm2d(512, eps=1e-05, momentum=0.1, affine=True, track_running_stats=True)\n",
              "            (leaky): LeakyReLU(negative_slope=0.1)\n",
              "          )\n",
              "          (1): CNNBlock(\n",
              "            (conv): Conv2d(512, 1024, kernel_size=(3, 3), stride=(1, 1), padding=(1, 1), bias=False)\n",
              "            (bn): BatchNorm2d(1024, eps=1e-05, momentum=0.1, affine=True, track_running_stats=True)\n",
              "            (leaky): LeakyReLU(negative_slope=0.1)\n",
              "          )\n",
              "        )\n",
              "      )\n",
              "    )\n",
              "    (11): CNNBlock(\n",
              "      (conv): Conv2d(1024, 512, kernel_size=(1, 1), stride=(1, 1), bias=False)\n",
              "      (bn): BatchNorm2d(512, eps=1e-05, momentum=0.1, affine=True, track_running_stats=True)\n",
              "      (leaky): LeakyReLU(negative_slope=0.1)\n",
              "    )\n",
              "    (12): CNNBlock(\n",
              "      (conv): Conv2d(512, 1024, kernel_size=(3, 3), stride=(1, 1), padding=(1, 1), bias=False)\n",
              "      (bn): BatchNorm2d(1024, eps=1e-05, momentum=0.1, affine=True, track_running_stats=True)\n",
              "      (leaky): LeakyReLU(negative_slope=0.1)\n",
              "    )\n",
              "    (13): ResidualBlock(\n",
              "      (layers): ModuleList(\n",
              "        (0): Sequential(\n",
              "          (0): CNNBlock(\n",
              "            (conv): Conv2d(1024, 512, kernel_size=(1, 1), stride=(1, 1), bias=False)\n",
              "            (bn): BatchNorm2d(512, eps=1e-05, momentum=0.1, affine=True, track_running_stats=True)\n",
              "            (leaky): LeakyReLU(negative_slope=0.1)\n",
              "          )\n",
              "          (1): CNNBlock(\n",
              "            (conv): Conv2d(512, 1024, kernel_size=(3, 3), stride=(1, 1), padding=(1, 1), bias=False)\n",
              "            (bn): BatchNorm2d(1024, eps=1e-05, momentum=0.1, affine=True, track_running_stats=True)\n",
              "            (leaky): LeakyReLU(negative_slope=0.1)\n",
              "          )\n",
              "        )\n",
              "      )\n",
              "    )\n",
              "    (14): CNNBlock(\n",
              "      (conv): Conv2d(1024, 512, kernel_size=(1, 1), stride=(1, 1), bias=False)\n",
              "      (bn): BatchNorm2d(512, eps=1e-05, momentum=0.1, affine=True, track_running_stats=True)\n",
              "      (leaky): LeakyReLU(negative_slope=0.1)\n",
              "    )\n",
              "    (15): ScalePrediction(\n",
              "      (pred): Sequential(\n",
              "        (0): CNNBlock(\n",
              "          (conv): Conv2d(512, 1024, kernel_size=(3, 3), stride=(1, 1), padding=(1, 1), bias=False)\n",
              "          (bn): BatchNorm2d(1024, eps=1e-05, momentum=0.1, affine=True, track_running_stats=True)\n",
              "          (leaky): LeakyReLU(negative_slope=0.1)\n",
              "        )\n",
              "        (1): CNNBlock(\n",
              "          (conv): Conv2d(1024, 39, kernel_size=(1, 1), stride=(1, 1))\n",
              "          (bn): BatchNorm2d(39, eps=1e-05, momentum=0.1, affine=True, track_running_stats=True)\n",
              "          (leaky): LeakyReLU(negative_slope=0.1)\n",
              "        )\n",
              "      )\n",
              "    )\n",
              "    (16): CNNBlock(\n",
              "      (conv): Conv2d(512, 256, kernel_size=(1, 1), stride=(1, 1), bias=False)\n",
              "      (bn): BatchNorm2d(256, eps=1e-05, momentum=0.1, affine=True, track_running_stats=True)\n",
              "      (leaky): LeakyReLU(negative_slope=0.1)\n",
              "    )\n",
              "    (17): Upsample(scale_factor=2.0, mode='nearest')\n",
              "    (18): CNNBlock(\n",
              "      (conv): Conv2d(768, 256, kernel_size=(1, 1), stride=(1, 1), bias=False)\n",
              "      (bn): BatchNorm2d(256, eps=1e-05, momentum=0.1, affine=True, track_running_stats=True)\n",
              "      (leaky): LeakyReLU(negative_slope=0.1)\n",
              "    )\n",
              "    (19): CNNBlock(\n",
              "      (conv): Conv2d(256, 512, kernel_size=(3, 3), stride=(1, 1), padding=(1, 1), bias=False)\n",
              "      (bn): BatchNorm2d(512, eps=1e-05, momentum=0.1, affine=True, track_running_stats=True)\n",
              "      (leaky): LeakyReLU(negative_slope=0.1)\n",
              "    )\n",
              "    (20): ResidualBlock(\n",
              "      (layers): ModuleList(\n",
              "        (0): Sequential(\n",
              "          (0): CNNBlock(\n",
              "            (conv): Conv2d(512, 256, kernel_size=(1, 1), stride=(1, 1), bias=False)\n",
              "            (bn): BatchNorm2d(256, eps=1e-05, momentum=0.1, affine=True, track_running_stats=True)\n",
              "            (leaky): LeakyReLU(negative_slope=0.1)\n",
              "          )\n",
              "          (1): CNNBlock(\n",
              "            (conv): Conv2d(256, 512, kernel_size=(3, 3), stride=(1, 1), padding=(1, 1), bias=False)\n",
              "            (bn): BatchNorm2d(512, eps=1e-05, momentum=0.1, affine=True, track_running_stats=True)\n",
              "            (leaky): LeakyReLU(negative_slope=0.1)\n",
              "          )\n",
              "        )\n",
              "      )\n",
              "    )\n",
              "    (21): CNNBlock(\n",
              "      (conv): Conv2d(512, 256, kernel_size=(1, 1), stride=(1, 1), bias=False)\n",
              "      (bn): BatchNorm2d(256, eps=1e-05, momentum=0.1, affine=True, track_running_stats=True)\n",
              "      (leaky): LeakyReLU(negative_slope=0.1)\n",
              "    )\n",
              "    (22): ScalePrediction(\n",
              "      (pred): Sequential(\n",
              "        (0): CNNBlock(\n",
              "          (conv): Conv2d(256, 512, kernel_size=(3, 3), stride=(1, 1), padding=(1, 1), bias=False)\n",
              "          (bn): BatchNorm2d(512, eps=1e-05, momentum=0.1, affine=True, track_running_stats=True)\n",
              "          (leaky): LeakyReLU(negative_slope=0.1)\n",
              "        )\n",
              "        (1): CNNBlock(\n",
              "          (conv): Conv2d(512, 39, kernel_size=(1, 1), stride=(1, 1))\n",
              "          (bn): BatchNorm2d(39, eps=1e-05, momentum=0.1, affine=True, track_running_stats=True)\n",
              "          (leaky): LeakyReLU(negative_slope=0.1)\n",
              "        )\n",
              "      )\n",
              "    )\n",
              "    (23): CNNBlock(\n",
              "      (conv): Conv2d(256, 128, kernel_size=(1, 1), stride=(1, 1), bias=False)\n",
              "      (bn): BatchNorm2d(128, eps=1e-05, momentum=0.1, affine=True, track_running_stats=True)\n",
              "      (leaky): LeakyReLU(negative_slope=0.1)\n",
              "    )\n",
              "    (24): Upsample(scale_factor=2.0, mode='nearest')\n",
              "    (25): CNNBlock(\n",
              "      (conv): Conv2d(384, 128, kernel_size=(1, 1), stride=(1, 1), bias=False)\n",
              "      (bn): BatchNorm2d(128, eps=1e-05, momentum=0.1, affine=True, track_running_stats=True)\n",
              "      (leaky): LeakyReLU(negative_slope=0.1)\n",
              "    )\n",
              "    (26): CNNBlock(\n",
              "      (conv): Conv2d(128, 256, kernel_size=(3, 3), stride=(1, 1), padding=(1, 1), bias=False)\n",
              "      (bn): BatchNorm2d(256, eps=1e-05, momentum=0.1, affine=True, track_running_stats=True)\n",
              "      (leaky): LeakyReLU(negative_slope=0.1)\n",
              "    )\n",
              "    (27): ResidualBlock(\n",
              "      (layers): ModuleList(\n",
              "        (0): Sequential(\n",
              "          (0): CNNBlock(\n",
              "            (conv): Conv2d(256, 128, kernel_size=(1, 1), stride=(1, 1), bias=False)\n",
              "            (bn): BatchNorm2d(128, eps=1e-05, momentum=0.1, affine=True, track_running_stats=True)\n",
              "            (leaky): LeakyReLU(negative_slope=0.1)\n",
              "          )\n",
              "          (1): CNNBlock(\n",
              "            (conv): Conv2d(128, 256, kernel_size=(3, 3), stride=(1, 1), padding=(1, 1), bias=False)\n",
              "            (bn): BatchNorm2d(256, eps=1e-05, momentum=0.1, affine=True, track_running_stats=True)\n",
              "            (leaky): LeakyReLU(negative_slope=0.1)\n",
              "          )\n",
              "        )\n",
              "      )\n",
              "    )\n",
              "    (28): CNNBlock(\n",
              "      (conv): Conv2d(256, 128, kernel_size=(1, 1), stride=(1, 1), bias=False)\n",
              "      (bn): BatchNorm2d(128, eps=1e-05, momentum=0.1, affine=True, track_running_stats=True)\n",
              "      (leaky): LeakyReLU(negative_slope=0.1)\n",
              "    )\n",
              "    (29): ScalePrediction(\n",
              "      (pred): Sequential(\n",
              "        (0): CNNBlock(\n",
              "          (conv): Conv2d(128, 256, kernel_size=(3, 3), stride=(1, 1), padding=(1, 1), bias=False)\n",
              "          (bn): BatchNorm2d(256, eps=1e-05, momentum=0.1, affine=True, track_running_stats=True)\n",
              "          (leaky): LeakyReLU(negative_slope=0.1)\n",
              "        )\n",
              "        (1): CNNBlock(\n",
              "          (conv): Conv2d(256, 39, kernel_size=(1, 1), stride=(1, 1))\n",
              "          (bn): BatchNorm2d(39, eps=1e-05, momentum=0.1, affine=True, track_running_stats=True)\n",
              "          (leaky): LeakyReLU(negative_slope=0.1)\n",
              "        )\n",
              "      )\n",
              "    )\n",
              "  )\n",
              ")"
            ]
          },
          "metadata": {},
          "execution_count": 12
        }
      ]
    },
    {
      "cell_type": "code",
      "source": [
        "from utils import cells_to_bboxes, non_max_suppression\n",
        "\n",
        "def get_single_image_bboxes(model, image, anchors, iou_threshold=0.5, conf_threshold=0.5, device=\"cuda\"):\n",
        "    model.eval()\n",
        "    image = image.to(device).unsqueeze(0)  # Add batch dimension\n",
        "\n",
        "    with torch.no_grad():\n",
        "        predictions = model(image)\n",
        "\n",
        "    bboxes = []\n",
        "    for i in range(3):  # For each scale\n",
        "        S = predictions[i].shape[2]\n",
        "        anchor = torch.tensor(anchors[i]).to(device) * S\n",
        "        boxes_scale_i = cells_to_bboxes(predictions[i], anchor, S=S, is_preds=True)\n",
        "        bboxes += boxes_scale_i[0]  # Get the boxes for the first image in the batch\n",
        "\n",
        "    # Apply NMS\n",
        "    final_boxes = non_max_suppression(bboxes, iou_threshold=iou_threshold, threshold=conf_threshold, box_format=\"midpoint\")\n",
        "\n",
        "    return final_boxes\n"
      ],
      "metadata": {
        "id": "s278CKY39uli"
      },
      "execution_count": 13,
      "outputs": []
    },
    {
      "cell_type": "code",
      "source": [
        "classes = config.MY_CLASSES\n",
        "import cv2\n",
        "import matplotlib.pyplot as plt\n",
        "\n",
        "# Function to draw bounding boxes on the image\n",
        "def draw_bboxes(image, bboxes, class_names):\n",
        "    for bbox in bboxes:\n",
        "        class_id,confidence, x_center, y_center, width, height = bbox\n",
        "\n",
        "        # Convert YOLO midpoint format (x_center, y_center, width, height) to top-left format (x_min, y_min)\n",
        "        img_h, img_w, _ = image.shape\n",
        "        x_min = int((x_center - width / 2) * img_w)\n",
        "        y_min = int((y_center - height / 2) * img_h)\n",
        "        box_width = int(width * img_w)\n",
        "        box_height = int(height * img_h)\n",
        "\n",
        "        # Draw the rectangle\n",
        "        cv2.rectangle(image, (x_min, y_min), (x_min + box_width, y_min + box_height), (0, 255, 0), 2)\n",
        "\n",
        "        # Add label\n",
        "        label = f\"{class_names[int(class_id)]}: {confidence:.2f}\"\n",
        "        cv2.putText(image, label, (x_min, y_min - 10), cv2.FONT_HERSHEY_SIMPLEX, 0.5, (0, 255, 0), 2)\n",
        "\n",
        "    # Show the image using Matplotlib\n",
        "    plt.imshow(image)\n",
        "    plt.axis(\"off\")\n",
        "    plt.show()\n",
        "\n",
        "\n"
      ],
      "metadata": {
        "id": "aEz4fvYM-b9W"
      },
      "execution_count": 14,
      "outputs": []
    },
    {
      "cell_type": "code",
      "source": [
        "import cv2\n",
        "from albumentations import Compose, Resize, Normalize\n",
        "from albumentations.pytorch import ToTensorV2\n",
        "import os\n",
        "import albumentations as A\n",
        "\n",
        "# Define preprocessing pipeline\n",
        "preprocess = A.Compose([\n",
        "    A.Resize(height=config.IMAGE_SIZE, width=config.IMAGE_SIZE),\n",
        "    A.Normalize(mean=[0, 0, 0], std=[1, 1, 1], max_pixel_value=255),\n",
        "    ToTensorV2(),\n",
        "])\n",
        "\n",
        "\n",
        "image_dataset = \"/content/drive/MyDrive/datasets/Nuim_dataset/images\"\n",
        "# list_of_images = os.listdir(image_dataset)\n",
        "image_name = \"00000908.jpg\"\n",
        "# Load and preprocess the image\n",
        "image_path = image_dataset + \"/\" + image_name\n",
        "image = cv2.imread(image_path)\n",
        "# print(type(image))\n",
        "image = cv2.cvtColor(image, cv2.COLOR_BGR2RGB)\n",
        "augmented = preprocess(image=image)\n",
        "image_tensor = augmented[\"image\"]\n",
        "\n",
        "# Example usage\n",
        "image_tensor = image_tensor  # Your preprocessed image tensor\n",
        "anchors = config.ANCHORS\n",
        "\n",
        "bboxes = get_single_image_bboxes(model, image_tensor, anchors)\n",
        "# Example usage\n",
        "draw_bboxes(image, bboxes, config.MY_CLASSES)\n"
      ],
      "metadata": {
        "colab": {
          "base_uri": "https://localhost:8080/",
          "height": 316
        },
        "id": "OYJjsWDkOrCp",
        "outputId": "72fdb177-6e90-432b-8785-13cc99f8e85f"
      },
      "execution_count": 16,
      "outputs": [
        {
          "output_type": "display_data",
          "data": {
            "text/plain": [
              "<Figure size 640x480 with 1 Axes>"
            ],
            "image/png": "[encoded data removed]"
          },
          "metadata": {}
        }
      ]
    }
  ]
}